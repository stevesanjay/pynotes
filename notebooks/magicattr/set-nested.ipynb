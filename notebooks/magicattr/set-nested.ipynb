{
 "cells": [
  {
   "cell_type": "code",
   "execution_count": 15,
   "id": "100498e1-6e32-46b7-afe2-320f9c4af50f",
   "metadata": {},
   "outputs": [],
   "source": [
    "from magicattr import set"
   ]
  },
  {
   "cell_type": "code",
   "execution_count": 16,
   "id": "312fc03b-7e10-49e3-a4f8-655c5b64bba9",
   "metadata": {},
   "outputs": [],
   "source": [
    "class Theme:\n",
    "    def __init__(self, color):\n",
    "        self.color = color"
   ]
  },
  {
   "cell_type": "code",
   "execution_count": 17,
   "id": "d0e61918-9d1f-488f-aeb2-59ae56bb2904",
   "metadata": {},
   "outputs": [],
   "source": [
    "class Config:\n",
    "    def __init__(self):\n",
    "        self.theme = Theme(\"blue\")"
   ]
  },
  {
   "cell_type": "code",
   "execution_count": 18,
   "id": "489b3ca7-d256-4747-aa73-e8919bf1a092",
   "metadata": {},
   "outputs": [],
   "source": [
    "config = Config()"
   ]
  },
  {
   "cell_type": "code",
   "execution_count": 19,
   "id": "eb7c9ca6-9f00-47c1-bbb9-563536a4b822",
   "metadata": {},
   "outputs": [],
   "source": [
    "set(config, \"theme.color\", \"red\")"
   ]
  },
  {
   "cell_type": "code",
   "execution_count": 20,
   "id": "4af4216e-d18f-480b-afab-c2489b034ef2",
   "metadata": {},
   "outputs": [
    {
     "name": "stdout",
     "output_type": "stream",
     "text": [
      "red\n"
     ]
    }
   ],
   "source": [
    "print(config.theme.color) "
   ]
  },
  {
   "cell_type": "code",
   "execution_count": null,
   "id": "18ff5a0b-8eb5-4d99-8392-9fe4e30f064b",
   "metadata": {},
   "outputs": [],
   "source": []
  }
 ],
 "metadata": {
  "kernelspec": {
   "display_name": "Python 3 (ipykernel)",
   "language": "python",
   "name": "python3"
  },
  "language_info": {
   "codemirror_mode": {
    "name": "ipython",
    "version": 3
   },
   "file_extension": ".py",
   "mimetype": "text/x-python",
   "name": "python",
   "nbconvert_exporter": "python",
   "pygments_lexer": "ipython3",
   "version": "3.12.4"
  }
 },
 "nbformat": 4,
 "nbformat_minor": 5
}
