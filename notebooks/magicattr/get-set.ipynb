{
 "cells": [
  {
   "cell_type": "code",
   "execution_count": 27,
   "id": "bd1157bf-4a1f-4eb1-a5f0-30ecda2bd25e",
   "metadata": {},
   "outputs": [],
   "source": [
    "# Combine Get and Set for Dynamic Operations"
   ]
  },
  {
   "cell_type": "code",
   "execution_count": 28,
   "id": "a65cd494-89eb-4abb-8655-bb6977e97230",
   "metadata": {},
   "outputs": [],
   "source": [
    "from magicattr import get, set\n"
   ]
  },
  {
   "cell_type": "code",
   "execution_count": 29,
   "id": "4846a250-5183-4f73-8065-8435be3de4b3",
   "metadata": {},
   "outputs": [],
   "source": [
    "class Values:\n",
    "    def __init__(self, count):\n",
    "        self.count = count"
   ]
  },
  {
   "cell_type": "code",
   "execution_count": 30,
   "id": "19e8a6aa-b1f0-4fd0-8870-089fbb8c34fc",
   "metadata": {},
   "outputs": [],
   "source": [
    "class Data:\n",
    "    def __init__(self):\n",
    "        self.values = Values(5)"
   ]
  },
  {
   "cell_type": "code",
   "execution_count": 31,
   "id": "bde1f22c-e9f2-46cf-b042-ecbb5f85e34a",
   "metadata": {},
   "outputs": [],
   "source": [
    "data = Data()"
   ]
  },
  {
   "cell_type": "code",
   "execution_count": 32,
   "id": "1ba66b97-772a-4ce7-98a9-e455c6b9e8dc",
   "metadata": {},
   "outputs": [],
   "source": [
    "current_count = get(data, \"values.count\")\n",
    "set(data, \"values.count\", current_count * 2)"
   ]
  },
  {
   "cell_type": "code",
   "execution_count": 33,
   "id": "dcca47ca-4960-4e61-a952-21b5c25ef6d9",
   "metadata": {},
   "outputs": [
    {
     "name": "stdout",
     "output_type": "stream",
     "text": [
      "10\n"
     ]
    }
   ],
   "source": [
    "print(data.values.count)"
   ]
  },
  {
   "cell_type": "code",
   "execution_count": null,
   "id": "33130382-41a8-4805-81e2-a0c505517ce9",
   "metadata": {},
   "outputs": [],
   "source": []
  },
  {
   "cell_type": "code",
   "execution_count": null,
   "id": "c7610869-c1ba-409d-b7d0-2e107e44fdbe",
   "metadata": {},
   "outputs": [],
   "source": []
  }
 ],
 "metadata": {
  "kernelspec": {
   "display_name": "Python 3 (ipykernel)",
   "language": "python",
   "name": "python3"
  },
  "language_info": {
   "codemirror_mode": {
    "name": "ipython",
    "version": 3
   },
   "file_extension": ".py",
   "mimetype": "text/x-python",
   "name": "python",
   "nbconvert_exporter": "python",
   "pygments_lexer": "ipython3",
   "version": "3.12.4"
  }
 },
 "nbformat": 4,
 "nbformat_minor": 5
}
