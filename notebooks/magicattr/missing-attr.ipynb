{
 "cells": [
  {
   "cell_type": "code",
   "execution_count": 11,
   "id": "2c223e66-0b5a-4b8f-acf0-1c9289afabbe",
   "metadata": {},
   "outputs": [],
   "source": [
    "# Handle Missing Attributes Gracefully"
   ]
  },
  {
   "cell_type": "code",
   "execution_count": 12,
   "id": "407bf46b-5d3d-4de6-8ae2-6201531088a6",
   "metadata": {},
   "outputs": [],
   "source": [
    "from magicattr import get"
   ]
  },
  {
   "cell_type": "code",
   "execution_count": 13,
   "id": "0c6c5d96-044b-48c0-a5ca-7af8f360b117",
   "metadata": {},
   "outputs": [],
   "source": [
    "class System:\n",
    "    pass"
   ]
  },
  {
   "cell_type": "code",
   "execution_count": 14,
   "id": "6563949b-12b3-427e-81b3-554112fa27cc",
   "metadata": {},
   "outputs": [],
   "source": [
    "system = System()"
   ]
  },
  {
   "cell_type": "code",
   "execution_count": 15,
   "id": "6d5bffcb-a48e-472d-99e1-ba5d63a7f52d",
   "metadata": {},
   "outputs": [],
   "source": [
    "value = get(system, \"non_existent_attr\", default=\"Not Found\")"
   ]
  },
  {
   "cell_type": "code",
   "execution_count": 16,
   "id": "b8763a5b-035d-4829-b163-2761ea6f692e",
   "metadata": {},
   "outputs": [
    {
     "data": {
      "text/plain": [
       "'Not Found'"
      ]
     },
     "execution_count": 16,
     "metadata": {},
     "output_type": "execute_result"
    }
   ],
   "source": [
    "value"
   ]
  },
  {
   "cell_type": "code",
   "execution_count": null,
   "id": "119c545c-fe79-4045-a4d9-871681787722",
   "metadata": {},
   "outputs": [],
   "source": []
  }
 ],
 "metadata": {
  "kernelspec": {
   "display_name": "Python 3 (ipykernel)",
   "language": "python",
   "name": "python3"
  },
  "language_info": {
   "codemirror_mode": {
    "name": "ipython",
    "version": 3
   },
   "file_extension": ".py",
   "mimetype": "text/x-python",
   "name": "python",
   "nbconvert_exporter": "python",
   "pygments_lexer": "ipython3",
   "version": "3.12.4"
  }
 },
 "nbformat": 4,
 "nbformat_minor": 5
}
