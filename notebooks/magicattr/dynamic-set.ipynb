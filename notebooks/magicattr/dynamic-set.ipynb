{
 "cells": [
  {
   "cell_type": "code",
   "execution_count": 2,
   "id": "d06c2995-cfa5-44e8-91f9-17f624fc81e9",
   "metadata": {},
   "outputs": [],
   "source": [
    "# Set Attributes Dynamically in a Class"
   ]
  },
  {
   "cell_type": "code",
   "execution_count": 3,
   "id": "7b05c756-8f9b-448f-9684-b547bd82faca",
   "metadata": {},
   "outputs": [],
   "source": [
    "from magicattr import set"
   ]
  },
  {
   "cell_type": "code",
   "execution_count": 4,
   "id": "4d1de2ce-f1cf-4dca-b297-df0323021580",
   "metadata": {},
   "outputs": [],
   "source": [
    "class User:\n",
    "    def __init__(self, name, age):\n",
    "        self.name = name\n",
    "        self.age = age"
   ]
  },
  {
   "cell_type": "code",
   "execution_count": 5,
   "id": "54389b9c-4aba-4d0d-88c3-4d594cdc5a77",
   "metadata": {},
   "outputs": [],
   "source": [
    "user = User(\"Alice\", 25)"
   ]
  },
  {
   "cell_type": "code",
   "execution_count": 6,
   "id": "37649615-3278-450f-8374-592bb49ab440",
   "metadata": {},
   "outputs": [],
   "source": [
    "set(user, \"name\", \"Bob\")"
   ]
  },
  {
   "cell_type": "code",
   "execution_count": 7,
   "id": "8cc62c31-0d2e-4394-8a67-81aea55f2734",
   "metadata": {},
   "outputs": [
    {
     "name": "stdout",
     "output_type": "stream",
     "text": [
      "Bob\n"
     ]
    }
   ],
   "source": [
    "print(user.name) "
   ]
  },
  {
   "cell_type": "code",
   "execution_count": null,
   "id": "8fd4b242-4c16-48c6-8a44-1b9b617b81fa",
   "metadata": {},
   "outputs": [],
   "source": []
  }
 ],
 "metadata": {
  "kernelspec": {
   "display_name": "Python 3 (ipykernel)",
   "language": "python",
   "name": "python3"
  },
  "language_info": {
   "codemirror_mode": {
    "name": "ipython",
    "version": 3
   },
   "file_extension": ".py",
   "mimetype": "text/x-python",
   "name": "python",
   "nbconvert_exporter": "python",
   "pygments_lexer": "ipython3",
   "version": "3.12.4"
  }
 },
 "nbformat": 4,
 "nbformat_minor": 5
}
