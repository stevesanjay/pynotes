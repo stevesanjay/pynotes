{
 "cells": [
  {
   "cell_type": "code",
   "execution_count": 1,
   "id": "824bcc19-322e-486e-86bd-3c0fec17b027",
   "metadata": {},
   "outputs": [],
   "source": [
    " # Default Value if Attribute Does Not Exist\n"
   ]
  },
  {
   "cell_type": "code",
   "execution_count": 5,
   "id": "1becef91-5308-4ac4-8a4b-7910764eacf0",
   "metadata": {},
   "outputs": [],
   "source": [
    "from magicattr import get"
   ]
  },
  {
   "cell_type": "code",
   "execution_count": 6,
   "id": "c8fe6644-110f-4d4c-898d-61e92f745c7a",
   "metadata": {},
   "outputs": [],
   "source": [
    "class Example:\n",
    "    def __init__(self):\n",
    "        self.value = 42\n"
   ]
  },
  {
   "cell_type": "code",
   "execution_count": 7,
   "id": "148d3f22-c8ea-439d-b681-02b0e9935ba7",
   "metadata": {},
   "outputs": [],
   "source": [
    "example = Example()"
   ]
  },
  {
   "cell_type": "code",
   "execution_count": 8,
   "id": "957cf73e-cabb-4d75-8745-2bf0313fbf68",
   "metadata": {},
   "outputs": [],
   "source": [
    "result = get(example, \"non_existent_attribute\", default=\"Default Value\")"
   ]
  },
  {
   "cell_type": "code",
   "execution_count": 9,
   "id": "a0a53d8f-6261-43f6-b824-f7301e07f9cd",
   "metadata": {},
   "outputs": [
    {
     "data": {
      "text/plain": [
       "'Default Value'"
      ]
     },
     "execution_count": 9,
     "metadata": {},
     "output_type": "execute_result"
    }
   ],
   "source": [
    "result"
   ]
  },
  {
   "cell_type": "code",
   "execution_count": null,
   "id": "2b371494-856e-4562-baf7-bae169b88aad",
   "metadata": {},
   "outputs": [],
   "source": []
  }
 ],
 "metadata": {
  "kernelspec": {
   "display_name": "Python 3 (ipykernel)",
   "language": "python",
   "name": "python3"
  },
  "language_info": {
   "codemirror_mode": {
    "name": "ipython",
    "version": 3
   },
   "file_extension": ".py",
   "mimetype": "text/x-python",
   "name": "python",
   "nbconvert_exporter": "python",
   "pygments_lexer": "ipython3",
   "version": "3.12.4"
  }
 },
 "nbformat": 4,
 "nbformat_minor": 5
}
