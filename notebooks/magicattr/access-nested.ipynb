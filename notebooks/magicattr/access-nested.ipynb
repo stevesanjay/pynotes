{
 "cells": [
  {
   "cell_type": "code",
   "execution_count": 1,
   "id": "4d5367c0-c978-47e7-a666-141f0a1f9974",
   "metadata": {},
   "outputs": [],
   "source": [
    "# Access Nested Attributes"
   ]
  },
  {
   "cell_type": "code",
   "execution_count": 2,
   "id": "06e215b5-b992-4c49-ae4b-15e17945b4e7",
   "metadata": {},
   "outputs": [],
   "source": [
    "from magicattr import get"
   ]
  },
  {
   "cell_type": "code",
   "execution_count": 3,
   "id": "6e6bc4b5-057c-4b0b-8d7e-952b2be37165",
   "metadata": {},
   "outputs": [],
   "source": [
    "class Address:\n",
    "    def __init__(self, city):\n",
    "        self.city = city"
   ]
  },
  {
   "cell_type": "code",
   "execution_count": 4,
   "id": "b340c2e9-2900-4d30-9f0b-859d2bc84621",
   "metadata": {},
   "outputs": [],
   "source": [
    "class Person:\n",
    "    def __init__(self, name, address):\n",
    "        self.name = name\n",
    "        self.address = address"
   ]
  },
  {
   "cell_type": "code",
   "execution_count": 5,
   "id": "78172ba9-6ce5-497f-9816-56575a7556b9",
   "metadata": {},
   "outputs": [],
   "source": [
    "address = Address(\"coimbatore\")"
   ]
  },
  {
   "cell_type": "code",
   "execution_count": 7,
   "id": "32f90cb0-6128-429d-9c14-95dfd77c7dd7",
   "metadata": {},
   "outputs": [],
   "source": [
    "person  = Person(\"steve\", address)"
   ]
  },
  {
   "cell_type": "code",
   "execution_count": 12,
   "id": "35426961-b751-4552-9a9a-cd33f62bcba7",
   "metadata": {},
   "outputs": [],
   "source": [
    "city  = get(person, \"address.city\")"
   ]
  },
  {
   "cell_type": "code",
   "execution_count": 13,
   "id": "bc389ac6-3ca9-4701-a041-776fc501c869",
   "metadata": {},
   "outputs": [
    {
     "data": {
      "text/plain": [
       "'coimbatore'"
      ]
     },
     "execution_count": 13,
     "metadata": {},
     "output_type": "execute_result"
    }
   ],
   "source": [
    "city"
   ]
  },
  {
   "cell_type": "code",
   "execution_count": null,
   "id": "6e2e1ad2-3af5-43ad-899a-56a719abe294",
   "metadata": {},
   "outputs": [],
   "source": []
  }
 ],
 "metadata": {
  "kernelspec": {
   "display_name": "Python 3 (ipykernel)",
   "language": "python",
   "name": "python3"
  },
  "language_info": {
   "codemirror_mode": {
    "name": "ipython",
    "version": 3
   },
   "file_extension": ".py",
   "mimetype": "text/x-python",
   "name": "python",
   "nbconvert_exporter": "python",
   "pygments_lexer": "ipython3",
   "version": "3.12.4"
  }
 },
 "nbformat": 4,
 "nbformat_minor": 5
}
