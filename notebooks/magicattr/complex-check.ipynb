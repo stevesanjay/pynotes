{
 "cells": [
  {
   "cell_type": "code",
   "execution_count": 1,
   "id": "5e00e2f7-2578-4eb3-94c5-7f63d7db7a29",
   "metadata": {},
   "outputs": [],
   "source": [
    "# Check Attribute in a Complex Structure"
   ]
  },
  {
   "cell_type": "code",
   "execution_count": 3,
   "id": "76f9a7fd-39d8-4ef9-9aac-e68511355e81",
   "metadata": {},
   "outputs": [
    {
     "name": "stdout",
     "output_type": "stream",
     "text": [
      "Requirement already satisfied: magicattr in /usr/local/Caskroom/miniconda/base/envs/py312/lib/python3.12/site-packages (0.1.6)\n"
     ]
    }
   ],
   "source": [
    "!pip install magicattr"
   ]
  },
  {
   "cell_type": "code",
   "execution_count": 6,
   "id": "11d2f079-df2b-4382-9701-efba8f80663c",
   "metadata": {},
   "outputs": [],
   "source": [
    "from magicattr import get\n"
   ]
  },
  {
   "cell_type": "code",
   "execution_count": 7,
   "id": "347c4706-e275-490f-96ed-574afd12d12d",
   "metadata": {},
   "outputs": [],
   "source": [
    "class A:\n",
    "    def __init__(self, value):\n",
    "        self.value = value\n"
   ]
  },
  {
   "cell_type": "code",
   "execution_count": 8,
   "id": "21dca09c-6902-4e54-8b60-2ec627b1369c",
   "metadata": {},
   "outputs": [],
   "source": [
    "class B:\n",
    "    def __init__(self, a):\n",
    "        self.a = a"
   ]
  },
  {
   "cell_type": "code",
   "execution_count": 9,
   "id": "59239d94-3c15-4ffa-8b56-446cc7609168",
   "metadata": {},
   "outputs": [],
   "source": [
    "b = B(A(42))"
   ]
  },
  {
   "cell_type": "code",
   "execution_count": 10,
   "id": "f057a8d0-8e1d-4a34-9c7a-bf99954dcb7a",
   "metadata": {},
   "outputs": [],
   "source": [
    "def has(obj, attr_path):\n",
    "    try:\n",
    "        get(obj, attr_path)\n",
    "        return True\n",
    "    except AttributeError:\n",
    "        return False"
   ]
  },
  {
   "cell_type": "code",
   "execution_count": 11,
   "id": "7aefc516-8a65-4507-890d-cbbc6ad6d23e",
   "metadata": {},
   "outputs": [],
   "source": [
    "exists = has(b, \"a.value\")"
   ]
  },
  {
   "cell_type": "code",
   "execution_count": 12,
   "id": "9a9b9f89-c7ab-4b46-b176-f59f8afab159",
   "metadata": {},
   "outputs": [
    {
     "data": {
      "text/plain": [
       "True"
      ]
     },
     "execution_count": 12,
     "metadata": {},
     "output_type": "execute_result"
    }
   ],
   "source": [
    "exists"
   ]
  },
  {
   "cell_type": "code",
   "execution_count": null,
   "id": "4005ee0c-7c41-4ecc-a306-81c5cdffdc76",
   "metadata": {},
   "outputs": [],
   "source": []
  }
 ],
 "metadata": {
  "kernelspec": {
   "display_name": "Python 3 (ipykernel)",
   "language": "python",
   "name": "python3"
  },
  "language_info": {
   "codemirror_mode": {
    "name": "ipython",
    "version": 3
   },
   "file_extension": ".py",
   "mimetype": "text/x-python",
   "name": "python",
   "nbconvert_exporter": "python",
   "pygments_lexer": "ipython3",
   "version": "3.12.4"
  }
 },
 "nbformat": 4,
 "nbformat_minor": 5
}
