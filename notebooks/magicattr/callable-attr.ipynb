{
 "cells": [
  {
   "cell_type": "code",
   "execution_count": 1,
   "id": "c840cc12-3027-4562-8eed-a1a085fa75c0",
   "metadata": {},
   "outputs": [],
   "source": [
    "# Access a Callable Attribute"
   ]
  },
  {
   "cell_type": "code",
   "execution_count": 2,
   "id": "52e8899c-0870-402a-8270-b28f8442c574",
   "metadata": {},
   "outputs": [],
   "source": [
    "from magicattr import get"
   ]
  },
  {
   "cell_type": "code",
   "execution_count": 4,
   "id": "cc399c31-7226-43ab-949e-4a831694dc8e",
   "metadata": {},
   "outputs": [],
   "source": [
    "class Calculator:\n",
    "    def add(self, x, y):\n",
    "        return x + y\n",
    "\n"
   ]
  },
  {
   "cell_type": "code",
   "execution_count": 5,
   "id": "c4e1aee5-05a1-402d-a946-81055f43bf68",
   "metadata": {},
   "outputs": [],
   "source": [
    "calc = Calculator()"
   ]
  },
  {
   "cell_type": "code",
   "execution_count": 6,
   "id": "8bf8e9fa-ba74-4aab-9e59-e277f8663441",
   "metadata": {},
   "outputs": [],
   "source": [
    "# Access and call a method\n",
    "add_method = get(calc, \"add\")\n",
    "result = add_method(5, 3)\n"
   ]
  },
  {
   "cell_type": "code",
   "execution_count": 7,
   "id": "a9b084f7-ad1c-4834-96eb-3508009a7391",
   "metadata": {},
   "outputs": [
    {
     "name": "stdout",
     "output_type": "stream",
     "text": [
      "8\n"
     ]
    }
   ],
   "source": [
    "print(result)"
   ]
  },
  {
   "cell_type": "code",
   "execution_count": null,
   "id": "6b674e0f-70e2-4e9c-8bc1-ac054a20121c",
   "metadata": {},
   "outputs": [],
   "source": []
  }
 ],
 "metadata": {
  "kernelspec": {
   "display_name": "Python 3 (ipykernel)",
   "language": "python",
   "name": "python3"
  },
  "language_info": {
   "codemirror_mode": {
    "name": "ipython",
    "version": 3
   },
   "file_extension": ".py",
   "mimetype": "text/x-python",
   "name": "python",
   "nbconvert_exporter": "python",
   "pygments_lexer": "ipython3",
   "version": "3.12.4"
  }
 },
 "nbformat": 4,
 "nbformat_minor": 5
}
