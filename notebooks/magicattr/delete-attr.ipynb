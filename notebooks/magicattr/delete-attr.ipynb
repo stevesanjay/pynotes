{
 "cells": [
  {
   "cell_type": "code",
   "execution_count": 1,
   "id": "f4e9c461-ab0b-4a5f-89bd-aa4c87e61c2f",
   "metadata": {},
   "outputs": [],
   "source": [
    "# Delete an Attribute Using magicattr"
   ]
  },
  {
   "cell_type": "code",
   "execution_count": 2,
   "id": "1d9b9cdd-0161-4fc7-badb-43ccd4adac2f",
   "metadata": {},
   "outputs": [],
   "source": [
    "from magicattr import delete\n"
   ]
  },
  {
   "cell_type": "code",
   "execution_count": 3,
   "id": "0ba69b52-2a7c-40f8-b943-461efef8f986",
   "metadata": {},
   "outputs": [],
   "source": [
    "class Profile:\n",
    "    def __init__(self, username, email):\n",
    "        self.username = username\n",
    "        self.email = email"
   ]
  },
  {
   "cell_type": "code",
   "execution_count": 4,
   "id": "d193a681-a182-4dbf-bdd8-6b609a78c733",
   "metadata": {},
   "outputs": [],
   "source": [
    "profile = Profile(\"user123\", \"user@example.com\")"
   ]
  },
  {
   "cell_type": "code",
   "execution_count": 5,
   "id": "bd73f1a5-d690-4d95-8c5a-3c121b7ec1b7",
   "metadata": {},
   "outputs": [],
   "source": [
    "delete(profile, \"email\")"
   ]
  },
  {
   "cell_type": "code",
   "execution_count": 6,
   "id": "5b0d088b-813b-48de-aeb3-b8afc44df53b",
   "metadata": {},
   "outputs": [
    {
     "name": "stdout",
     "output_type": "stream",
     "text": [
      "False\n"
     ]
    }
   ],
   "source": [
    "print(hasattr(profile, \"email\"))"
   ]
  },
  {
   "cell_type": "code",
   "execution_count": null,
   "id": "99485902-e015-45ed-94a6-cd4ebfdc8938",
   "metadata": {},
   "outputs": [],
   "source": []
  }
 ],
 "metadata": {
  "kernelspec": {
   "display_name": "Python 3 (ipykernel)",
   "language": "python",
   "name": "python3"
  },
  "language_info": {
   "codemirror_mode": {
    "name": "ipython",
    "version": 3
   },
   "file_extension": ".py",
   "mimetype": "text/x-python",
   "name": "python",
   "nbconvert_exporter": "python",
   "pygments_lexer": "ipython3",
   "version": "3.12.4"
  }
 },
 "nbformat": 4,
 "nbformat_minor": 5
}
