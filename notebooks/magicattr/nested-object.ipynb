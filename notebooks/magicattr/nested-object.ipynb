{
 "cells": [
  {
   "cell_type": "code",
   "execution_count": 2,
   "id": "b20135b5-19c2-4f11-b72a-a2466a83b133",
   "metadata": {},
   "outputs": [],
   "source": [
    "# Get Nested Attributes in a Deeply Nested Object"
   ]
  },
  {
   "cell_type": "code",
   "execution_count": 3,
   "id": "cf0eda0b-32fd-4f71-97e7-1d2248d6de95",
   "metadata": {},
   "outputs": [],
   "source": [
    "from magicattr import get\n"
   ]
  },
  {
   "cell_type": "code",
   "execution_count": 4,
   "id": "fe4dbf96-ad4a-4e15-9ef3-796ba7bde4e7",
   "metadata": {},
   "outputs": [],
   "source": [
    "class Inner:\n",
    "    def __init__(self, value):\n",
    "        self.value = value"
   ]
  },
  {
   "cell_type": "code",
   "execution_count": 5,
   "id": "2f068bb2-a82b-4a7d-9a75-8bbdf06fc6d7",
   "metadata": {},
   "outputs": [],
   "source": [
    "class Outer:\n",
    "    def __init__(self, inner):\n",
    "        self.inner = inner"
   ]
  },
  {
   "cell_type": "code",
   "execution_count": 6,
   "id": "713abd91-e8cd-4fa3-bd98-2ab9c884574c",
   "metadata": {},
   "outputs": [],
   "source": [
    "inner = Inner(\"Hello\")"
   ]
  },
  {
   "cell_type": "code",
   "execution_count": 7,
   "id": "dd118549-3f7d-41ff-98c3-792d55908376",
   "metadata": {},
   "outputs": [],
   "source": [
    "outer = Outer(inner)"
   ]
  },
  {
   "cell_type": "code",
   "execution_count": 10,
   "id": "5b658771-4c51-4236-85fc-73c9c5bef281",
   "metadata": {},
   "outputs": [],
   "source": [
    "# Access deeply nested attribute\n",
    "value = get(outer, \"inner.value\")"
   ]
  },
  {
   "cell_type": "code",
   "execution_count": 11,
   "id": "9bf56218-72d3-4d6a-a08e-6fe5f6f8543f",
   "metadata": {},
   "outputs": [
    {
     "data": {
      "text/plain": [
       "'Hello'"
      ]
     },
     "execution_count": 11,
     "metadata": {},
     "output_type": "execute_result"
    }
   ],
   "source": [
    "value"
   ]
  },
  {
   "cell_type": "code",
   "execution_count": null,
   "id": "ed13c506-b050-4d0c-baab-95a4055a2ea4",
   "metadata": {},
   "outputs": [],
   "source": []
  }
 ],
 "metadata": {
  "kernelspec": {
   "display_name": "Python 3 (ipykernel)",
   "language": "python",
   "name": "python3"
  },
  "language_info": {
   "codemirror_mode": {
    "name": "ipython",
    "version": 3
   },
   "file_extension": ".py",
   "mimetype": "text/x-python",
   "name": "python",
   "nbconvert_exporter": "python",
   "pygments_lexer": "ipython3",
   "version": "3.12.4"
  }
 },
 "nbformat": 4,
 "nbformat_minor": 5
}
