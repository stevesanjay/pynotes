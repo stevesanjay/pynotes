{
 "cells": [
  {
   "cell_type": "code",
   "execution_count": 1,
   "id": "266358ea-d3ed-4f97-844a-d8ee16b65a19",
   "metadata": {},
   "outputs": [],
   "source": [
    "from datetime import datetime"
   ]
  },
  {
   "cell_type": "code",
   "execution_count": 7,
   "id": "8bea937c-fc90-43e2-bcb6-2daf9fa5f1be",
   "metadata": {},
   "outputs": [],
   "source": [
    "def get_age(d):\n",
    "    d1 = datetime.now()\n",
    "    months = (d1.year - d.year) * 12 + d1.month - d.month\n",
    "\n",
    "    year = int(months / 12)\n",
    "    return year"
   ]
  },
  {
   "cell_type": "code",
   "execution_count": 8,
   "id": "f3986faa-f425-4eab-ad78-bcb1ecb2f559",
   "metadata": {},
   "outputs": [],
   "source": [
    "age = get_age(datetime(2002, 12, 14))"
   ]
  },
  {
   "cell_type": "code",
   "execution_count": 9,
   "id": "943973b8-d126-44d5-b5b3-9b49a5c566c4",
   "metadata": {},
   "outputs": [
    {
     "data": {
      "text/plain": [
       "21"
      ]
     },
     "execution_count": 9,
     "metadata": {},
     "output_type": "execute_result"
    }
   ],
   "source": [
    "age"
   ]
  },
  {
   "cell_type": "code",
   "execution_count": null,
   "id": "156d6909-7805-4862-9589-c23e65c96fb5",
   "metadata": {},
   "outputs": [],
   "source": []
  }
 ],
 "metadata": {
  "kernelspec": {
   "display_name": "Python 3 (ipykernel)",
   "language": "python",
   "name": "python3"
  },
  "language_info": {
   "codemirror_mode": {
    "name": "ipython",
    "version": 3
   },
   "file_extension": ".py",
   "mimetype": "text/x-python",
   "name": "python",
   "nbconvert_exporter": "python",
   "pygments_lexer": "ipython3",
   "version": "3.12.4"
  }
 },
 "nbformat": 4,
 "nbformat_minor": 5
}
