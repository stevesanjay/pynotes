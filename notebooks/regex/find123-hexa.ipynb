{
 "cells": [
  {
   "cell_type": "code",
   "execution_count": 1,
   "id": "47a4d416-0468-4f40-9766-f9d279aa4dc6",
   "metadata": {},
   "outputs": [],
   "source": [
    "# Extract All Hexadecimal Values"
   ]
  },
  {
   "cell_type": "code",
   "execution_count": 2,
   "id": "72f69a6b-040e-4acb-94c0-36dd72ed6cb2",
   "metadata": {},
   "outputs": [],
   "source": [
    "import re"
   ]
  },
  {
   "cell_type": "code",
   "execution_count": 3,
   "id": "5b9d140c-a7d2-438b-9ae1-0e40cc7912c2",
   "metadata": {},
   "outputs": [],
   "source": [
    "def extract_hex_values(filename):\n",
    "    with open(filename, 'r') as file:\n",
    "        content = file.read()\n",
    "        hex_values = re.findall(r'\\b0[xX][0-9a-fA-F]+\\b', content)\n",
    "        return hex_values\n"
   ]
  },
  {
   "cell_type": "code",
   "execution_count": 4,
   "id": "eccabd34-e7cb-47c7-b56a-6a06e7c99d14",
   "metadata": {},
   "outputs": [],
   "source": [
    "filename = 'sample.txt'"
   ]
  },
  {
   "cell_type": "code",
   "execution_count": 5,
   "id": "52a21cd2-5e56-496d-b2e9-ad87a350c18c",
   "metadata": {},
   "outputs": [
    {
     "name": "stdout",
     "output_type": "stream",
     "text": [
      "Hexadecimal values found: []\n"
     ]
    }
   ],
   "source": [
    "hex_values = extract_hex_values(filename)\n",
    "print(\"Hexadecimal values found:\", hex_values)\n"
   ]
  },
  {
   "cell_type": "code",
   "execution_count": null,
   "id": "7a41db8f-b428-4b0d-abbb-9231add99516",
   "metadata": {},
   "outputs": [],
   "source": []
  }
 ],
 "metadata": {
  "kernelspec": {
   "display_name": "Python 3 (ipykernel)",
   "language": "python",
   "name": "python3"
  },
  "language_info": {
   "codemirror_mode": {
    "name": "ipython",
    "version": 3
   },
   "file_extension": ".py",
   "mimetype": "text/x-python",
   "name": "python",
   "nbconvert_exporter": "python",
   "pygments_lexer": "ipython3",
   "version": "3.12.4"
  }
 },
 "nbformat": 4,
 "nbformat_minor": 5
}
