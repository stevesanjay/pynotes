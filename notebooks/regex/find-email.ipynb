{
 "cells": [
  {
   "cell_type": "code",
   "execution_count": 11,
   "id": "28264b1f-4707-42fb-9e7e-7398924f6394",
   "metadata": {},
   "outputs": [],
   "source": [
    "# Search for a Pattern in a File"
   ]
  },
  {
   "cell_type": "code",
   "execution_count": 18,
   "id": "3ef34904-ec13-40ab-99c1-3bb6bc05125b",
   "metadata": {},
   "outputs": [],
   "source": [
    "import re"
   ]
  },
  {
   "cell_type": "code",
   "execution_count": 22,
   "id": "9dfa2c98-7745-4f59-a11d-acf8fc609948",
   "metadata": {},
   "outputs": [],
   "source": [
    "def extract_emails(filename):\n",
    "    with open(filename, 'r') as file:\n",
    "        content = file.read()\n",
    "        emails = re.findall(r'[a-zA-Z0-9._%+-]+@[a-zA-Z0-9.-]+\\.[a-zA-Z]{2,}', content)\n",
    "        return emails"
   ]
  },
  {
   "cell_type": "code",
   "execution_count": 23,
   "id": "e42e32a2-4c03-49e9-bda9-628b77205a06",
   "metadata": {},
   "outputs": [],
   "source": [
    "filename = 'sample.txt'"
   ]
  },
  {
   "cell_type": "code",
   "execution_count": 24,
   "id": "498e27a7-46b1-4636-9cad-255ae2dac43d",
   "metadata": {},
   "outputs": [],
   "source": [
    "emails = extract_emails(filename)"
   ]
  },
  {
   "cell_type": "code",
   "execution_count": 25,
   "id": "1b146a85-7648-46c0-81ca-2ad60f217a68",
   "metadata": {},
   "outputs": [
    {
     "data": {
      "text/plain": [
       "['john.doe@example.com']"
      ]
     },
     "execution_count": 25,
     "metadata": {},
     "output_type": "execute_result"
    }
   ],
   "source": [
    "emails"
   ]
  },
  {
   "cell_type": "code",
   "execution_count": null,
   "id": "e0b1e551-d4d7-4fb4-ba20-b07d76c33f2e",
   "metadata": {},
   "outputs": [],
   "source": []
  }
 ],
 "metadata": {
  "kernelspec": {
   "display_name": "Python 3 (ipykernel)",
   "language": "python",
   "name": "python3"
  },
  "language_info": {
   "codemirror_mode": {
    "name": "ipython",
    "version": 3
   },
   "file_extension": ".py",
   "mimetype": "text/x-python",
   "name": "python",
   "nbconvert_exporter": "python",
   "pygments_lexer": "ipython3",
   "version": "3.12.4"
  }
 },
 "nbformat": 4,
 "nbformat_minor": 5
}
