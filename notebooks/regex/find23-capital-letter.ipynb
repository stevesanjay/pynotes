{
 "cells": [
  {
   "cell_type": "code",
   "execution_count": 1,
   "id": "ceed86d3-a9cf-420b-bfae-e674c011e511",
   "metadata": {},
   "outputs": [],
   "source": [
    "# Extract All Capitalized Words"
   ]
  },
  {
   "cell_type": "code",
   "execution_count": 2,
   "id": "3041afd4-0ba7-436b-9461-1fb2bf1371eb",
   "metadata": {},
   "outputs": [],
   "source": [
    "import re"
   ]
  },
  {
   "cell_type": "code",
   "execution_count": 3,
   "id": "060e8df3-3bb2-43bb-89de-1f76b68fd02b",
   "metadata": {},
   "outputs": [],
   "source": [
    "def extract_capitalized_words(filename):\n",
    "    with open(filename, 'r') as file:\n",
    "        content = file.read()\n",
    "        capitalized_words = re.findall(r'\\b[A-Z][a-z]*\\b', content)\n",
    "        return capitalized_words"
   ]
  },
  {
   "cell_type": "code",
   "execution_count": 4,
   "id": "701f779f-ef3a-4149-9480-2ebba54ecd72",
   "metadata": {},
   "outputs": [],
   "source": [
    "# Example usage\n",
    "filename = 'sample.txt'"
   ]
  },
  {
   "cell_type": "code",
   "execution_count": 5,
   "id": "101cc7b6-b159-426c-ae8f-509aefd88fa9",
   "metadata": {},
   "outputs": [
    {
     "name": "stdout",
     "output_type": "stream",
     "text": [
      "Capitalized words found: ['Hello', 'I', 'Here', 'Check']\n"
     ]
    }
   ],
   "source": [
    "capitalized_words = extract_capitalized_words(filename)\n",
    "print(\"Capitalized words found:\", capitalized_words)"
   ]
  },
  {
   "cell_type": "code",
   "execution_count": null,
   "id": "cb6780f5-ce69-4562-b49b-ce819d1ca5ff",
   "metadata": {},
   "outputs": [],
   "source": []
  }
 ],
 "metadata": {
  "kernelspec": {
   "display_name": "Python 3 (ipykernel)",
   "language": "python",
   "name": "python3"
  },
  "language_info": {
   "codemirror_mode": {
    "name": "ipython",
    "version": 3
   },
   "file_extension": ".py",
   "mimetype": "text/x-python",
   "name": "python",
   "nbconvert_exporter": "python",
   "pygments_lexer": "ipython3",
   "version": "3.12.4"
  }
 },
 "nbformat": 4,
 "nbformat_minor": 5
}
