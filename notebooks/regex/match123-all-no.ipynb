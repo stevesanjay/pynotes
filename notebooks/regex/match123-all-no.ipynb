{
 "cells": [
  {
   "cell_type": "code",
   "execution_count": 1,
   "id": "2e8d87e2-a35a-48d4-a81a-4445b1a2fa87",
   "metadata": {},
   "outputs": [],
   "source": [
    "#  Match All Numbers in a File"
   ]
  },
  {
   "cell_type": "code",
   "execution_count": 2,
   "id": "120532ff-384a-4d20-83b5-9744546874d8",
   "metadata": {},
   "outputs": [],
   "source": [
    "import re"
   ]
  },
  {
   "cell_type": "code",
   "execution_count": 3,
   "id": "b32dd9f8-561e-4ba5-a5fb-5ee34a2941b9",
   "metadata": {},
   "outputs": [],
   "source": [
    "def extract_numbers(filename):\n",
    "    with open(filename, 'r') as file:\n",
    "        content = file.read()\n",
    "        numbers = re.findall(r'\\b\\d+(\\.\\d+)?\\b', content)\n",
    "        return numbers"
   ]
  },
  {
   "cell_type": "code",
   "execution_count": 4,
   "id": "38c8ea18-3ed0-4026-b136-5bf0b1f3cd27",
   "metadata": {},
   "outputs": [],
   "source": [
    "# Example usage\n",
    "filename = 'sample.txt'"
   ]
  },
  {
   "cell_type": "code",
   "execution_count": 5,
   "id": "1b8ea23c-6341-4552-88fc-d9d99cbe2dac",
   "metadata": {},
   "outputs": [
    {
     "name": "stdout",
     "output_type": "stream",
     "text": [
      "Numbers found: ['', '', '', '', '', '']\n"
     ]
    }
   ],
   "source": [
    "numbers = extract_numbers(filename)\n",
    "print(\"Numbers found:\", numbers)"
   ]
  },
  {
   "cell_type": "code",
   "execution_count": null,
   "id": "8edf606d-41c6-4ad0-9f32-f5b85d628f12",
   "metadata": {},
   "outputs": [],
   "source": []
  }
 ],
 "metadata": {
  "kernelspec": {
   "display_name": "Python 3 (ipykernel)",
   "language": "python",
   "name": "python3"
  },
  "language_info": {
   "codemirror_mode": {
    "name": "ipython",
    "version": 3
   },
   "file_extension": ".py",
   "mimetype": "text/x-python",
   "name": "python",
   "nbconvert_exporter": "python",
   "pygments_lexer": "ipython3",
   "version": "3.12.4"
  }
 },
 "nbformat": 4,
 "nbformat_minor": 5
}
