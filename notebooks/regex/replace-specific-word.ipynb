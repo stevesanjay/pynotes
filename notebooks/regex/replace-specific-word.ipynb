{
 "cells": [
  {
   "cell_type": "code",
   "execution_count": 1,
   "id": "ffa82f19-826c-433a-a97c-d07608dde004",
   "metadata": {},
   "outputs": [],
   "source": [
    "# Replace Specific Words in a File"
   ]
  },
  {
   "cell_type": "code",
   "execution_count": 2,
   "id": "c6eb8bff-1bdc-4b56-9b6f-bd444ebf93a9",
   "metadata": {},
   "outputs": [],
   "source": [
    "import re"
   ]
  },
  {
   "cell_type": "code",
   "execution_count": 3,
   "id": "9d33fdd1-fcc3-47f2-a0b2-b91dbdb4ca2c",
   "metadata": {},
   "outputs": [],
   "source": [
    "def replace_words(filename, target_word, replacement_word):\n",
    "    with open(filename, 'r') as file:\n",
    "        content = file.read()\n",
    "        updated_content = re.sub(rf'\\b{re.escape(target_word)}\\b', replacement_word, content)\n",
    "    \n",
    "    with open(filename, 'w') as file:\n",
    "        file.write(updated_content)\n",
    "    \n",
    "    return f\"Replaced '{target_word}' with '{replacement_word}'.\""
   ]
  },
  {
   "cell_type": "code",
   "execution_count": 4,
   "id": "b062201f-8244-430b-bcb7-51ab91ae4bb2",
   "metadata": {},
   "outputs": [],
   "source": [
    "filename = 'sample.txt'"
   ]
  },
  {
   "cell_type": "code",
   "execution_count": 5,
   "id": "fac2d692-0ba1-4b11-94b4-1d11c83cc364",
   "metadata": {},
   "outputs": [
    {
     "name": "stdout",
     "output_type": "stream",
     "text": [
      "Replaced 'John' with 'Jane'.\n"
     ]
    }
   ],
   "source": [
    "print(replace_words(filename, \"John\", \"Jane\"))"
   ]
  },
  {
   "cell_type": "code",
   "execution_count": null,
   "id": "b69d58e8-c9f0-4de2-94f1-6f2619a008cc",
   "metadata": {},
   "outputs": [],
   "source": []
  }
 ],
 "metadata": {
  "kernelspec": {
   "display_name": "Python 3 (ipykernel)",
   "language": "python",
   "name": "python3"
  },
  "language_info": {
   "codemirror_mode": {
    "name": "ipython",
    "version": 3
   },
   "file_extension": ".py",
   "mimetype": "text/x-python",
   "name": "python",
   "nbconvert_exporter": "python",
   "pygments_lexer": "ipython3",
   "version": "3.12.4"
  }
 },
 "nbformat": 4,
 "nbformat_minor": 5
}
