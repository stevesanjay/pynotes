{
 "cells": [
  {
   "cell_type": "code",
   "execution_count": 1,
   "id": "38990aaf-2c76-40ad-9e0b-99eb2d4e6014",
   "metadata": {},
   "outputs": [],
   "source": [
    "# Match and Replace Multiple Spaces with a Single Space"
   ]
  },
  {
   "cell_type": "code",
   "execution_count": 2,
   "id": "5dea7a80-f9ea-4e14-83f2-1b9c11faf73e",
   "metadata": {},
   "outputs": [],
   "source": [
    "import re"
   ]
  },
  {
   "cell_type": "code",
   "execution_count": 3,
   "id": "4eb91f14-08c9-468d-96a4-a198551c80ae",
   "metadata": {},
   "outputs": [],
   "source": [
    "def replace_multiple_spaces(filename):\n",
    "    with open(filename, 'r') as file:\n",
    "        content = file.read()\n",
    "        updated_content = re.sub(r'\\s+', ' ', content)\n",
    "    \n",
    "    with open(filename, 'w') as file:\n",
    "        file.write(updated_content)\n",
    "    \n",
    "    return \"Multiple spaces replaced with a single space.\"\n"
   ]
  },
  {
   "cell_type": "code",
   "execution_count": 4,
   "id": "d14ca856-09a4-4e78-adac-2cb69fa0d707",
   "metadata": {},
   "outputs": [],
   "source": [
    "# Example usage\n",
    "filename = 'sample.txt'"
   ]
  },
  {
   "cell_type": "code",
   "execution_count": 5,
   "id": "7550fe15-5070-409f-bb88-95f39f1a1759",
   "metadata": {},
   "outputs": [
    {
     "name": "stdout",
     "output_type": "stream",
     "text": [
      "Multiple spaces replaced with a single space.\n"
     ]
    }
   ],
   "source": [
    "print(replace_multiple_spaces(filename))"
   ]
  },
  {
   "cell_type": "code",
   "execution_count": null,
   "id": "ad97e22a-867b-4ba3-af0e-6704110cf5fb",
   "metadata": {},
   "outputs": [],
   "source": []
  }
 ],
 "metadata": {
  "kernelspec": {
   "display_name": "Python 3 (ipykernel)",
   "language": "python",
   "name": "python3"
  },
  "language_info": {
   "codemirror_mode": {
    "name": "ipython",
    "version": 3
   },
   "file_extension": ".py",
   "mimetype": "text/x-python",
   "name": "python",
   "nbconvert_exporter": "python",
   "pygments_lexer": "ipython3",
   "version": "3.12.4"
  }
 },
 "nbformat": 4,
 "nbformat_minor": 5
}
