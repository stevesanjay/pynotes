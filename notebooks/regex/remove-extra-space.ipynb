{
 "cells": [
  {
   "cell_type": "code",
   "execution_count": 1,
   "id": "556acd54-f4b2-4440-985e-6fa46a0b9118",
   "metadata": {},
   "outputs": [],
   "source": [
    "# Find and Remove Extra Whitespaces"
   ]
  },
  {
   "cell_type": "code",
   "execution_count": 2,
   "id": "0f6570e7-b78c-4d75-9ad6-2e8b1601887c",
   "metadata": {},
   "outputs": [],
   "source": [
    "import re"
   ]
  },
  {
   "cell_type": "code",
   "execution_count": 3,
   "id": "6c3db1c0-2a66-4759-b13a-0519a4f5ca42",
   "metadata": {},
   "outputs": [],
   "source": [
    "def remove_extra_spaces(filename):\n",
    "    with open(filename, 'r') as file:\n",
    "        content = file.read()\n",
    "        updated_content = re.sub(r'\\s+', ' ', content).strip()\n",
    "    \n",
    "    with open(filename, 'w') as file:\n",
    "        file.write(updated_content)\n",
    "    \n",
    "    return \"Extra spaces removed.\""
   ]
  },
  {
   "cell_type": "code",
   "execution_count": 4,
   "id": "55e95ca9-6c91-4a25-ba7d-b6810abd3f64",
   "metadata": {},
   "outputs": [
    {
     "name": "stdout",
     "output_type": "stream",
     "text": [
      "Extra spaces removed.\n"
     ]
    }
   ],
   "source": [
    "# Example usage\n",
    "filename = 'sample.txt'\n",
    "print(remove_extra_spaces(filename))"
   ]
  },
  {
   "cell_type": "code",
   "execution_count": null,
   "id": "38e202e0-4e74-4d55-9d1e-e3e01df18a8d",
   "metadata": {},
   "outputs": [],
   "source": []
  }
 ],
 "metadata": {
  "kernelspec": {
   "display_name": "Python 3 (ipykernel)",
   "language": "python",
   "name": "python3"
  },
  "language_info": {
   "codemirror_mode": {
    "name": "ipython",
    "version": 3
   },
   "file_extension": ".py",
   "mimetype": "text/x-python",
   "name": "python",
   "nbconvert_exporter": "python",
   "pygments_lexer": "ipython3",
   "version": "3.12.4"
  }
 },
 "nbformat": 4,
 "nbformat_minor": 5
}
