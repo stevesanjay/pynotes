{
 "cells": [
  {
   "cell_type": "code",
   "execution_count": 1,
   "id": "20f246ee-e2c3-4377-bac8-4acbdb9b0072",
   "metadata": {},
   "outputs": [],
   "source": [
    "# Extract Dates in DD/MM/YYYY Format"
   ]
  },
  {
   "cell_type": "code",
   "execution_count": 2,
   "id": "329ce5df-97f8-4562-b952-f3772a968c67",
   "metadata": {},
   "outputs": [],
   "source": [
    "import re"
   ]
  },
  {
   "cell_type": "code",
   "execution_count": 3,
   "id": "f937df34-bbd9-4db3-a77e-edb0742eca13",
   "metadata": {},
   "outputs": [],
   "source": [
    "def extract_dates(filename):\n",
    "    with open(filename, 'r') as file:\n",
    "        content = file.read()\n",
    "        dates = re.findall(r'\\b\\d{2}/\\d{2}/\\d{4}\\b', content)\n",
    "        return dates\n"
   ]
  },
  {
   "cell_type": "code",
   "execution_count": 4,
   "id": "5ed431d4-44f3-493c-ae24-ebe0ccd3540c",
   "metadata": {},
   "outputs": [],
   "source": [
    "filename = 'sample.txt'"
   ]
  },
  {
   "cell_type": "code",
   "execution_count": 5,
   "id": "f501b923-d58b-474c-a01a-99791111da40",
   "metadata": {},
   "outputs": [],
   "source": [
    "dates = extract_dates(filename)"
   ]
  },
  {
   "cell_type": "code",
   "execution_count": 6,
   "id": "84e12dd1-7299-4baf-ab45-390bafbb246b",
   "metadata": {},
   "outputs": [
    {
     "data": {
      "text/plain": [
       "['12/05/2024', '25/12/2024']"
      ]
     },
     "execution_count": 6,
     "metadata": {},
     "output_type": "execute_result"
    }
   ],
   "source": [
    "dates"
   ]
  },
  {
   "cell_type": "code",
   "execution_count": null,
   "id": "4849d27d-eb2a-46be-bad7-9e70f1627ceb",
   "metadata": {},
   "outputs": [],
   "source": []
  }
 ],
 "metadata": {
  "kernelspec": {
   "display_name": "Python 3 (ipykernel)",
   "language": "python",
   "name": "python3"
  },
  "language_info": {
   "codemirror_mode": {
    "name": "ipython",
    "version": 3
   },
   "file_extension": ".py",
   "mimetype": "text/x-python",
   "name": "python",
   "nbconvert_exporter": "python",
   "pygments_lexer": "ipython3",
   "version": "3.12.4"
  }
 },
 "nbformat": 4,
 "nbformat_minor": 5
}
