{
 "cells": [
  {
   "cell_type": "code",
   "execution_count": 1,
   "id": "d02e318e-e363-4568-a1c3-07bae5a93133",
   "metadata": {},
   "outputs": [],
   "source": [
    "# Count the Number of Words in a File"
   ]
  },
  {
   "cell_type": "code",
   "execution_count": 2,
   "id": "e181221d-ca7a-432a-bf50-a8ba3c445401",
   "metadata": {},
   "outputs": [],
   "source": [
    "import re"
   ]
  },
  {
   "cell_type": "code",
   "execution_count": 3,
   "id": "3f983b1d-3321-426e-bc93-f39d23c1eda0",
   "metadata": {},
   "outputs": [],
   "source": [
    "def count_words(filename):\n",
    "    with open(filename, 'r') as file:\n",
    "        content = file.read()\n",
    "        words = re.findall(r'\\b\\w+\\b', content)\n",
    "        return len(words)"
   ]
  },
  {
   "cell_type": "code",
   "execution_count": 4,
   "id": "c06939dc-6901-485b-bd8d-b0d996b99f09",
   "metadata": {},
   "outputs": [],
   "source": [
    "# Example usage\n",
    "filename = 'sample.txt'\n"
   ]
  },
  {
   "cell_type": "code",
   "execution_count": 5,
   "id": "efbc4ced-d027-42b5-902d-8b64f7e5851d",
   "metadata": {},
   "outputs": [],
   "source": [
    "word_count = count_words(filename)\n"
   ]
  },
  {
   "cell_type": "code",
   "execution_count": 6,
   "id": "68dfa401-3f32-40a4-99e9-8ab3c80769aa",
   "metadata": {},
   "outputs": [
    {
     "name": "stdout",
     "output_type": "stream",
     "text": [
      "Number of words: 38\n"
     ]
    }
   ],
   "source": [
    "print(f\"Number of words: {word_count}\")\n"
   ]
  },
  {
   "cell_type": "code",
   "execution_count": null,
   "id": "1ab18110-3d9c-46ef-ae42-8043de1165a3",
   "metadata": {},
   "outputs": [],
   "source": []
  }
 ],
 "metadata": {
  "kernelspec": {
   "display_name": "Python 3 (ipykernel)",
   "language": "python",
   "name": "python3"
  },
  "language_info": {
   "codemirror_mode": {
    "name": "ipython",
    "version": 3
   },
   "file_extension": ".py",
   "mimetype": "text/x-python",
   "name": "python",
   "nbconvert_exporter": "python",
   "pygments_lexer": "ipython3",
   "version": "3.12.4"
  }
 },
 "nbformat": 4,
 "nbformat_minor": 5
}
