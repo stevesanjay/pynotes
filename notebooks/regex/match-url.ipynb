{
 "cells": [
  {
   "cell_type": "code",
   "execution_count": 1,
   "id": "f2aee6cb-b4fe-41c3-b066-4fb910939222",
   "metadata": {},
   "outputs": [],
   "source": [
    "# Match URLs in a File"
   ]
  },
  {
   "cell_type": "code",
   "execution_count": 2,
   "id": "93451e76-52f5-4ec9-a981-3e809d5a8156",
   "metadata": {},
   "outputs": [],
   "source": [
    "import re"
   ]
  },
  {
   "cell_type": "code",
   "execution_count": 3,
   "id": "cf820fdb-05be-44d3-bb58-b00ccc8cf29e",
   "metadata": {},
   "outputs": [],
   "source": [
    "def extract_urls(filename):\n",
    "    with open(filename, 'r') as file:\n",
    "        content = file.read()\n",
    "        urls = re.findall(r'https?://[^\\s]+', content)\n",
    "        return urls"
   ]
  },
  {
   "cell_type": "code",
   "execution_count": 4,
   "id": "1ca25013-6fc9-4d56-86ce-a995759dac05",
   "metadata": {},
   "outputs": [],
   "source": [
    "# Example usage\n",
    "filename = 'sample.txt'"
   ]
  },
  {
   "cell_type": "code",
   "execution_count": 5,
   "id": "65784048-01a8-4f3d-85e1-f360914e329d",
   "metadata": {},
   "outputs": [
    {
     "name": "stdout",
     "output_type": "stream",
     "text": [
      "URLs found: ['https://www.example.com']\n"
     ]
    }
   ],
   "source": [
    "urls = extract_urls(filename)\n",
    "print(\"URLs found:\", urls)"
   ]
  },
  {
   "cell_type": "code",
   "execution_count": null,
   "id": "88d91598-bbfa-446d-ba7a-c9821a411082",
   "metadata": {},
   "outputs": [],
   "source": []
  }
 ],
 "metadata": {
  "kernelspec": {
   "display_name": "Python 3 (ipykernel)",
   "language": "python",
   "name": "python3"
  },
  "language_info": {
   "codemirror_mode": {
    "name": "ipython",
    "version": 3
   },
   "file_extension": ".py",
   "mimetype": "text/x-python",
   "name": "python",
   "nbconvert_exporter": "python",
   "pygments_lexer": "ipython3",
   "version": "3.12.4"
  }
 },
 "nbformat": 4,
 "nbformat_minor": 5
}
