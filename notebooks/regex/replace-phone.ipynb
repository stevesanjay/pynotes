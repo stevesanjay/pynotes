{
 "cells": [
  {
   "cell_type": "code",
   "execution_count": 1,
   "id": "5f8d1fdb-b382-4c40-9aa7-9809c9b79ab9",
   "metadata": {},
   "outputs": [],
   "source": [
    "# Replace Phone Numbers in a File"
   ]
  },
  {
   "cell_type": "code",
   "execution_count": 2,
   "id": "73049f28-2829-4658-b629-1773bbf18028",
   "metadata": {},
   "outputs": [],
   "source": [
    "import re"
   ]
  },
  {
   "cell_type": "code",
   "execution_count": 3,
   "id": "8744ccf0-66eb-425a-8833-a282ca811684",
   "metadata": {},
   "outputs": [],
   "source": [
    "def replace_phone_numbers(filename, replacement=\"PHONE_NUMBER\"):\n",
    "    with open(filename, 'r') as file:\n",
    "        content = file.read()\n",
    "        updated_content = re.sub(r'\\b\\d{3}-\\d{3}-\\d{4}\\b', replacement, content)\n",
    "    \n",
    "    with open(filename, 'w') as file:\n",
    "        file.write(updated_content)\n",
    "    \n",
    "    return \"Phone numbers replaced.\""
   ]
  },
  {
   "cell_type": "code",
   "execution_count": 4,
   "id": "9ae25b28-af49-45ae-9ce7-2290581d7d12",
   "metadata": {},
   "outputs": [],
   "source": [
    "filename = 'sample.txt'"
   ]
  },
  {
   "cell_type": "code",
   "execution_count": 5,
   "id": "3ba44c47-fd5f-4e06-b92d-68f9de1cacf5",
   "metadata": {},
   "outputs": [
    {
     "name": "stdout",
     "output_type": "stream",
     "text": [
      "Phone numbers replaced.\n"
     ]
    }
   ],
   "source": [
    "print(replace_phone_numbers(filename))"
   ]
  },
  {
   "cell_type": "code",
   "execution_count": null,
   "id": "bddb9319-ec88-43d0-9309-9362ac63db61",
   "metadata": {},
   "outputs": [],
   "source": []
  }
 ],
 "metadata": {
  "kernelspec": {
   "display_name": "Python 3 (ipykernel)",
   "language": "python",
   "name": "python3"
  },
  "language_info": {
   "codemirror_mode": {
    "name": "ipython",
    "version": 3
   },
   "file_extension": ".py",
   "mimetype": "text/x-python",
   "name": "python",
   "nbconvert_exporter": "python",
   "pygments_lexer": "ipython3",
   "version": "3.12.4"
  }
 },
 "nbformat": 4,
 "nbformat_minor": 5
}
