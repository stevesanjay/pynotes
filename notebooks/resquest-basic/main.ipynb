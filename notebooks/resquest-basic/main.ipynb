{
 "cells": [
  {
   "cell_type": "code",
   "execution_count": 33,
   "id": "7211054c-1fc6-4013-abcc-8afe1b9ffe39",
   "metadata": {},
   "outputs": [],
   "source": [
    "import requests as req\n",
    "import json"
   ]
  },
  {
   "cell_type": "code",
   "execution_count": 34,
   "id": "e81f10b8-d9b9-4352-95ac-bf952346f4e9",
   "metadata": {},
   "outputs": [],
   "source": [
    "response = req.get(\"https://randomuser.me/api/\")"
   ]
  },
  {
   "cell_type": "code",
   "execution_count": 35,
   "id": "14cfd01f-6512-483a-936a-3ac6718e40ba",
   "metadata": {},
   "outputs": [
    {
     "data": {
      "text/plain": [
       "<Response [200]>"
      ]
     },
     "execution_count": 35,
     "metadata": {},
     "output_type": "execute_result"
    }
   ],
   "source": [
    "response"
   ]
  },
  {
   "cell_type": "code",
   "execution_count": 36,
   "id": "fbbf4a43-3c7c-4175-8713-97c4387505dd",
   "metadata": {},
   "outputs": [],
   "source": [
    "response_json = response.json()"
   ]
  },
  {
   "cell_type": "code",
   "execution_count": 37,
   "id": "437d1707-ec5f-4d01-9783-f2de5b53ffe4",
   "metadata": {},
   "outputs": [
    {
     "data": {
      "text/plain": [
       "{'results': [{'gender': 'female',\n",
       "   'name': {'title': 'Ms', 'first': 'Madlen', 'last': 'Hettich'},\n",
       "   'location': {'street': {'number': 3512, 'name': 'Jahnstraße'},\n",
       "    'city': 'Buckow (Märkische Schweiz)',\n",
       "    'state': 'Bayern',\n",
       "    'country': 'Germany',\n",
       "    'postcode': 92330,\n",
       "    'coordinates': {'latitude': '-49.1783', 'longitude': '26.2957'},\n",
       "    'timezone': {'offset': '+10:00',\n",
       "     'description': 'Eastern Australia, Guam, Vladivostok'}},\n",
       "   'email': 'madlen.hettich@example.com',\n",
       "   'login': {'uuid': 'a5af5721-efdd-439f-bff4-7a0f058a1533',\n",
       "    'username': 'crazykoala669',\n",
       "    'password': 'zander',\n",
       "    'salt': '9YZoK9T7',\n",
       "    'md5': '8997fb783bdc8e5a2aab49e6b24531d9',\n",
       "    'sha1': 'fc7ecb3d611effa5243e9e39836ddffca73fe320',\n",
       "    'sha256': '2476c2301967393eb03de9f79a23af26985510ff586d43b4285cc328c4af34df'},\n",
       "   'dob': {'date': '1944-10-21T18:16:15.911Z', 'age': 80},\n",
       "   'registered': {'date': '2021-09-20T15:49:47.687Z', 'age': 3},\n",
       "   'phone': '0356-0312722',\n",
       "   'cell': '0179-3581641',\n",
       "   'id': {'name': 'SVNR', 'value': '50 211044 H 784'},\n",
       "   'picture': {'large': 'https://randomuser.me/api/portraits/women/1.jpg',\n",
       "    'medium': 'https://randomuser.me/api/portraits/med/women/1.jpg',\n",
       "    'thumbnail': 'https://randomuser.me/api/portraits/thumb/women/1.jpg'},\n",
       "   'nat': 'DE'}],\n",
       " 'info': {'seed': '7ff1574d980e5774',\n",
       "  'results': 1,\n",
       "  'page': 1,\n",
       "  'version': '1.4'}}"
      ]
     },
     "execution_count": 37,
     "metadata": {},
     "output_type": "execute_result"
    }
   ],
   "source": [
    "response_json"
   ]
  },
  {
   "cell_type": "code",
   "execution_count": 38,
   "id": "46a2541f-0ab9-4bae-b496-5ca63a72ea38",
   "metadata": {},
   "outputs": [],
   "source": [
    "result_first_item = response_json[\"results\"][0]"
   ]
  },
  {
   "cell_type": "code",
   "execution_count": 39,
   "id": "4f7ed5c8-5d1c-4a93-8640-8550c5e8ceca",
   "metadata": {},
   "outputs": [
    {
     "data": {
      "text/plain": [
       "{'gender': 'female',\n",
       " 'name': {'title': 'Ms', 'first': 'Madlen', 'last': 'Hettich'},\n",
       " 'location': {'street': {'number': 3512, 'name': 'Jahnstraße'},\n",
       "  'city': 'Buckow (Märkische Schweiz)',\n",
       "  'state': 'Bayern',\n",
       "  'country': 'Germany',\n",
       "  'postcode': 92330,\n",
       "  'coordinates': {'latitude': '-49.1783', 'longitude': '26.2957'},\n",
       "  'timezone': {'offset': '+10:00',\n",
       "   'description': 'Eastern Australia, Guam, Vladivostok'}},\n",
       " 'email': 'madlen.hettich@example.com',\n",
       " 'login': {'uuid': 'a5af5721-efdd-439f-bff4-7a0f058a1533',\n",
       "  'username': 'crazykoala669',\n",
       "  'password': 'zander',\n",
       "  'salt': '9YZoK9T7',\n",
       "  'md5': '8997fb783bdc8e5a2aab49e6b24531d9',\n",
       "  'sha1': 'fc7ecb3d611effa5243e9e39836ddffca73fe320',\n",
       "  'sha256': '2476c2301967393eb03de9f79a23af26985510ff586d43b4285cc328c4af34df'},\n",
       " 'dob': {'date': '1944-10-21T18:16:15.911Z', 'age': 80},\n",
       " 'registered': {'date': '2021-09-20T15:49:47.687Z', 'age': 3},\n",
       " 'phone': '0356-0312722',\n",
       " 'cell': '0179-3581641',\n",
       " 'id': {'name': 'SVNR', 'value': '50 211044 H 784'},\n",
       " 'picture': {'large': 'https://randomuser.me/api/portraits/women/1.jpg',\n",
       "  'medium': 'https://randomuser.me/api/portraits/med/women/1.jpg',\n",
       "  'thumbnail': 'https://randomuser.me/api/portraits/thumb/women/1.jpg'},\n",
       " 'nat': 'DE'}"
      ]
     },
     "execution_count": 39,
     "metadata": {},
     "output_type": "execute_result"
    }
   ],
   "source": [
    "result_first_item"
   ]
  },
  {
   "cell_type": "code",
   "execution_count": 40,
   "id": "72c78bf8-a3f2-49db-8571-3e3a6ea4dfda",
   "metadata": {},
   "outputs": [],
   "source": [
    "result_country = result_first_item.get(\"location\",{}).get(\"country\",{})"
   ]
  },
  {
   "cell_type": "code",
   "execution_count": 41,
   "id": "9fc08dc1-e83c-4965-a4e6-c994bfefd981",
   "metadata": {},
   "outputs": [
    {
     "data": {
      "text/plain": [
       "'Germany'"
      ]
     },
     "execution_count": 41,
     "metadata": {},
     "output_type": "execute_result"
    }
   ],
   "source": [
    "result_country"
   ]
  },
  {
   "cell_type": "code",
   "execution_count": 42,
   "id": "e6444518-ab18-4b57-b1b0-b1fab362b0a8",
   "metadata": {},
   "outputs": [],
   "source": [
    "result_timezone = result_first_item.get(\"location\",{}).get(\"timezone\",{}).get(\"offset\",{})"
   ]
  },
  {
   "cell_type": "code",
   "execution_count": 43,
   "id": "c308c0eb-fb77-4259-8575-da7615c4e383",
   "metadata": {},
   "outputs": [
    {
     "data": {
      "text/plain": [
       "'+10:00'"
      ]
     },
     "execution_count": 43,
     "metadata": {},
     "output_type": "execute_result"
    }
   ],
   "source": [
    "result_timezone"
   ]
  },
  {
   "cell_type": "code",
   "execution_count": 46,
   "id": "4222c7eb-9f77-4d74-ad17-4e02a1aa81f1",
   "metadata": {},
   "outputs": [],
   "source": [
    "result_password = result_first_item.get(\"login\",{}).get(\"password\",{})"
   ]
  },
  {
   "cell_type": "code",
   "execution_count": 47,
   "id": "606af372-26ae-491b-91eb-a3b205a952e7",
   "metadata": {},
   "outputs": [
    {
     "data": {
      "text/plain": [
       "'zander'"
      ]
     },
     "execution_count": 47,
     "metadata": {},
     "output_type": "execute_result"
    }
   ],
   "source": [
    "result_password"
   ]
  },
  {
   "cell_type": "code",
   "execution_count": 48,
   "id": "5ec7bf9d-f776-4136-8723-73f852e77415",
   "metadata": {},
   "outputs": [],
   "source": [
    "result_age = result_first_item.get(\"dob\",{}).get(\"age\",{})"
   ]
  },
  {
   "cell_type": "code",
   "execution_count": 49,
   "id": "3f5f2e19-7d72-4f00-9389-028da650c9f9",
   "metadata": {},
   "outputs": [
    {
     "data": {
      "text/plain": [
       "80"
      ]
     },
     "execution_count": 49,
     "metadata": {},
     "output_type": "execute_result"
    }
   ],
   "source": [
    "result_age"
   ]
  },
  {
   "cell_type": "code",
   "execution_count": 58,
   "id": "d2bdfa14-5873-432a-9c78-fef9822f967b",
   "metadata": {},
   "outputs": [],
   "source": [
    "def get_user_details(response_json):\n",
    "    result_first_item = response_json[\"results\"][0]\n",
    "    user_country  = result_first_item.get(\"location\",{}).get(\"country\",{})\n",
    "    user_timezone = result_first_item.get(\"location\",{}).get(\"timezone\",{}).get(\"offset\",{})\n",
    "    user_password = result_first_item.get(\"login\",{}).get(\"password\",{})\n",
    "    user_age      = result_first_item.get(\"dob\",{}).get(\"age\",{})\n",
    "\n",
    "    result_dict = {\n",
    "        \"country\"  : user_country,\n",
    "        \"timezone\" : user_timezone,\n",
    "        \"password\" : user_password,\n",
    "        \"age\"      : user_age\n",
    "    }\n",
    "    return result_dict"
   ]
  },
  {
   "cell_type": "code",
   "execution_count": 59,
   "id": "a3495a53-e0f6-4458-adcb-85af69b008f7",
   "metadata": {},
   "outputs": [
    {
     "data": {
      "text/plain": [
       "{'country': 'New Zealand',\n",
       " 'timezone': '+6:00',\n",
       " 'password': 'viewer',\n",
       " 'age': 65}"
      ]
     },
     "execution_count": 59,
     "metadata": {},
     "output_type": "execute_result"
    }
   ],
   "source": [
    "res = req.get(\"https://randomuser.me/api/\")\n",
    "get_user_details(res.json())"
   ]
  },
  {
   "cell_type": "code",
   "execution_count": null,
   "id": "a0e57d4f-c043-42e3-90ef-87075e65b92b",
   "metadata": {},
   "outputs": [],
   "source": []
  }
 ],
 "metadata": {
  "kernelspec": {
   "display_name": "Python 3 (ipykernel)",
   "language": "python",
   "name": "python3"
  },
  "language_info": {
   "codemirror_mode": {
    "name": "ipython",
    "version": 3
   },
   "file_extension": ".py",
   "mimetype": "text/x-python",
   "name": "python",
   "nbconvert_exporter": "python",
   "pygments_lexer": "ipython3",
   "version": "3.12.4"
  }
 },
 "nbformat": 4,
 "nbformat_minor": 5
}
