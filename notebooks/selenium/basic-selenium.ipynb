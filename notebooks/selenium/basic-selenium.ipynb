{
 "cells": [
  {
   "cell_type": "code",
   "execution_count": 12,
   "id": "620819d6-bba9-4440-bac1-7daf8b90286a",
   "metadata": {},
   "outputs": [],
   "source": [
    "# import necessary library"
   ]
  },
  {
   "cell_type": "code",
   "execution_count": 13,
   "id": "2e151f82-3384-4a4f-bb6a-4f1bd6fea265",
   "metadata": {},
   "outputs": [],
   "source": [
    "from selenium import webdriver"
   ]
  },
  {
   "cell_type": "code",
   "execution_count": 14,
   "id": "4f9f2286-ad95-4353-b208-2c023578e4af",
   "metadata": {},
   "outputs": [],
   "source": [
    "# Initialize the Chrome driver"
   ]
  },
  {
   "cell_type": "code",
   "execution_count": 15,
   "id": "6407d636-2254-4e62-9750-f52a9e7467b0",
   "metadata": {},
   "outputs": [],
   "source": [
    "driver = webdriver.Chrome()"
   ]
  },
  {
   "cell_type": "code",
   "execution_count": 16,
   "id": "7a9f4371-01ce-456b-b564-a02a4ba7c94f",
   "metadata": {},
   "outputs": [],
   "source": [
    "# Open a website"
   ]
  },
  {
   "cell_type": "code",
   "execution_count": 17,
   "id": "00592d7b-aaa5-4138-b759-fa3a6d012a7c",
   "metadata": {},
   "outputs": [],
   "source": [
    "driver.get(\"https://www.google.com\")"
   ]
  },
  {
   "cell_type": "code",
   "execution_count": 18,
   "id": "85b69d21-efec-4b4d-881a-315186cf3d66",
   "metadata": {},
   "outputs": [],
   "source": [
    "# Print the title of the page"
   ]
  },
  {
   "cell_type": "code",
   "execution_count": 19,
   "id": "9f0e67dc-861a-44c3-bac9-1ad6f3cee34e",
   "metadata": {},
   "outputs": [
    {
     "name": "stdout",
     "output_type": "stream",
     "text": [
      "Google\n"
     ]
    }
   ],
   "source": [
    "print(driver.title)"
   ]
  },
  {
   "cell_type": "code",
   "execution_count": 20,
   "id": "10e4b51b-d1fb-49ac-a3a4-316decb6a17d",
   "metadata": {},
   "outputs": [],
   "source": [
    "# Close the browser"
   ]
  },
  {
   "cell_type": "code",
   "execution_count": 21,
   "id": "632f7ea9-9195-42c1-9979-7d5af7cd5e5a",
   "metadata": {},
   "outputs": [],
   "source": [
    "driver.quit()"
   ]
  },
  {
   "cell_type": "code",
   "execution_count": null,
   "id": "753f6149-7b8d-4193-a0ea-901dcb9fc082",
   "metadata": {},
   "outputs": [],
   "source": []
  }
 ],
 "metadata": {
  "kernelspec": {
   "display_name": "Python 3 (ipykernel)",
   "language": "python",
   "name": "python3"
  },
  "language_info": {
   "codemirror_mode": {
    "name": "ipython",
    "version": 3
   },
   "file_extension": ".py",
   "mimetype": "text/x-python",
   "name": "python",
   "nbconvert_exporter": "python",
   "pygments_lexer": "ipython3",
   "version": "3.12.4"
  }
 },
 "nbformat": 4,
 "nbformat_minor": 5
}
