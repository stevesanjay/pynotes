{
 "cells": [
  {
   "cell_type": "code",
   "execution_count": 1,
   "id": "f5c64ea1-ab22-49e3-a789-807c0fe687f0",
   "metadata": {},
   "outputs": [],
   "source": [
    "my_list = [1, 5, 4, 6, 8, 11, 3, 12]"
   ]
  },
  {
   "cell_type": "code",
   "execution_count": 2,
   "id": "cc4aafcd-4a3a-4476-ad2c-5a09ff0d397b",
   "metadata": {},
   "outputs": [],
   "source": [
    "number = list(filter(lambda x : (x%2==0) , my_list))"
   ]
  },
  {
   "cell_type": "code",
   "execution_count": 3,
   "id": "963d0444-bd81-4a7b-a23c-1fb6eef4b95c",
   "metadata": {},
   "outputs": [
    {
     "name": "stdout",
     "output_type": "stream",
     "text": [
      "[4, 6, 8, 12]\n"
     ]
    }
   ],
   "source": [
    "print(number)"
   ]
  },
  {
   "cell_type": "code",
   "execution_count": null,
   "id": "bf8db0fb-a096-413a-9254-5636730e9adb",
   "metadata": {},
   "outputs": [],
   "source": []
  }
 ],
 "metadata": {
  "kernelspec": {
   "display_name": "Python 3 (ipykernel)",
   "language": "python",
   "name": "python3"
  },
  "language_info": {
   "codemirror_mode": {
    "name": "ipython",
    "version": 3
   },
   "file_extension": ".py",
   "mimetype": "text/x-python",
   "name": "python",
   "nbconvert_exporter": "python",
   "pygments_lexer": "ipython3",
   "version": "3.12.4"
  }
 },
 "nbformat": 4,
 "nbformat_minor": 5
}
