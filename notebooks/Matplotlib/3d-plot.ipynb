{
 "cells": [
  {
   "cell_type": "code",
   "execution_count": 1,
   "id": "2c0b7b83-e809-4434-bab1-b22ae30682b4",
   "metadata": {},
   "outputs": [],
   "source": [
    "# 3D Plot"
   ]
  },
  {
   "cell_type": "code",
   "execution_count": 2,
   "id": "28055335-5442-401a-9786-49029af61928",
   "metadata": {},
   "outputs": [],
   "source": [
    "# import necessary library"
   ]
  },
  {
   "cell_type": "code",
   "execution_count": 3,
   "id": "9d0509fb-79d2-4d74-85ad-3a72e49e1405",
   "metadata": {},
   "outputs": [],
   "source": [
    "import matplotlib.pyplot as plt"
   ]
  },
  {
   "cell_type": "code",
   "execution_count": 4,
   "id": "0fb699bd-9292-4ad6-8bb7-ea97c98c6a78",
   "metadata": {},
   "outputs": [],
   "source": [
    "from mpl_toolkits.mplot3d import Axes3D"
   ]
  },
  {
   "cell_type": "code",
   "execution_count": 5,
   "id": "8be23da0-5547-45e9-9db5-3a92c2584791",
   "metadata": {},
   "outputs": [],
   "source": [
    "import numpy as np\n"
   ]
  },
  {
   "cell_type": "code",
   "execution_count": 6,
   "id": "48d36988-39be-4e43-b859-9bf11ad20e81",
   "metadata": {},
   "outputs": [],
   "source": [
    "# Data"
   ]
  },
  {
   "cell_type": "code",
   "execution_count": 7,
   "id": "1e80024a-90d4-400e-a60a-09d7ec676cb0",
   "metadata": {},
   "outputs": [],
   "source": [
    "x = np.linspace(-5, 5, 100)"
   ]
  },
  {
   "cell_type": "code",
   "execution_count": 8,
   "id": "9bf7b206-709b-4a64-b2a3-9e1e34e698d2",
   "metadata": {},
   "outputs": [],
   "source": [
    "y = np.linspace(-5, 5, 100)"
   ]
  },
  {
   "cell_type": "code",
   "execution_count": 9,
   "id": "4b97241a-480a-439d-9ba1-8ec6bf88fa40",
   "metadata": {},
   "outputs": [],
   "source": [
    "x, y = np.meshgrid(x, y)"
   ]
  },
  {
   "cell_type": "code",
   "execution_count": 10,
   "id": "3e25a0c1-18b2-4873-88d1-3e3d24ae31ce",
   "metadata": {},
   "outputs": [],
   "source": [
    "z = np.sin(np.sqrt(x**2 + y**2))"
   ]
  },
  {
   "cell_type": "code",
   "execution_count": 11,
   "id": "ba1b7b32-05f0-4975-b199-56536adb8037",
   "metadata": {},
   "outputs": [],
   "source": [
    "# Creating a 3D plot"
   ]
  },
  {
   "cell_type": "code",
   "execution_count": 12,
   "id": "5da68104-ac52-45b5-b1a1-63f4757c4f94",
   "metadata": {},
   "outputs": [
    {
     "data": {
      "text/plain": [
       "<Figure size 640x480 with 0 Axes>"
      ]
     },
     "metadata": {},
     "output_type": "display_data"
    }
   ],
   "source": [
    "fig = plt.figure()"
   ]
  },
  {
   "cell_type": "code",
   "execution_count": 13,
   "id": "64ef0561-c77f-4d91-8e99-4f8b111d4cbd",
   "metadata": {},
   "outputs": [],
   "source": [
    "ax = fig.add_subplot(111, projection='3d')"
   ]
  },
  {
   "cell_type": "code",
   "execution_count": 14,
   "id": "fca5d67a-faeb-471c-a614-2b08e5adb8c2",
   "metadata": {},
   "outputs": [
    {
     "data": {
      "text/plain": [
       "<mpl_toolkits.mplot3d.art3d.Poly3DCollection at 0x10b1314c0>"
      ]
     },
     "execution_count": 14,
     "metadata": {},
     "output_type": "execute_result"
    }
   ],
   "source": [
    "ax.plot_surface(x, y, z, cmap='viridis')"
   ]
  },
  {
   "cell_type": "code",
   "execution_count": 15,
   "id": "12d7cca7-2984-4289-b933-12af1cee4680",
   "metadata": {},
   "outputs": [],
   "source": [
    "# Adding title"
   ]
  },
  {
   "cell_type": "code",
   "execution_count": 16,
   "id": "614029f3-8842-4669-8d50-8aaf7316e355",
   "metadata": {},
   "outputs": [
    {
     "data": {
      "text/plain": [
       "Text(0.5, 1.0, '3D Surface Plot')"
      ]
     },
     "execution_count": 16,
     "metadata": {},
     "output_type": "execute_result"
    },
    {
     "data": {
      "image/png": "[encoded data removed]",
      "text/plain": [
       "<Figure size 640x480 with 1 Axes>"
      ]
     },
     "metadata": {},
     "output_type": "display_data"
    }
   ],
   "source": [
    "plt.title('3D Surface Plot')\n"
   ]
  },
  {
   "cell_type": "code",
   "execution_count": 17,
   "id": "097214d5-b0bc-46ca-ae72-2b93ebaa22a5",
   "metadata": {},
   "outputs": [],
   "source": [
    "# Show plot"
   ]
  },
  {
   "cell_type": "code",
   "execution_count": 18,
   "id": "61f493d6-f4b2-407a-b9f5-ff8138869e08",
   "metadata": {},
   "outputs": [],
   "source": [
    "plt.show()"
   ]
  },
  {
   "cell_type": "code",
   "execution_count": 19,
   "id": "63ffd3a2-ea62-4363-9e0a-8db8a6af1e08",
   "metadata": {},
   "outputs": [
    {
     "data": {
      "text/plain": [
       "<module 'matplotlib.pyplot' from '/usr/local/Caskroom/miniconda/base/envs/py312/lib/python3.12/site-packages/matplotlib/pyplot.py'>"
      ]
     },
     "execution_count": 19,
     "metadata": {},
     "output_type": "execute_result"
    }
   ],
   "source": [
    "plt"
   ]
  },
  {
   "cell_type": "code",
   "execution_count": null,
   "id": "ab854a4b-46ee-452e-968a-c4fa73bc89a2",
   "metadata": {},
   "outputs": [],
   "source": []
  }
 ],
 "metadata": {
  "kernelspec": {
   "display_name": "Python 3 (ipykernel)",
   "language": "python",
   "name": "python3"
  },
  "language_info": {
   "codemirror_mode": {
    "name": "ipython",
    "version": 3
   },
   "file_extension": ".py",
   "mimetype": "text/x-python",
   "name": "python",
   "nbconvert_exporter": "python",
   "pygments_lexer": "ipython3",
   "version": "3.12.4"
  }
 },
 "nbformat": 4,
 "nbformat_minor": 5
}
