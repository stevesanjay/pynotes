{
 "cells": [
  {
   "cell_type": "code",
   "execution_count": 1,
   "id": "a9e7da1a-6d72-49aa-b25d-54bada20d72c",
   "metadata": {},
   "outputs": [],
   "source": [
    "def print_everything(*args):\n",
    "        for count, thing in enumerate(args):\n",
    "            print( '{0}. {1}'.format(count, thing))"
   ]
  },
  {
   "cell_type": "code",
   "execution_count": 2,
   "id": "f80424d9-18e9-4856-8858-8ccb5c9c2f79",
   "metadata": {},
   "outputs": [
    {
     "name": "stdout",
     "output_type": "stream",
     "text": [
      "0. steve\n",
      "1. sanjay\n"
     ]
    }
   ],
   "source": [
    "print_everything(\"steve\",\"sanjay\")"
   ]
  },
  {
   "cell_type": "code",
   "execution_count": null,
   "id": "242c0ebf-793c-42bf-9662-f57d2e2d22dc",
   "metadata": {},
   "outputs": [],
   "source": []
  }
 ],
 "metadata": {
  "kernelspec": {
   "display_name": "Python 3 (ipykernel)",
   "language": "python",
   "name": "python3"
  },
  "language_info": {
   "codemirror_mode": {
    "name": "ipython",
    "version": 3
   },
   "file_extension": ".py",
   "mimetype": "text/x-python",
   "name": "python",
   "nbconvert_exporter": "python",
   "pygments_lexer": "ipython3",
   "version": "3.12.4"
  }
 },
 "nbformat": 4,
 "nbformat_minor": 5
}
