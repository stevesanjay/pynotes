{
 "cells": [
  {
   "cell_type": "code",
   "execution_count": null,
   "id": "b4564d08-a021-44a8-adf0-13da44305053",
   "metadata": {},
   "outputs": [],
   "source": [
    " # reading data by using the kwargs"
   ]
  },
  {
   "cell_type": "code",
   "execution_count": 3,
   "id": "a9e7da1a-6d72-49aa-b25d-54bada20d72c",
   "metadata": {},
   "outputs": [],
   "source": [
    "def greet(**kwargs):\n",
    "    for key, value in kwargs.items():\n",
    "        print(f\"{key}: {value}\")"
   ]
  },
  {
   "cell_type": "code",
   "execution_count": 4,
   "id": "11f53906-edea-46fb-bd05-a721eecffad1",
   "metadata": {},
   "outputs": [],
   "source": [
    "def main_fun():\n",
    "    greet(name=\"Alice\", age=25, city=\"New York\")"
   ]
  },
  {
   "cell_type": "code",
   "execution_count": 7,
   "id": "f80424d9-18e9-4856-8858-8ccb5c9c2f79",
   "metadata": {},
   "outputs": [
    {
     "name": "stdout",
     "output_type": "stream",
     "text": [
      "name: Alice\n",
      "age: 25\n",
      "city: New York\n"
     ]
    }
   ],
   "source": [
    "# Example usage\n",
    "main_fun()"
   ]
  },
  {
   "cell_type": "code",
   "execution_count": null,
   "id": "242c0ebf-793c-42bf-9662-f57d2e2d22dc",
   "metadata": {},
   "outputs": [],
   "source": []
  }
 ],
 "metadata": {
  "kernelspec": {
   "display_name": "Python 3 (ipykernel)",
   "language": "python",
   "name": "python3"
  },
  "language_info": {
   "codemirror_mode": {
    "name": "ipython",
    "version": 3
   },
   "file_extension": ".py",
   "mimetype": "text/x-python",
   "name": "python",
   "nbconvert_exporter": "python",
   "pygments_lexer": "ipython3",
   "version": "3.12.4"
  }
 },
 "nbformat": 4,
 "nbformat_minor": 5
}
