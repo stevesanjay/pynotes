{
 "cells": [
  {
   "cell_type": "code",
   "execution_count": null,
   "id": "81e6bbdb-0362-4ac2-83d8-e2abf9c22b87",
   "metadata": {},
   "outputs": [],
   "source": [
    "# reading data by using the args."
   ]
  },
  {
   "cell_type": "code",
   "execution_count": 3,
   "id": "e7f7ffd8-588e-4546-a69e-832d87ff8c65",
   "metadata": {},
   "outputs": [],
   "source": [
    "def print_everything(*args):\n",
    "        for count, thing in enumerate(args):\n",
    "            print( '{0}. {1}'.format(count, thing))"
   ]
  },
  {
   "cell_type": "code",
   "execution_count": null,
   "id": "dffb5887-1b3f-40a4-b194-c18af52eac5d",
   "metadata": {},
   "outputs": [],
   "source": [
    "# read the data from the print_everything method "
   ]
  },
  {
   "cell_type": "code",
   "execution_count": 4,
   "id": "c9fa301b-343b-454b-9976-014a0e9e1e22",
   "metadata": {},
   "outputs": [],
   "source": [
    "def main():\n",
    "    print_everything('apple', 'banana', 'cabbage', 'spinach')"
   ]
  },
  {
   "cell_type": "code",
   "execution_count": 7,
   "id": "7efc8f95-efa6-4f4c-88cb-b2223bdb2788",
   "metadata": {},
   "outputs": [
    {
     "name": "stdout",
     "output_type": "stream",
     "text": [
      "0. apple\n",
      "1. banana\n",
      "2. cabbage\n",
      "3. spinach\n"
     ]
    }
   ],
   "source": [
    "main()"
   ]
  },
  {
   "cell_type": "code",
   "execution_count": 6,
   "id": "c60d0445-c629-4cca-b5fd-b98d3f093fbb",
   "metadata": {},
   "outputs": [],
   "source": [
    "print_everything()"
   ]
  },
  {
   "cell_type": "code",
   "execution_count": null,
   "id": "8f6bbcc8-c02d-496b-abea-a101834fcb3e",
   "metadata": {},
   "outputs": [],
   "source": []
  }
 ],
 "metadata": {
  "kernelspec": {
   "display_name": "Python 3 (ipykernel)",
   "language": "python",
   "name": "python3"
  },
  "language_info": {
   "codemirror_mode": {
    "name": "ipython",
    "version": 3
   },
   "file_extension": ".py",
   "mimetype": "text/x-python",
   "name": "python",
   "nbconvert_exporter": "python",
   "pygments_lexer": "ipython3",
   "version": "3.12.4"
  }
 },
 "nbformat": 4,
 "nbformat_minor": 5
}
