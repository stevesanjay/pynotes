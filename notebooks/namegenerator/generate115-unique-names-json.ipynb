{
 "cells": [
  {
   "cell_type": "code",
   "execution_count": null,
   "id": "2f5353e2-7e0f-4994-898b-1b16a58dabaa",
   "metadata": {},
   "outputs": [],
   "source": [
    "# Generate Unique Names and Save to JSON"
   ]
  },
  {
   "cell_type": "code",
   "execution_count": 5,
   "id": "68f953cf-0b24-45a3-807d-406f5cc7b8ef",
   "metadata": {},
   "outputs": [],
   "source": [
    "import namegenerator\n",
    "import json"
   ]
  },
  {
   "cell_type": "code",
   "execution_count": 6,
   "id": "8cf2c977-5714-4e56-92e9-0e3eacaf4c9b",
   "metadata": {},
   "outputs": [],
   "source": [
    "def generate_unique_names_json(num_names, filename):\n",
    "    names = set()  # Ensure unique names\n",
    "    while len(names) < num_names:\n",
    "        names.add(namegenerator.gen())\n",
    "    \n",
    "    with open(filename, 'w') as file:\n",
    "        json.dump(list(names), file)\n",
    "    \n",
    "    return f\"Generated {num_names} unique names and saved to {filename}\"\n"
   ]
  },
  {
   "cell_type": "code",
   "execution_count": 7,
   "id": "87eb1620-6497-4ccc-9c37-1660c9fbbc0a",
   "metadata": {},
   "outputs": [],
   "source": [
    "num_names = 8\n",
    "filename = 'unique_generated_names.json'"
   ]
  },
  {
   "cell_type": "code",
   "execution_count": 8,
   "id": "c0dbd0ee-4fc5-40b3-80c1-868d152debbb",
   "metadata": {},
   "outputs": [
    {
     "name": "stdout",
     "output_type": "stream",
     "text": [
      "Generated 8 unique names and saved to unique_generated_names.json\n"
     ]
    }
   ],
   "source": [
    "print(generate_unique_names_json(num_names, filename))"
   ]
  },
  {
   "cell_type": "code",
   "execution_count": null,
   "id": "ac12f79a-336f-4a60-bc97-1a9e64991cdd",
   "metadata": {},
   "outputs": [],
   "source": []
  }
 ],
 "metadata": {
  "kernelspec": {
   "display_name": "Python 3 (ipykernel)",
   "language": "python",
   "name": "python3"
  },
  "language_info": {
   "codemirror_mode": {
    "name": "ipython",
    "version": 3
   },
   "file_extension": ".py",
   "mimetype": "text/x-python",
   "name": "python",
   "nbconvert_exporter": "python",
   "pygments_lexer": "ipython3",
   "version": "3.12.4"
  }
 },
 "nbformat": 4,
 "nbformat_minor": 5
}
