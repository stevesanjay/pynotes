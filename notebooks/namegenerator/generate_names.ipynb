{
 "cells": [
  {
   "cell_type": "code",
   "execution_count": 1,
   "id": "05540f34-6bc9-4fd9-8147-11fc579528b2",
   "metadata": {},
   "outputs": [],
   "source": [
    "# Generate Random Usernames and Save to File"
   ]
  },
  {
   "cell_type": "code",
   "execution_count": 3,
   "id": "8d43ea53-b739-4b12-87a9-aa4716687652",
   "metadata": {},
   "outputs": [
    {
     "name": "stdout",
     "output_type": "stream",
     "text": [
      "Collecting namegenerator\n",
      "  Downloading namegenerator-1.0.6.tar.gz (4.4 kB)\n",
      "  Preparing metadata (setup.py) ... \u001b[?25ldone\n",
      "\u001b[?25hBuilding wheels for collected packages: namegenerator\n",
      "  Building wheel for namegenerator (setup.py) ... \u001b[?25ldone\n",
      "\u001b[?25h  Created wheel for namegenerator: filename=namegenerator-1.0.6-py3-none-any.whl size=4433 sha256=f5c8901d37e05e06b02c0c3a5c2ecf26c258d9617204297b1c186e0090a38040\n",
      "  Stored in directory: /Users/tactlabs2/Library/Caches/pip/wheels/15/86/3c/110d482098a28761a75cce3a526b31de7789c17f381e459743\n",
      "Successfully built namegenerator\n",
      "Installing collected packages: namegenerator\n",
      "Successfully installed namegenerator-1.0.6\n"
     ]
    }
   ],
   "source": [
    "!pip install namegenerator"
   ]
  },
  {
   "cell_type": "code",
   "execution_count": 4,
   "id": "44f1012b-dc73-4795-9143-da52e9f50981",
   "metadata": {},
   "outputs": [],
   "source": [
    "import namegenerator\n"
   ]
  },
  {
   "cell_type": "code",
   "execution_count": 5,
   "id": "b57406ba-64b7-4bde-a774-f96ef85703d0",
   "metadata": {},
   "outputs": [],
   "source": [
    "def generate_usernames(filename, count=10):\n",
    "    usernames = [namegenerator.gen() for _ in range(count)]\n",
    "    \n",
    "    with open(filename, 'w') as file:\n",
    "        for username in usernames:\n",
    "            file.write(username + \"\\n\")\n",
    "    \n",
    "    return f\"{count} usernames saved to {filename}\""
   ]
  },
  {
   "cell_type": "code",
   "execution_count": 6,
   "id": "5b0314cf-86bc-4229-b138-b15c022411a1",
   "metadata": {},
   "outputs": [],
   "source": [
    "filename = 'usernames.txt'"
   ]
  },
  {
   "cell_type": "code",
   "execution_count": 7,
   "id": "47df03c2-42f0-498b-a985-7ff0e79420cf",
   "metadata": {},
   "outputs": [
    {
     "name": "stdout",
     "output_type": "stream",
     "text": [
      "10 usernames saved to usernames.txt\n"
     ]
    }
   ],
   "source": [
    "print(generate_usernames(filename))"
   ]
  },
  {
   "cell_type": "code",
   "execution_count": null,
   "id": "c1f4e207-e753-4625-9a1c-36c7ed7d9a4b",
   "metadata": {},
   "outputs": [],
   "source": []
  }
 ],
 "metadata": {
  "kernelspec": {
   "display_name": "Python 3 (ipykernel)",
   "language": "python",
   "name": "python3"
  },
  "language_info": {
   "codemirror_mode": {
    "name": "ipython",
    "version": 3
   },
   "file_extension": ".py",
   "mimetype": "text/x-python",
   "name": "python",
   "nbconvert_exporter": "python",
   "pygments_lexer": "ipython3",
   "version": "3.12.4"
  }
 },
 "nbformat": 4,
 "nbformat_minor": 5
}
