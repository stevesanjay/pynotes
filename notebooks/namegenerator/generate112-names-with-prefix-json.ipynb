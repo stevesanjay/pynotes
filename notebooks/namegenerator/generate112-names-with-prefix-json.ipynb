{
 "cells": [
  {
   "cell_type": "code",
   "execution_count": 1,
   "id": "72e13dc1-3943-4d2d-bdf3-d1f263f21f06",
   "metadata": {},
   "outputs": [],
   "source": [
    "# Generate Names with Prefix and Save to JSON\n"
   ]
  },
  {
   "cell_type": "code",
   "execution_count": 2,
   "id": "cc86e54e-fbfc-49a6-8231-09a836808c01",
   "metadata": {},
   "outputs": [],
   "source": [
    "import namegenerator\n",
    "import json"
   ]
  },
  {
   "cell_type": "code",
   "execution_count": 3,
   "id": "027b490d-4f47-4294-ae92-b18b5afb243e",
   "metadata": {},
   "outputs": [],
   "source": [
    "def generate_names_with_prefix_json(prefix, num_names, filename):\n",
    "    names = [prefix + namegenerator.gen() for _ in range(num_names)]\n",
    "    with open(filename, 'w') as file:\n",
    "        json.dump(names, file)\n",
    "    return f\"Generated {num_names} names with prefix '{prefix}' and saved to {filename}\"\n"
   ]
  },
  {
   "cell_type": "code",
   "execution_count": 4,
   "id": "50545b47-9e79-42e9-b062-efdd56d75fd8",
   "metadata": {},
   "outputs": [],
   "source": [
    "prefix = \"guest_\"\n",
    "num_names = 6"
   ]
  },
  {
   "cell_type": "code",
   "execution_count": 5,
   "id": "03eebe20-adaf-47da-bd7e-8b8ceeeb67b8",
   "metadata": {},
   "outputs": [
    {
     "name": "stdout",
     "output_type": "stream",
     "text": [
      "Generated 6 names with prefix 'guest_' and saved to generated_names_with_prefix.json\n"
     ]
    }
   ],
   "source": [
    "filename = 'generated_names_with_prefix.json'\n",
    "print(generate_names_with_prefix_json(prefix, num_names, filename))"
   ]
  },
  {
   "cell_type": "code",
   "execution_count": null,
   "id": "d2b2952d-211d-4bf3-80f7-9cb3ee138f22",
   "metadata": {},
   "outputs": [],
   "source": []
  }
 ],
 "metadata": {
  "kernelspec": {
   "display_name": "Python 3 (ipykernel)",
   "language": "python",
   "name": "python3"
  },
  "language_info": {
   "codemirror_mode": {
    "name": "ipython",
    "version": 3
   },
   "file_extension": ".py",
   "mimetype": "text/x-python",
   "name": "python",
   "nbconvert_exporter": "python",
   "pygments_lexer": "ipython3",
   "version": "3.12.4"
  }
 },
 "nbformat": 4,
 "nbformat_minor": 5
}
