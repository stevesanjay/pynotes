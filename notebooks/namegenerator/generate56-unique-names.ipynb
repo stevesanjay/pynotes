{
 "cells": [
  {
   "cell_type": "code",
   "execution_count": 1,
   "id": "87e0e478-d0f3-4dd8-bea3-a70ea2df0c22",
   "metadata": {},
   "outputs": [],
   "source": [
    "# Generate Unique Names and Save to File"
   ]
  },
  {
   "cell_type": "code",
   "execution_count": 2,
   "id": "68ea0f0c-dd50-46b7-9835-6af8c125b9aa",
   "metadata": {},
   "outputs": [],
   "source": [
    "import namegenerator"
   ]
  },
  {
   "cell_type": "code",
   "execution_count": 3,
   "id": "cac1c6fc-758a-4e4b-8187-567cba528e8b",
   "metadata": {},
   "outputs": [],
   "source": [
    "def generate_unique_names(num_names, filename):\n",
    "    names = set()  # Using a set to ensure unique names\n",
    "    while len(names) < num_names:\n",
    "        names.add(namegenerator.gen())\n",
    "    \n",
    "    with open(filename, 'w') as file:\n",
    "        for name in names:\n",
    "            file.write(f\"{name}\\n\")\n",
    "    \n",
    "    return f\"Generated {num_names} unique names and saved to {filename}\""
   ]
  },
  {
   "cell_type": "code",
   "execution_count": 4,
   "id": "59bceeff-96b4-4492-aa73-17f4230bc6b3",
   "metadata": {},
   "outputs": [],
   "source": [
    "num_names = 8\n",
    "filename = 'unique_generated_names.txt'"
   ]
  },
  {
   "cell_type": "code",
   "execution_count": 5,
   "id": "4baa5bbd-25e3-4c2a-b9bd-db7fbe75b021",
   "metadata": {},
   "outputs": [
    {
     "name": "stdout",
     "output_type": "stream",
     "text": [
      "Generated 8 unique names and saved to unique_generated_names.txt\n"
     ]
    }
   ],
   "source": [
    "print(generate_unique_names(num_names, filename))"
   ]
  },
  {
   "cell_type": "code",
   "execution_count": null,
   "id": "8c88c625-a9c9-4828-9adc-d85c35cde06d",
   "metadata": {},
   "outputs": [],
   "source": []
  }
 ],
 "metadata": {
  "kernelspec": {
   "display_name": "Python 3 (ipykernel)",
   "language": "python",
   "name": "python3"
  },
  "language_info": {
   "codemirror_mode": {
    "name": "ipython",
    "version": 3
   },
   "file_extension": ".py",
   "mimetype": "text/x-python",
   "name": "python",
   "nbconvert_exporter": "python",
   "pygments_lexer": "ipython3",
   "version": "3.12.4"
  }
 },
 "nbformat": 4,
 "nbformat_minor": 5
}
