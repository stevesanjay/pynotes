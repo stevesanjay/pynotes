{
 "cells": [
  {
   "cell_type": "code",
   "execution_count": 1,
   "id": "50df75a3-33c2-458c-8d5d-bd4f07b720bb",
   "metadata": {},
   "outputs": [],
   "source": [
    "# Generate Names from Wordlist and Save to File"
   ]
  },
  {
   "cell_type": "code",
   "execution_count": 2,
   "id": "dd5589f9-3c55-409c-affb-cb7a8db9a6c5",
   "metadata": {},
   "outputs": [],
   "source": [
    "import namegenerator"
   ]
  },
  {
   "cell_type": "code",
   "execution_count": 3,
   "id": "5de31d77-7935-4298-963c-1ed342d8631a",
   "metadata": {},
   "outputs": [],
   "source": [
    "def generate_names_from_wordlist(wordlist, num_names, filename):\n",
    "    names = [namegenerator.gen() for _ in range(num_names)]  # Using gen as default function\n",
    "    with open(filename, 'w') as file:\n",
    "        for name in names:\n",
    "            file.write(f\"{name}\\n\")\n",
    "    return f\"Generated {num_names} names from wordlist and saved to {filename}\"\n"
   ]
  },
  {
   "cell_type": "code",
   "execution_count": 4,
   "id": "041ca399-6111-4af6-9e07-e11333e79639",
   "metadata": {},
   "outputs": [],
   "source": [
    "wordlist = [\"apple\", \"banana\", \"cherry\", \"date\"]\n",
    "num_names = 6"
   ]
  },
  {
   "cell_type": "code",
   "execution_count": 5,
   "id": "68487f6a-8221-4f55-9c57-327218c0f8a8",
   "metadata": {},
   "outputs": [
    {
     "name": "stdout",
     "output_type": "stream",
     "text": [
      "Generated 6 names from wordlist and saved to generated_names_from_wordlist.txt\n"
     ]
    }
   ],
   "source": [
    "filename = 'generated_names_from_wordlist.txt'\n",
    "print(generate_names_from_wordlist(wordlist, num_names, filename))"
   ]
  },
  {
   "cell_type": "code",
   "execution_count": null,
   "id": "d7421071-e1ae-484c-b69a-b3cf2a70b010",
   "metadata": {},
   "outputs": [],
   "source": []
  }
 ],
 "metadata": {
  "kernelspec": {
   "display_name": "Python 3 (ipykernel)",
   "language": "python",
   "name": "python3"
  },
  "language_info": {
   "codemirror_mode": {
    "name": "ipython",
    "version": 3
   },
   "file_extension": ".py",
   "mimetype": "text/x-python",
   "name": "python",
   "nbconvert_exporter": "python",
   "pygments_lexer": "ipython3",
   "version": "3.12.4"
  }
 },
 "nbformat": 4,
 "nbformat_minor": 5
}
