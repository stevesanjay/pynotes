{
 "cells": [
  {
   "cell_type": "code",
   "execution_count": 1,
   "id": "8c5ce155-dcc4-4e3f-b73d-fc09aef7e3f6",
   "metadata": {},
   "outputs": [],
   "source": [
    "# Generate Names and Save to CSV File\n"
   ]
  },
  {
   "cell_type": "code",
   "execution_count": 4,
   "id": "c1b3b134-a10f-44a0-87ed-a3d230b2080d",
   "metadata": {},
   "outputs": [],
   "source": [
    "import namegenerator\n",
    "import csv"
   ]
  },
  {
   "cell_type": "code",
   "execution_count": 5,
   "id": "79cf94ba-109d-4752-a19f-5b3cd4bdab4a",
   "metadata": {},
   "outputs": [],
   "source": [
    "def generate_names_to_csv(num_names, filename):\n",
    "    names = [namegenerator.gen() for _ in range(num_names)]\n",
    "    with open(filename, mode='w', newline='') as file:\n",
    "        writer = csv.writer(file)\n",
    "        writer.writerow([\"Generated Names\"])\n",
    "        for name in names:\n",
    "            writer.writerow([name])\n",
    "    return f\"Generated {num_names} names and saved to {filename}\""
   ]
  },
  {
   "cell_type": "code",
   "execution_count": 6,
   "id": "3cb0feaa-b749-46a1-bac6-d2eb70c946f0",
   "metadata": {},
   "outputs": [],
   "source": [
    "num_names = 5"
   ]
  },
  {
   "cell_type": "code",
   "execution_count": 7,
   "id": "0954cbcf-e7ac-4531-914a-6d29c891bdef",
   "metadata": {},
   "outputs": [
    {
     "name": "stdout",
     "output_type": "stream",
     "text": [
      "Generated 5 names and saved to generated_names.csv\n"
     ]
    }
   ],
   "source": [
    "filename = 'generated_names.csv'\n",
    "print(generate_names_to_csv(num_names, filename))"
   ]
  },
  {
   "cell_type": "code",
   "execution_count": null,
   "id": "b121d2a9-ee99-48fa-b60c-b4d602e38775",
   "metadata": {},
   "outputs": [],
   "source": []
  }
 ],
 "metadata": {
  "kernelspec": {
   "display_name": "Python 3 (ipykernel)",
   "language": "python",
   "name": "python3"
  },
  "language_info": {
   "codemirror_mode": {
    "name": "ipython",
    "version": 3
   },
   "file_extension": ".py",
   "mimetype": "text/x-python",
   "name": "python",
   "nbconvert_exporter": "python",
   "pygments_lexer": "ipython3",
   "version": "3.12.4"
  }
 },
 "nbformat": 4,
 "nbformat_minor": 5
}
