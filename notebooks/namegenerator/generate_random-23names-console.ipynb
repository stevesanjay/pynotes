{
 "cells": [
  {
   "cell_type": "code",
   "execution_count": 1,
   "id": "63df09bf-e0c4-49d5-ad46-a2f087157664",
   "metadata": {},
   "outputs": [],
   "source": [
    "# Generate Random Names and Print to Console"
   ]
  },
  {
   "cell_type": "code",
   "execution_count": 2,
   "id": "1588306c-cdcf-4aa1-8fa2-8324985ab5f9",
   "metadata": {},
   "outputs": [],
   "source": [
    "import namegenerator"
   ]
  },
  {
   "cell_type": "code",
   "execution_count": 3,
   "id": "0c69701d-7595-48b5-af7e-836f64c9d585",
   "metadata": {},
   "outputs": [],
   "source": [
    "def generate_and_print_names(num_names):\n",
    "    names = [namegenerator.gen() for _ in range(num_names)]\n",
    "    for name in names:\n",
    "        print(name)"
   ]
  },
  {
   "cell_type": "code",
   "execution_count": 4,
   "id": "dfdc488a-18b5-44c1-bb12-09c9d2c711f3",
   "metadata": {},
   "outputs": [],
   "source": [
    "num_names = 5"
   ]
  },
  {
   "cell_type": "code",
   "execution_count": 5,
   "id": "a25d9acf-740d-4177-a14c-392bf60f7885",
   "metadata": {},
   "outputs": [
    {
     "name": "stdout",
     "output_type": "stream",
     "text": [
      "gloppy-azure-chimpanzee\n",
      "squeaky-harlequin-oyster\n",
      "stinky-flax-chipmunk\n",
      "freaky-magnolia-zebra\n",
      "droopy-grey-vole\n"
     ]
    }
   ],
   "source": [
    "generate_and_print_names(num_names)"
   ]
  },
  {
   "cell_type": "code",
   "execution_count": null,
   "id": "99fb0956-6db1-4547-b98e-c907b07bff30",
   "metadata": {},
   "outputs": [],
   "source": []
  }
 ],
 "metadata": {
  "kernelspec": {
   "display_name": "Python 3 (ipykernel)",
   "language": "python",
   "name": "python3"
  },
  "language_info": {
   "codemirror_mode": {
    "name": "ipython",
    "version": 3
   },
   "file_extension": ".py",
   "mimetype": "text/x-python",
   "name": "python",
   "nbconvert_exporter": "python",
   "pygments_lexer": "ipython3",
   "version": "3.12.4"
  }
 },
 "nbformat": 4,
 "nbformat_minor": 5
}
