{
 "cells": [
  {
   "cell_type": "code",
   "execution_count": 1,
   "id": "1f448765-b72e-41cf-9cb6-6fb00063913e",
   "metadata": {},
   "outputs": [],
   "source": [
    "import namegenerator"
   ]
  },
  {
   "cell_type": "code",
   "execution_count": 2,
   "id": "1f5dfdc9-1d56-415f-a455-b459226a09a9",
   "metadata": {},
   "outputs": [
    {
     "name": "stdout",
     "output_type": "stream",
     "text": [
      "['CENTER', 'LEFT', 'RIGHT', '__builtins__', '__cached__', '__doc__', '__file__', '__loader__', '__name__', '__package__', '__path__', '__spec__', 'gen', 'random']\n"
     ]
    }
   ],
   "source": [
    "print(dir(namegenerator))"
   ]
  },
  {
   "cell_type": "code",
   "execution_count": null,
   "id": "357f646b-2f6a-4481-ac3d-c9dc748be02b",
   "metadata": {},
   "outputs": [],
   "source": []
  }
 ],
 "metadata": {
  "kernelspec": {
   "display_name": "Python 3 (ipykernel)",
   "language": "python",
   "name": "python3"
  },
  "language_info": {
   "codemirror_mode": {
    "name": "ipython",
    "version": 3
   },
   "file_extension": ".py",
   "mimetype": "text/x-python",
   "name": "python",
   "nbconvert_exporter": "python",
   "pygments_lexer": "ipython3",
   "version": "3.12.4"
  }
 },
 "nbformat": 4,
 "nbformat_minor": 5
}
