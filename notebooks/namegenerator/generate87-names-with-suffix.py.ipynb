{
 "cells": [
  {
   "cell_type": "code",
   "execution_count": 2,
   "id": "46173412-80b7-4f84-a0b7-d06b100d7895",
   "metadata": {},
   "outputs": [],
   "source": [
    "# Generate Names with Suffix and Save to File"
   ]
  },
  {
   "cell_type": "code",
   "execution_count": 3,
   "id": "843c73ea-74bc-4296-a92f-7431457d429a",
   "metadata": {},
   "outputs": [],
   "source": [
    "import namegenerator"
   ]
  },
  {
   "cell_type": "code",
   "execution_count": 4,
   "id": "480e375b-d440-435d-a9c5-b86d577717bc",
   "metadata": {},
   "outputs": [],
   "source": [
    "def generate_names_with_suffix(suffix, num_names, filename):\n",
    "    names = [namegenerator.gen() + suffix for _ in range(num_names)]\n",
    "    with open(filename, 'w') as file:\n",
    "        for name in names:\n",
    "            file.write(f\"{name}\\n\")\n",
    "    return f\"Generated {num_names} names with suffix '{suffix}' and saved to {filename}\"\n"
   ]
  },
  {
   "cell_type": "code",
   "execution_count": 5,
   "id": "857fab98-b1cf-4887-998b-872ae76c0666",
   "metadata": {},
   "outputs": [],
   "source": [
    "# Example usage\n",
    "suffix = \"_xyz\"\n",
    "num_names = 7"
   ]
  },
  {
   "cell_type": "code",
   "execution_count": 6,
   "id": "0b4d2ffb-b4d4-4bd0-9c34-3c5c13ed58ab",
   "metadata": {},
   "outputs": [
    {
     "name": "stdout",
     "output_type": "stream",
     "text": [
      "Generated 7 names with suffix '_xyz' and saved to generated_names_with_suffix.txt\n"
     ]
    }
   ],
   "source": [
    "filename = 'generated_names_with_suffix.txt'\n",
    "print(generate_names_with_suffix(suffix, num_names, filename))"
   ]
  },
  {
   "cell_type": "code",
   "execution_count": null,
   "id": "034a4f36-d26a-440d-b277-90ed3fe5622f",
   "metadata": {},
   "outputs": [],
   "source": []
  }
 ],
 "metadata": {
  "kernelspec": {
   "display_name": "Python 3 (ipykernel)",
   "language": "python",
   "name": "python3"
  },
  "language_info": {
   "codemirror_mode": {
    "name": "ipython",
    "version": 3
   },
   "file_extension": ".py",
   "mimetype": "text/x-python",
   "name": "python",
   "nbconvert_exporter": "python",
   "pygments_lexer": "ipython3",
   "version": "3.12.4"
  }
 },
 "nbformat": 4,
 "nbformat_minor": 5
}
