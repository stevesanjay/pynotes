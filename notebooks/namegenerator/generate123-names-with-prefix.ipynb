{
 "cells": [
  {
   "cell_type": "code",
   "execution_count": 1,
   "id": "b1c741d2-082e-4a01-b052-5486a7728e61",
   "metadata": {},
   "outputs": [],
   "source": [
    "# Generate Names with Specific Prefix and Save to File"
   ]
  },
  {
   "cell_type": "code",
   "execution_count": 2,
   "id": "c5823261-c11c-4733-978e-efdc845b5dc5",
   "metadata": {},
   "outputs": [],
   "source": [
    "import namegenerator"
   ]
  },
  {
   "cell_type": "code",
   "execution_count": 6,
   "id": "4c88f83e-a119-45cb-8561-4c5a7ac92ba1",
   "metadata": {},
   "outputs": [],
   "source": [
    "def generate_names_with_prefix(prefix, num_names, filename):\n",
    "    names = [prefix + namegenerator.gen() for _ in range(num_names)]\n",
    "    with open(filename, 'w') as file:\n",
    "        for name in names:\n",
    "            file.write(f\"{name}\\n\")\n",
    "    return f\"Generated {num_names} names with prefix '{prefix}' and saved to {filename}\""
   ]
  },
  {
   "cell_type": "code",
   "execution_count": 7,
   "id": "566df411-f692-4a5c-87e3-2f2b22f472fa",
   "metadata": {},
   "outputs": [],
   "source": [
    "# Example usage\n",
    "prefix = \"user_\"\n",
    "num_names = 5"
   ]
  },
  {
   "cell_type": "code",
   "execution_count": 8,
   "id": "0db6b4fd-093a-457f-99b2-559c947e0875",
   "metadata": {},
   "outputs": [
    {
     "name": "stdout",
     "output_type": "stream",
     "text": [
      "Generated 5 names with prefix 'user_' and saved to generated_names_with_prefix.txt\n"
     ]
    }
   ],
   "source": [
    "filename = 'generated_names_with_prefix.txt'\n",
    "print(generate_names_with_prefix(prefix, num_names, filename))"
   ]
  },
  {
   "cell_type": "code",
   "execution_count": null,
   "id": "6a3a17de-e61a-400c-ae82-f67626d3d43a",
   "metadata": {},
   "outputs": [],
   "source": []
  }
 ],
 "metadata": {
  "kernelspec": {
   "display_name": "Python 3 (ipykernel)",
   "language": "python",
   "name": "python3"
  },
  "language_info": {
   "codemirror_mode": {
    "name": "ipython",
    "version": 3
   },
   "file_extension": ".py",
   "mimetype": "text/x-python",
   "name": "python",
   "nbconvert_exporter": "python",
   "pygments_lexer": "ipython3",
   "version": "3.12.4"
  }
 },
 "nbformat": 4,
 "nbformat_minor": 5
}
