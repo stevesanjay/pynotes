{
 "cells": [
  {
   "cell_type": "code",
   "execution_count": 1,
   "id": "8e44a888-9241-4f34-9f80-73a4af111d6c",
   "metadata": {},
   "outputs": [],
   "source": [
    "def merge_dicts(dict1, dict2):\n",
    "    # TODO: Implement the merge_dicts function\n",
    "\n",
    "    new_dict = {**dict1, **dict2}\n",
    "    return new_dict"
   ]
  },
  {
   "cell_type": "code",
   "execution_count": 2,
   "id": "0c90ff0c-a0ba-4a21-bcc2-eb82ac2b09c0",
   "metadata": {},
   "outputs": [
    {
     "name": "stdout",
     "output_type": "stream",
     "text": [
      "{1: 'one', 2: 'two', 3: 'three', 4: 'four'}\n"
     ]
    }
   ],
   "source": [
    "print(merge_dicts({1: 'one', 2: 'two'}, {3: 'three', 4: 'four'}))"
   ]
  },
  {
   "cell_type": "code",
   "execution_count": null,
   "id": "eccd2987-5c31-4e7e-83d2-94b4982f1dc4",
   "metadata": {},
   "outputs": [],
   "source": []
  }
 ],
 "metadata": {
  "kernelspec": {
   "display_name": "Python 3 (ipykernel)",
   "language": "python",
   "name": "python3"
  },
  "language_info": {
   "codemirror_mode": {
    "name": "ipython",
    "version": 3
   },
   "file_extension": ".py",
   "mimetype": "text/x-python",
   "name": "python",
   "nbconvert_exporter": "python",
   "pygments_lexer": "ipython3",
   "version": "3.12.4"
  }
 },
 "nbformat": 4,
 "nbformat_minor": 5
}
