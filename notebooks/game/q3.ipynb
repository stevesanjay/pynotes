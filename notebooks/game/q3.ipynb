{
 "cells": [
  {
   "cell_type": "code",
   "execution_count": null,
   "id": "a2dbaba9-fdcc-41cf-8b2c-323e6eb735cc",
   "metadata": {},
   "outputs": [],
   "source": [
    "def find_common_elements(list1, list2):\n",
    "    \"\"\"\n",
    "    Given two lists, find the common elements between them.\n",
    "\n",
    "    Args:\n",
    "    list1: First list of elements\n",
    "    list2: Second list of elements\n",
    "\n",
    "    Returns:\n",
    "    List of common elements between list1 and list2\n",
    "    \"\"\"\n",
    "\n",
    "    # Initialize an empty list to store common elements\n",
    "    common_elements = []\n",
    "\n",
    "    # pass\n"
   ]
  }
 ],
 "metadata": {
  "kernelspec": {
   "display_name": "Python 3 (ipykernel)",
   "language": "python",
   "name": "python3"
  },
  "language_info": {
   "codemirror_mode": {
    "name": "ipython",
    "version": 3
   },
   "file_extension": ".py",
   "mimetype": "text/x-python",
   "name": "python",
   "nbconvert_exporter": "python",
   "pygments_lexer": "ipython3",
   "version": "3.12.4"
  }
 },
 "nbformat": 4,
 "nbformat_minor": 5
}
