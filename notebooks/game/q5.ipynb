{
 "cells": [
  {
   "cell_type": "code",
   "execution_count": 4,
   "id": "199c68b5-5b47-4a9a-9d97-1409041077a7",
   "metadata": {},
   "outputs": [],
   "source": [
    "# print(reverse_words(\"Hello World\"))\n",
    "\n",
    "def find_longest_word(s):\n",
    "    \"\"\"\n",
    "    This function takes a string as input and returns the longest word in the string.\n",
    "\n",
    "    Parameters:\n",
    "    s (str): Input string\n",
    "\n",
    "    Returns:\n",
    "    str: Longest word in the input string\n",
    "    \"\"\"\n",
    "    \n",
    "    # Split the input string into words\n",
    "    words = s.split()\n",
    "\n",
    "    for longest_word in word:\n",
    "        print(f\"longest_word:{longest_word}\")\n",
    "        \n",
    "    \n",
    "    \n",
    "    return longest_word\n"
   ]
  },
  {
   "cell_type": "code",
   "execution_count": 5,
   "id": "0512f48d-1eb8-4750-bcf9-af37708a6308",
   "metadata": {},
   "outputs": [
    {
     "ename": "NameError",
     "evalue": "name 'word' is not defined",
     "output_type": "error",
     "traceback": [
      "\u001b[0;31m---------------------------------------------------------------------------\u001b[0m",
      "\u001b[0;31mNameError\u001b[0m                                 Traceback (most recent call last)",
      "Cell \u001b[0;32mIn[5], line 1\u001b[0m\n\u001b[0;32m----> 1\u001b[0m \u001b[38;5;28mprint\u001b[39m(\u001b[43mfind_longest_word\u001b[49m\u001b[43m(\u001b[49m\u001b[38;5;124;43m\"\u001b[39;49m\u001b[38;5;124;43mThe quick brown fox jumped over the lazy dog\u001b[39;49m\u001b[38;5;124;43m\"\u001b[39;49m\u001b[43m)\u001b[49m)\n",
      "Cell \u001b[0;32mIn[4], line 17\u001b[0m, in \u001b[0;36mfind_longest_word\u001b[0;34m(s)\u001b[0m\n\u001b[1;32m     14\u001b[0m \u001b[38;5;66;03m# Split the input string into words\u001b[39;00m\n\u001b[1;32m     15\u001b[0m words \u001b[38;5;241m=\u001b[39m s\u001b[38;5;241m.\u001b[39msplit()\n\u001b[0;32m---> 17\u001b[0m \u001b[38;5;28;01mfor\u001b[39;00m longest_word \u001b[38;5;129;01min\u001b[39;00m \u001b[43mword\u001b[49m:\n\u001b[1;32m     18\u001b[0m     \u001b[38;5;28mprint\u001b[39m(\u001b[38;5;124mf\u001b[39m\u001b[38;5;124m\"\u001b[39m\u001b[38;5;124mlongest_word:\u001b[39m\u001b[38;5;132;01m{\u001b[39;00mlongest_word\u001b[38;5;132;01m}\u001b[39;00m\u001b[38;5;124m\"\u001b[39m)\n\u001b[1;32m     20\u001b[0m \u001b[38;5;66;03m# do your code here\u001b[39;00m\n",
      "\u001b[0;31mNameError\u001b[0m: name 'word' is not defined"
     ]
    }
   ],
   "source": [
    "print(find_longest_word(\"The quick brown fox jumped over the lazy dog\"))"
   ]
  },
  {
   "cell_type": "code",
   "execution_count": null,
   "id": "7515f48b-b014-4f22-8225-b981a60bb42f",
   "metadata": {},
   "outputs": [],
   "source": []
  }
 ],
 "metadata": {
  "kernelspec": {
   "display_name": "Python 3 (ipykernel)",
   "language": "python",
   "name": "python3"
  },
  "language_info": {
   "codemirror_mode": {
    "name": "ipython",
    "version": 3
   },
   "file_extension": ".py",
   "mimetype": "text/x-python",
   "name": "python",
   "nbconvert_exporter": "python",
   "pygments_lexer": "ipython3",
   "version": "3.12.4"
  }
 },
 "nbformat": 4,
 "nbformat_minor": 5
}
