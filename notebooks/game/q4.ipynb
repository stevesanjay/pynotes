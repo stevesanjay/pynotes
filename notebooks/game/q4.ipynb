{
 "cells": [
  {
   "cell_type": "code",
   "execution_count": null,
   "id": "68da895e-8972-4de9-b1d0-dc0a012c131f",
   "metadata": {},
   "outputs": [],
   "source": [
    "def generate_squares(n):\n",
    "    \"\"\"\n",
    "    Generate a list of squares of numbers from 1 to n.\n",
    "\n",
    "    Args:\n",
    "    n: an integer representing the upper limit of the range\n",
    "\n",
    "    Returns:\n",
    "    A list of squares of numbers from 1 to n\n",
    "    \"\"\"\n",
    "\n",
    "    # Initialize an empty list to store the squares\n",
    "    squares = []\n",
    "\n",
    "    # Pass"
   ]
  },
  {
   "cell_type": "code",
   "execution_count": null,
   "id": "75922dd3-a029-4455-81cd-fbac11cd6c8f",
   "metadata": {},
   "outputs": [],
   "source": [
    "print(generate_squares(5))  # Output: [1, 4, 9, 16, 25]"
   ]
  }
 ],
 "metadata": {
  "kernelspec": {
   "display_name": "Python 3 (ipykernel)",
   "language": "python",
   "name": "python3"
  },
  "language_info": {
   "codemirror_mode": {
    "name": "ipython",
    "version": 3
   },
   "file_extension": ".py",
   "mimetype": "text/x-python",
   "name": "python",
   "nbconvert_exporter": "python",
   "pygments_lexer": "ipython3",
   "version": "3.12.4"
  }
 },
 "nbformat": 4,
 "nbformat_minor": 5
}
