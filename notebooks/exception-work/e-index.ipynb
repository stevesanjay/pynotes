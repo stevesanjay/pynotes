{
 "cells": [
  {
   "cell_type": "code",
   "execution_count": 4,
   "id": "c60a523f-a569-410e-8763-dae383fe364e",
   "metadata": {},
   "outputs": [
    {
     "name": "stdin",
     "output_type": "stream",
     "text": [
      "enter a number: 1\n"
     ]
    },
    {
     "name": "stdout",
     "output_type": "stream",
     "text": [
      "2\n"
     ]
    }
   ],
   "source": [
    "try:\n",
    "    my_list = [1,2,3]\n",
    "    i  = int(input(\"enter a number:\") )\n",
    "    print(my_list[i])\n",
    "\n",
    "except ZeroDivisionError:\n",
    "    print(f'the denominator cannot be {c_list}')\n",
    "\n",
    "except IndexError:\n",
    "    print(\"the index value cannot be greater size of the currend list value\")"
   ]
  },
  {
   "cell_type": "code",
   "execution_count": null,
   "id": "62537402-aed3-40b2-a413-42089f71d2d3",
   "metadata": {},
   "outputs": [],
   "source": []
  }
 ],
 "metadata": {
  "kernelspec": {
   "display_name": "Python 3 (ipykernel)",
   "language": "python",
   "name": "python3"
  },
  "language_info": {
   "codemirror_mode": {
    "name": "ipython",
    "version": 3
   },
   "file_extension": ".py",
   "mimetype": "text/x-python",
   "name": "python",
   "nbconvert_exporter": "python",
   "pygments_lexer": "ipython3",
   "version": "3.12.4"
  }
 },
 "nbformat": 4,
 "nbformat_minor": 5
}
