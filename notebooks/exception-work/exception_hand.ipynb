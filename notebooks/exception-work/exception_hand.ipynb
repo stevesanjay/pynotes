{
 "cells": [
  {
   "cell_type": "code",
   "execution_count": null,
   "id": "4947f335-5956-42c3-a3a2-8e5c804ab1fc",
   "metadata": {},
   "outputs": [],
   "source": [
    "try:\n",
    "    a = int(input(\"enter the numerator:\")) \n",
    "    b = int(input(\"enter a denominator:\"))\n",
    "    divide_number = a/b\n",
    "    result =  divide_number\n",
    "    print(result)\n",
    "\n",
    "except ZeroDivisionError:\n",
    "    print(f'the denominator cannot be {b}')\n",
    "\n",
    "finally:\n",
    "    print(\"always printed\")"
   ]
  },
  {
   "cell_type": "code",
   "execution_count": null,
   "id": "5a152dce-8d67-42d0-a877-b9d6e36a8424",
   "metadata": {},
   "outputs": [],
   "source": []
  }
 ],
 "metadata": {
  "kernelspec": {
   "display_name": "Python 3 (ipykernel)",
   "language": "python",
   "name": "python3"
  },
  "language_info": {
   "codemirror_mode": {
    "name": "ipython",
    "version": 3
   },
   "file_extension": ".py",
   "mimetype": "text/x-python",
   "name": "python",
   "nbconvert_exporter": "python",
   "pygments_lexer": "ipython3",
   "version": "3.12.4"
  }
 },
 "nbformat": 4,
 "nbformat_minor": 5
}
