{
 "cells": [
  {
   "cell_type": "code",
   "execution_count": null,
   "id": "aa6a1592-8081-4d84-8c6d-5a51762ae7f4",
   "metadata": {},
   "outputs": [],
   "source": []
  },
  {
   "cell_type": "code",
   "execution_count": 4,
   "id": "132fae1e-afa4-42a8-bfec-eee97436033d",
   "metadata": {},
   "outputs": [],
   "source": [
    "number = 18"
   ]
  },
  {
   "cell_type": "code",
   "execution_count": 5,
   "id": "5f791fc2-4b18-4b91-90c5-e162937e7675",
   "metadata": {},
   "outputs": [
    {
     "name": "stdin",
     "output_type": "stream",
     "text": [
      "Enter a number : 20\n"
     ]
    },
    {
     "name": "stdout",
     "output_type": "stream",
     "text": [
      "your age 20 is eligible to vote \n"
     ]
    }
   ],
   "source": [
    "try:\n",
    "    input_number = int(input(\"Enter a number :\"))\n",
    "\n",
    "    if input_number < number:\n",
    "        raise InvalidAgeException\n",
    "    else:\n",
    "        print(f\"your age {input_number} is eligible to vote \")\n",
    "\n",
    "except InvalidAgeException:\n",
    "    print(\"exception occured : invalid Age\")"
   ]
  },
  {
   "cell_type": "code",
   "execution_count": null,
   "id": "bc466151-bcca-4348-8661-e947d3708502",
   "metadata": {},
   "outputs": [],
   "source": []
  }
 ],
 "metadata": {
  "kernelspec": {
   "display_name": "Python 3 (ipykernel)",
   "language": "python",
   "name": "python3"
  },
  "language_info": {
   "codemirror_mode": {
    "name": "ipython",
    "version": 3
   },
   "file_extension": ".py",
   "mimetype": "text/x-python",
   "name": "python",
   "nbconvert_exporter": "python",
   "pygments_lexer": "ipython3",
   "version": "3.12.4"
  }
 },
 "nbformat": 4,
 "nbformat_minor": 5
}
