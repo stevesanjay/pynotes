{
 "cells": [
  {
   "cell_type": "code",
   "execution_count": 1,
   "id": "151034b4-c648-43b8-9e89-4530a5c123a9",
   "metadata": {},
   "outputs": [],
   "source": [
    "import pandas as pd"
   ]
  },
  {
   "cell_type": "code",
   "execution_count": 2,
   "id": "7dbe719f-4d42-4488-a118-7ce5a567b77b",
   "metadata": {},
   "outputs": [],
   "source": [
    "def update_df(file_name):\n",
    "    #read dataframe\n",
    "    df = pd.read_excel(file_name)\n",
    "\n",
    "    df.loc[df['name']=='jerin','age'] = 21\n",
    "\n",
    "    df.to_excel(file_name,index=False)\n",
    "\n",
    "    return df"
   ]
  },
  {
   "cell_type": "code",
   "execution_count": 4,
   "id": "b0abd0ba-0d55-4266-9e79-cbd483900234",
   "metadata": {},
   "outputs": [
    {
     "data": {
      "text/html": [
       "<div>\n",
       "<style scoped>\n",
       "    .dataframe tbody tr th:only-of-type {\n",
       "        vertical-align: middle;\n",
       "    }\n",
       "\n",
       "    .dataframe tbody tr th {\n",
       "        vertical-align: top;\n",
       "    }\n",
       "\n",
       "    .dataframe thead th {\n",
       "        text-align: right;\n",
       "    }\n",
       "</style>\n",
       "<table border=\"1\" class=\"dataframe\">\n",
       "  <thead>\n",
       "    <tr style=\"text-align: right;\">\n",
       "      <th></th>\n",
       "      <th>name</th>\n",
       "      <th>age</th>\n",
       "      <th>city</th>\n",
       "    </tr>\n",
       "  </thead>\n",
       "  <tbody>\n",
       "    <tr>\n",
       "      <th>0</th>\n",
       "      <td>steve</td>\n",
       "      <td>25</td>\n",
       "      <td>chennai</td>\n",
       "    </tr>\n",
       "    <tr>\n",
       "      <th>1</th>\n",
       "      <td>sanjay</td>\n",
       "      <td>26</td>\n",
       "      <td>madurai</td>\n",
       "    </tr>\n",
       "    <tr>\n",
       "      <th>2</th>\n",
       "      <td>jerin</td>\n",
       "      <td>21</td>\n",
       "      <td>coimbatore</td>\n",
       "    </tr>\n",
       "    <tr>\n",
       "      <th>3</th>\n",
       "      <td>saravana</td>\n",
       "      <td>28</td>\n",
       "      <td>salem</td>\n",
       "    </tr>\n",
       "  </tbody>\n",
       "</table>\n",
       "</div>"
      ],
      "text/plain": [
       "       name  age        city\n",
       "0     steve   25     chennai\n",
       "1    sanjay   26     madurai\n",
       "2     jerin   21  coimbatore\n",
       "3  saravana   28       salem"
      ]
     },
     "execution_count": 4,
     "metadata": {},
     "output_type": "execute_result"
    }
   ],
   "source": [
    "update_df(\"data.xlsx\")"
   ]
  },
  {
   "cell_type": "code",
   "execution_count": null,
   "id": "47d4c902-5068-41f9-b186-b838470297f0",
   "metadata": {},
   "outputs": [],
   "source": []
  }
 ],
 "metadata": {
  "kernelspec": {
   "display_name": "Python 3 (ipykernel)",
   "language": "python",
   "name": "python3"
  },
  "language_info": {
   "codemirror_mode": {
    "name": "ipython",
    "version": 3
   },
   "file_extension": ".py",
   "mimetype": "text/x-python",
   "name": "python",
   "nbconvert_exporter": "python",
   "pygments_lexer": "ipython3",
   "version": "3.12.4"
  }
 },
 "nbformat": 4,
 "nbformat_minor": 5
}
