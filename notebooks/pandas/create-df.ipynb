{
 "cells": [
  {
   "cell_type": "code",
   "execution_count": 40,
   "id": "d4246c3f-0b95-4b75-8a9e-b6c0486975f7",
   "metadata": {},
   "outputs": [],
   "source": [
    "import pandas as pd"
   ]
  },
  {
   "cell_type": "code",
   "execution_count": 35,
   "id": "06a6db01-1673-4ea5-ae81-72358ca3171b",
   "metadata": {},
   "outputs": [],
   "source": [
    "def create_df():\n",
    "\n",
    "    data = {\n",
    "        'name':['steve','sanjay','jerin','saravana'],\n",
    "        'age':[25,26,27,28],\n",
    "        'city':['chennai','madurai','coimbatore','salem']\n",
    "    }\n",
    "\n",
    "    df = pd.DataFrame(data)\n",
    "    print(df)"
   ]
  },
  {
   "cell_type": "code",
   "execution_count": 36,
   "id": "981e0ad4-9569-4432-86bd-1e713ea13473",
   "metadata": {},
   "outputs": [
    {
     "name": "stdout",
     "output_type": "stream",
     "text": [
      "       name  age        city\n",
      "0     steve   25     chennai\n",
      "1    sanjay   26     madurai\n",
      "2     jerin   27  coimbatore\n",
      "3  saravana   28       salem\n",
      "None\n"
     ]
    }
   ],
   "source": [
    "print(create_df())"
   ]
  },
  {
   "cell_type": "code",
   "execution_count": 37,
   "id": "85334134-256a-4452-a42b-0be20e3a0716",
   "metadata": {},
   "outputs": [],
   "source": [
    "def create_dataframe_(filename):\n",
    "\n",
    "    data = {\n",
    "        'name':['steve','sanjay','jerin','saravana'],\n",
    "        'age':[25,26,27,28],\n",
    "        'city':['chennai','madurai','coimbatore','salem']\n",
    "    }\n",
    "\n",
    "    df = pd.DataFrame(data)\n",
    "    df.to_excel(filename,index=False)"
   ]
  },
  {
   "cell_type": "code",
   "execution_count": 39,
   "id": "3b8dbcbc-201f-4f8c-9512-5befdab43313",
   "metadata": {},
   "outputs": [],
   "source": [
    "create_dataframe_(\"datas.xlsx\")"
   ]
  },
  {
   "cell_type": "code",
   "execution_count": null,
   "id": "17082b79-0c64-4170-b300-c29d25664b94",
   "metadata": {},
   "outputs": [],
   "source": []
  }
 ],
 "metadata": {
  "kernelspec": {
   "display_name": "Python 3 (ipykernel)",
   "language": "python",
   "name": "python3"
  },
  "language_info": {
   "codemirror_mode": {
    "name": "ipython",
    "version": 3
   },
   "file_extension": ".py",
   "mimetype": "text/x-python",
   "name": "python",
   "nbconvert_exporter": "python",
   "pygments_lexer": "ipython3",
   "version": "3.12.4"
  }
 },
 "nbformat": 4,
 "nbformat_minor": 5
}
