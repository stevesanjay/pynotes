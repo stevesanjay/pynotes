{
 "cells": [
  {
   "cell_type": "code",
   "execution_count": null,
   "id": "21e62a2c-0f8c-4bae-9e2c-70882307b8a4",
   "metadata": {},
   "outputs": [],
   "source": []
  },
  {
   "cell_type": "code",
   "execution_count": 1,
   "id": "f3b657bd-629e-41a5-8632-a118c6eb6e4f",
   "metadata": {},
   "outputs": [],
   "source": [
    "import requests"
   ]
  },
  {
   "cell_type": "code",
   "execution_count": 2,
   "id": "01e2a228-2cc0-4cc5-ba5b-2c1239842002",
   "metadata": {},
   "outputs": [],
   "source": [
    "from bs4 import BeautifulSoup"
   ]
  },
  {
   "cell_type": "code",
   "execution_count": 3,
   "id": "48fdc063-4a80-4eea-b481-952e166fc525",
   "metadata": {},
   "outputs": [],
   "source": [
    "def get_score(url):\n",
    "\n",
    "    # Fetch the page content\n",
    "    response = requests.get(url)\n",
    "\n",
    "    # Parse the HTML content\n",
    "    soup = BeautifulSoup(response.text, 'html.parser')\n",
    "\n",
    "    overall_score_element = soup.find('p')  # Locate the <p> tag\n",
    "    if overall_score_element:\n",
    "        strong_tag = overall_score_element.find('strong')  # Locate the <strong> tag inside <p>\n",
    "        if strong_tag and \"Overall Score:\" in strong_tag.text:\n",
    "            overall_score = overall_score_element.get_text(strip=True).replace(\"Overall Score:\", \"\").strip()\n",
    "            return int(overall_score)\n",
    "        return -1\n",
    "\n",
    "    return -1"
   ]
  },
  {
   "cell_type": "code",
   "execution_count": 4,
   "id": "9d54c811-1219-4848-b9c5-23cd29eef9bc",
   "metadata": {},
   "outputs": [],
   "source": [
    "def startpy():\n",
    "\n",
    "    # print(\"Tact101\")\n",
    "    print(get_score(\"https://stevesanjay.github.io/pynotes/archives.html\"))"
   ]
  },
  {
   "cell_type": "code",
   "execution_count": 5,
   "id": "f4c62603-c6e3-48aa-9adc-084fec91aee0",
   "metadata": {},
   "outputs": [
    {
     "name": "stdout",
     "output_type": "stream",
     "text": [
      "510\n"
     ]
    }
   ],
   "source": [
    "startpy()"
   ]
  },
  {
   "cell_type": "code",
   "execution_count": null,
   "id": "8af412c9-1328-4171-839b-cae060da3863",
   "metadata": {},
   "outputs": [],
   "source": []
  }
 ],
 "metadata": {
  "kernelspec": {
   "display_name": "Python 3 (ipykernel)",
   "language": "python",
   "name": "python3"
  },
  "language_info": {
   "codemirror_mode": {
    "name": "ipython",
    "version": 3
   },
   "file_extension": ".py",
   "mimetype": "text/x-python",
   "name": "python",
   "nbconvert_exporter": "python",
   "pygments_lexer": "ipython3",
   "version": "3.12.4"
  }
 },
 "nbformat": 4,
 "nbformat_minor": 5
}
