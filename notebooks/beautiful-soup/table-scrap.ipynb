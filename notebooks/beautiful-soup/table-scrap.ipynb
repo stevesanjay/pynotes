{
 "cells": [
  {
   "cell_type": "code",
   "execution_count": 66,
   "id": "b1b3285b-4cb0-4806-aa5c-e52be3bdb7dc",
   "metadata": {},
   "outputs": [],
   "source": [
    "# import necessary library"
   ]
  },
  {
   "cell_type": "code",
   "execution_count": 75,
   "id": "b92704a5-da4e-4a94-99c9-a9d29f744233",
   "metadata": {},
   "outputs": [],
   "source": [
    "from bs4 import BeautifulSoup"
   ]
  },
  {
   "cell_type": "code",
   "execution_count": 76,
   "id": "a74bcb43-3eca-40fd-97cf-990e442caa12",
   "metadata": {},
   "outputs": [],
   "source": [
    "import requests"
   ]
  },
  {
   "cell_type": "code",
   "execution_count": 77,
   "id": "2328db6f-b2ac-4957-a367-cf0d0f2925f2",
   "metadata": {},
   "outputs": [],
   "source": [
    "# add the url "
   ]
  },
  {
   "cell_type": "code",
   "execution_count": 78,
   "id": "f388f68b-d724-4f4e-b94e-27b7e9145b1a",
   "metadata": {},
   "outputs": [],
   "source": [
    "url = \"https://books.toscrape.com/catalogue/a-light-in-the-attic_1000/index.html\""
   ]
  },
  {
   "cell_type": "code",
   "execution_count": 79,
   "id": "a2235a8b-5c9d-4c43-9435-3d67e774d950",
   "metadata": {},
   "outputs": [],
   "source": [
    "response = requests.get(url)"
   ]
  },
  {
   "cell_type": "code",
   "execution_count": 80,
   "id": "2f0d8bbb-bd2c-43e2-bcc8-5785cec84cc2",
   "metadata": {},
   "outputs": [],
   "source": [
    "soup = BeautifulSoup(response.text, \"html.parser\")"
   ]
  },
  {
   "cell_type": "code",
   "execution_count": 81,
   "id": "c1db3ba9-ee24-4478-92e8-19078c67f2fd",
   "metadata": {},
   "outputs": [],
   "source": [
    "price_element = soup.select_one(\"#content_inner > article > table\")"
   ]
  },
  {
   "cell_type": "code",
   "execution_count": 85,
   "id": "d8d319db-1470-4751-a001-57a246f53468",
   "metadata": {},
   "outputs": [
    {
     "name": "stdout",
     "output_type": "stream",
     "text": [
      "Price: \n",
      "\n",
      "UPCa897fe39b1053632\n",
      "\n",
      "\n",
      "Product TypeBooks\n",
      "\n",
      "\n",
      "Price (excl. tax)Â£51.77\n",
      "\n",
      "\n",
      "Price (incl. tax)Â£51.77\n",
      "\n",
      "\n",
      "TaxÂ£0.00\n",
      "\n",
      "\n",
      "Availability\n",
      "In stock (22 available)\n",
      "\n",
      "\n",
      "Number of reviews\n",
      "0\n",
      "\n",
      "\n"
     ]
    }
   ],
   "source": [
    "if price_element:\n",
    "    print(\"Price:\", price_element.text)\n",
    "else:\n",
    "    print(\"Price not found\")"
   ]
  },
  {
   "cell_type": "code",
   "execution_count": null,
   "id": "5b78ce17-ceb3-4fda-a4e5-02335117eddf",
   "metadata": {},
   "outputs": [],
   "source": []
  },
  {
   "cell_type": "code",
   "execution_count": null,
   "id": "9c78dd55-b42c-4938-a0fe-2c624d69d110",
   "metadata": {},
   "outputs": [],
   "source": []
  }
 ],
 "metadata": {
  "kernelspec": {
   "display_name": "Python 3 (ipykernel)",
   "language": "python",
   "name": "python3"
  },
  "language_info": {
   "codemirror_mode": {
    "name": "ipython",
    "version": 3
   },
   "file_extension": ".py",
   "mimetype": "text/x-python",
   "name": "python",
   "nbconvert_exporter": "python",
   "pygments_lexer": "ipython3",
   "version": "3.12.4"
  }
 },
 "nbformat": 4,
 "nbformat_minor": 5
}
