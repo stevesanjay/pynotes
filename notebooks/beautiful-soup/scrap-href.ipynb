{
 "cells": [
  {
   "cell_type": "code",
   "execution_count": 1,
   "id": "06d67627-748c-4af6-b601-234e33ac03ed",
   "metadata": {},
   "outputs": [],
   "source": [
    "from bs4 import BeautifulSoup"
   ]
  },
  {
   "cell_type": "code",
   "execution_count": 2,
   "id": "087842f6-b1b7-4af8-a768-001ad917d5e8",
   "metadata": {},
   "outputs": [],
   "source": [
    "import requests"
   ]
  },
  {
   "cell_type": "code",
   "execution_count": 3,
   "id": "03d19ee3-01b3-423c-83cd-c4cf49676f8f",
   "metadata": {},
   "outputs": [],
   "source": [
    "url = \"https://books.toscrape.com/\""
   ]
  },
  {
   "cell_type": "code",
   "execution_count": 4,
   "id": "c58adac8-1815-452b-869a-ca9136b6ab7e",
   "metadata": {},
   "outputs": [],
   "source": [
    "response = requests.get(url)"
   ]
  },
  {
   "cell_type": "code",
   "execution_count": 5,
   "id": "54968d50-2253-45e5-b860-4eb3539b2150",
   "metadata": {},
   "outputs": [],
   "source": [
    "soup = BeautifulSoup(response.text, \"html.parser\")"
   ]
  },
  {
   "cell_type": "code",
   "execution_count": 6,
   "id": "ce96eed8-d8ab-4aa4-939c-ffa9b17f8888",
   "metadata": {},
   "outputs": [],
   "source": [
    "def get_book_details():\n",
    "    book_list = []\n",
    "    for row in soup.select(\"section div ol li\"):\n",
    "        # print(row)\n",
    "\n",
    "        link = row.select(\"a\")[1]\n",
    "        \n",
    "        link_href = link['href']\n",
    "       \n",
    "        \n",
    "        book_list.append({\n",
    "            'link' : link_href\n",
    "        })\n",
    "\n",
    "    for \n",
    "\n",
    "    return book_list"
   ]
  },
  {
   "cell_type": "code",
   "execution_count": 9,
   "id": "263ab67b-870f-4199-85d8-61a288b72e7f",
   "metadata": {},
   "outputs": [
    {
     "name": "stdout",
     "output_type": "stream",
     "text": [
      "{'link': 'catalogue/a-light-in-the-attic_1000/index.html'}\n",
      "{'link': 'catalogue/tipping-the-velvet_999/index.html'}\n",
      "{'link': 'catalogue/soumission_998/index.html'}\n",
      "{'link': 'catalogue/sharp-objects_997/index.html'}\n",
      "{'link': 'catalogue/sapiens-a-brief-history-of-humankind_996/index.html'}\n",
      "{'link': 'catalogue/the-requiem-red_995/index.html'}\n",
      "{'link': 'catalogue/the-dirty-little-secrets-of-getting-your-dream-job_994/index.html'}\n",
      "{'link': 'catalogue/the-coming-woman-a-novel-based-on-the-life-of-the-infamous-feminist-victoria-woodhull_993/index.html'}\n",
      "{'link': 'catalogue/the-boys-in-the-boat-nine-americans-and-their-epic-quest-for-gold-at-the-1936-berlin-olympics_992/index.html'}\n",
      "{'link': 'catalogue/the-black-maria_991/index.html'}\n",
      "{'link': 'catalogue/starving-hearts-triangular-trade-trilogy-1_990/index.html'}\n",
      "{'link': 'catalogue/shakespeares-sonnets_989/index.html'}\n",
      "{'link': 'catalogue/set-me-free_988/index.html'}\n",
      "{'link': 'catalogue/scott-pilgrims-precious-little-life-scott-pilgrim-1_987/index.html'}\n",
      "{'link': 'catalogue/rip-it-up-and-start-again_986/index.html'}\n",
      "{'link': 'catalogue/our-band-could-be-your-life-scenes-from-the-american-indie-underground-1981-1991_985/index.html'}\n",
      "{'link': 'catalogue/olio_984/index.html'}\n",
      "{'link': 'catalogue/mesaerion-the-best-science-fiction-stories-1800-1849_983/index.html'}\n",
      "{'link': 'catalogue/libertarianism-for-beginners_982/index.html'}\n",
      "{'link': 'catalogue/its-only-the-himalayas_981/index.html'}\n"
     ]
    }
   ],
   "source": [
    "for book in get_book_details():\n",
    "    print(book)"
   ]
  },
  {
   "cell_type": "code",
   "execution_count": null,
   "id": "b7911397-46b9-4a39-be3f-68efe69ddb1b",
   "metadata": {},
   "outputs": [],
   "source": []
  }
 ],
 "metadata": {
  "kernelspec": {
   "display_name": "Python 3 (ipykernel)",
   "language": "python",
   "name": "python3"
  },
  "language_info": {
   "codemirror_mode": {
    "name": "ipython",
    "version": 3
   },
   "file_extension": ".py",
   "mimetype": "text/x-python",
   "name": "python",
   "nbconvert_exporter": "python",
   "pygments_lexer": "ipython3",
   "version": "3.12.4"
  }
 },
 "nbformat": 4,
 "nbformat_minor": 5
}
