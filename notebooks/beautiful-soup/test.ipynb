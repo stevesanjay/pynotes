{
 "cells": [
  {
   "cell_type": "code",
   "execution_count": 1,
   "id": "a3de9a44-2a8a-4047-8ef9-a709987bc15e",
   "metadata": {},
   "outputs": [],
   "source": [
    "# import necessary library"
   ]
  },
  {
   "cell_type": "code",
   "execution_count": 2,
   "id": "98aac458-5407-4b6c-b630-6a67ff9c9e11",
   "metadata": {},
   "outputs": [],
   "source": [
    "import requests"
   ]
  },
  {
   "cell_type": "code",
   "execution_count": 3,
   "id": "f1c0fadc-684c-454e-819c-86f74473d500",
   "metadata": {},
   "outputs": [],
   "source": [
    "from bs4 import BeautifulSoup"
   ]
  },
  {
   "cell_type": "code",
   "execution_count": 4,
   "id": "3e88f637-3296-473b-b91c-a4a50ac8b70b",
   "metadata": {},
   "outputs": [],
   "source": [
    "# URL of the webpage"
   ]
  },
  {
   "cell_type": "code",
   "execution_count": 5,
   "id": "d5ac9176-51e4-4df2-b0a0-f58900da1337",
   "metadata": {},
   "outputs": [],
   "source": [
    "url = \"https://books.toscrape.com/catalogue/a-light-in-the-attic_1000/index.html\""
   ]
  },
  {
   "cell_type": "code",
   "execution_count": 6,
   "id": "fdfd6563-7e2b-40a4-af66-e0196172834d",
   "metadata": {},
   "outputs": [],
   "source": [
    "# Send a GET request to fetch the webpage content"
   ]
  },
  {
   "cell_type": "code",
   "execution_count": 7,
   "id": "7ced37d7-c874-4ac7-81ba-d28149465571",
   "metadata": {},
   "outputs": [],
   "source": [
    "response = requests.get(url)"
   ]
  },
  {
   "cell_type": "code",
   "execution_count": 8,
   "id": "aa3d18c2-abbd-4bda-a2d1-2da1fb4ec51f",
   "metadata": {},
   "outputs": [],
   "source": [
    "# Parse the HTML content"
   ]
  },
  {
   "cell_type": "code",
   "execution_count": 9,
   "id": "6ce30f8d-2bb5-480b-b950-6c2ab63f09f8",
   "metadata": {},
   "outputs": [],
   "source": [
    "soup = BeautifulSoup(response.text, 'html.parser')"
   ]
  },
  {
   "cell_type": "code",
   "execution_count": 10,
   "id": "c5ce8a6d-54e9-4150-b8ee-b8b6c3166a05",
   "metadata": {},
   "outputs": [],
   "source": [
    "# Use the copied CSS selector to find the price"
   ]
  },
  {
   "cell_type": "code",
   "execution_count": 11,
   "id": "4d2a3c62-dd39-4b71-ae5c-96275864cc5d",
   "metadata": {},
   "outputs": [],
   "source": [
    "price_element = soup.select_one(\"#content_inner > article > div.row > div.col-sm-6.product_main > p.price_color\")"
   ]
  },
  {
   "cell_type": "code",
   "execution_count": 12,
   "id": "a53ceb37-db4c-4224-ae24-8c3dc0104b31",
   "metadata": {},
   "outputs": [],
   "source": [
    "# Check if the element is found and extract the text"
   ]
  },
  {
   "cell_type": "code",
   "execution_count": 13,
   "id": "8a67bedf-d002-4890-b753-4256a64557f3",
   "metadata": {},
   "outputs": [
    {
     "name": "stdout",
     "output_type": "stream",
     "text": [
      "Price: Â£51.77\n"
     ]
    }
   ],
   "source": [
    "if price_element:\n",
    "    print(\"Price:\", price_element.text)\n",
    "else:\n",
    "    print(\"Price not found\")"
   ]
  },
  {
   "cell_type": "code",
   "execution_count": null,
   "id": "9d070ece-91cc-4500-99ca-62697b078379",
   "metadata": {},
   "outputs": [],
   "source": []
  }
 ],
 "metadata": {
  "kernelspec": {
   "display_name": "Python 3 (ipykernel)",
   "language": "python",
   "name": "python3"
  },
  "language_info": {
   "codemirror_mode": {
    "name": "ipython",
    "version": 3
   },
   "file_extension": ".py",
   "mimetype": "text/x-python",
   "name": "python",
   "nbconvert_exporter": "python",
   "pygments_lexer": "ipython3",
   "version": "3.12.4"
  }
 },
 "nbformat": 4,
 "nbformat_minor": 5
}
