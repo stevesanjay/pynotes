{
 "cells": [
  {
   "cell_type": "code",
   "execution_count": 24,
   "id": "caec8628-6c8a-4c75-b90c-05c53c3e17bd",
   "metadata": {},
   "outputs": [],
   "source": [
    "# import necessary library"
   ]
  },
  {
   "cell_type": "code",
   "execution_count": 25,
   "id": "c1029be2-2a14-432a-8510-c400df043238",
   "metadata": {},
   "outputs": [],
   "source": [
    "from bs4 import BeautifulSoup"
   ]
  },
  {
   "cell_type": "code",
   "execution_count": 26,
   "id": "e962fd80-ab7d-4d86-9f86-9a88b6c769da",
   "metadata": {},
   "outputs": [],
   "source": [
    "# Sample HTML content"
   ]
  },
  {
   "cell_type": "code",
   "execution_count": 27,
   "id": "fe630bd0-0a66-4e11-aed6-d3d376fe32b7",
   "metadata": {},
   "outputs": [],
   "source": [
    "html_content = \"\"\"\n",
    "<html>\n",
    "<head>\n",
    "    <title>Sample Page</title>\n",
    "</head>\n",
    "<body>\n",
    "    <h1>Welcome to Web Scraping</h1>\n",
    "    <p>This is a simple paragraph for demonstration.</p>\n",
    "    <div>\n",
    "        <h2>Subsection</h2>\n",
    "        <ul>\n",
    "            <li>Item 1</li>\n",
    "            <li>Item 2</li>\n",
    "            <li>Item 3</li>\n",
    "        </ul>\n",
    "    </div>\n",
    "</body>\n",
    "</html>\n",
    "\"\"\""
   ]
  },
  {
   "cell_type": "code",
   "execution_count": 28,
   "id": "89512d58-d05d-4598-8cf4-834baf0adf25",
   "metadata": {},
   "outputs": [],
   "source": [
    "# Parse the HTML content"
   ]
  },
  {
   "cell_type": "code",
   "execution_count": 29,
   "id": "3f0bcc17-39e0-43cd-9c65-de0ccb86e660",
   "metadata": {},
   "outputs": [],
   "source": [
    "soup = BeautifulSoup(html_content, 'html.parser')"
   ]
  },
  {
   "cell_type": "code",
   "execution_count": 30,
   "id": "319a157f-ca07-4b77-9b8d-ecc3979ff0fd",
   "metadata": {},
   "outputs": [],
   "source": [
    "# Extract the title"
   ]
  },
  {
   "cell_type": "code",
   "execution_count": 31,
   "id": "9e7814e4-06dd-46f1-bdc1-6978068ade2b",
   "metadata": {},
   "outputs": [],
   "source": [
    "title = soup.title.text"
   ]
  },
  {
   "cell_type": "code",
   "execution_count": 32,
   "id": "5d0ecf86-bf5b-48e2-a18e-d99c5431d55e",
   "metadata": {},
   "outputs": [
    {
     "name": "stdout",
     "output_type": "stream",
     "text": [
      "Title of the page: Sample Page\n"
     ]
    }
   ],
   "source": [
    "print(f\"Title of the page: {title}\")"
   ]
  },
  {
   "cell_type": "code",
   "execution_count": 33,
   "id": "55a8cc89-04db-4c68-b2b2-37c2651fbdfe",
   "metadata": {},
   "outputs": [],
   "source": [
    "# Extract the main header"
   ]
  },
  {
   "cell_type": "code",
   "execution_count": 34,
   "id": "37738b8b-a522-4fb0-8459-09b720831b6d",
   "metadata": {},
   "outputs": [],
   "source": [
    "header = soup.h1.text"
   ]
  },
  {
   "cell_type": "code",
   "execution_count": 35,
   "id": "627584d6-3ac1-4e0c-ada3-598d6c64c53e",
   "metadata": {},
   "outputs": [
    {
     "name": "stdout",
     "output_type": "stream",
     "text": [
      "Header: Welcome to Web Scraping\n"
     ]
    }
   ],
   "source": [
    "print(f\"Header: {header}\")"
   ]
  },
  {
   "cell_type": "code",
   "execution_count": 36,
   "id": "747e6fc8-a3d0-4aaf-a749-49d35c5a11c4",
   "metadata": {},
   "outputs": [],
   "source": [
    "# Extract all list items"
   ]
  },
  {
   "cell_type": "code",
   "execution_count": 37,
   "id": "f1af840d-5b66-4a3e-aa5f-4a046f087a5a",
   "metadata": {},
   "outputs": [],
   "source": [
    "list_items = soup.find_all('li')"
   ]
  },
  {
   "cell_type": "code",
   "execution_count": 38,
   "id": "34b5051b-9244-4f24-9439-ba9890f68494",
   "metadata": {},
   "outputs": [
    {
     "name": "stdout",
     "output_type": "stream",
     "text": [
      "List item 1: Item 1\n",
      "List item 2: Item 2\n",
      "List item 3: Item 3\n"
     ]
    }
   ],
   "source": [
    "for idx, item in enumerate(list_items, start=1):\n",
    "    print(f\"List item {idx}: {item.text}\")"
   ]
  },
  {
   "cell_type": "code",
   "execution_count": null,
   "id": "d27fd978-1008-4636-8e9e-6551551e8d1d",
   "metadata": {},
   "outputs": [],
   "source": []
  }
 ],
 "metadata": {
  "kernelspec": {
   "display_name": "Python 3 (ipykernel)",
   "language": "python",
   "name": "python3"
  },
  "language_info": {
   "codemirror_mode": {
    "name": "ipython",
    "version": 3
   },
   "file_extension": ".py",
   "mimetype": "text/x-python",
   "name": "python",
   "nbconvert_exporter": "python",
   "pygments_lexer": "ipython3",
   "version": "3.12.4"
  }
 },
 "nbformat": 4,
 "nbformat_minor": 5
}
