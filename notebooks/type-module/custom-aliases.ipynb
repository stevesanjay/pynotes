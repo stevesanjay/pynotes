{
 "cells": [
  {
   "cell_type": "code",
   "execution_count": null,
   "id": "cd2350a4-3307-453b-a4b6-4ccba04cb646",
   "metadata": {},
   "outputs": [],
   "source": [
    "# 20250130"
   ]
  },
  {
   "cell_type": "code",
   "execution_count": 1,
   "id": "339d94d8-560f-458c-99d3-97e00cdf29ef",
   "metadata": {},
   "outputs": [],
   "source": [
    "# Custom Type Aliases"
   ]
  },
  {
   "cell_type": "code",
   "execution_count": 2,
   "id": "ffe3fd7a-3e05-42f4-ba1a-1f41bd96cfbe",
   "metadata": {},
   "outputs": [],
   "source": [
    "from typing import List"
   ]
  },
  {
   "cell_type": "code",
   "execution_count": 3,
   "id": "95a24f18-6c59-4345-809c-550155a45f80",
   "metadata": {},
   "outputs": [],
   "source": [
    "Vector = List[float]"
   ]
  },
  {
   "cell_type": "code",
   "execution_count": 4,
   "id": "fe0dc344-e2b3-4cb4-94b3-fa036953e3bf",
   "metadata": {},
   "outputs": [],
   "source": [
    "def dot_product(vec1: Vector, vec2: Vector) -> float:\n",
    "    return sum(x * y for x, y in zip(vec1, vec2))"
   ]
  },
  {
   "cell_type": "code",
   "execution_count": 5,
   "id": "96b43f45-21f5-402c-a1ba-5d9097e3b359",
   "metadata": {},
   "outputs": [
    {
     "data": {
      "text/plain": [
       "11.0"
      ]
     },
     "execution_count": 5,
     "metadata": {},
     "output_type": "execute_result"
    }
   ],
   "source": [
    "dot_product([1.0, 2.0], [3.0, 4.0])"
   ]
  },
  {
   "cell_type": "code",
   "execution_count": null,
   "id": "492b0eb7-582c-4b3c-9928-07312a8bf2f6",
   "metadata": {},
   "outputs": [],
   "source": []
  }
 ],
 "metadata": {
  "kernelspec": {
   "display_name": "Python 3 (ipykernel)",
   "language": "python",
   "name": "python3"
  },
  "language_info": {
   "codemirror_mode": {
    "name": "ipython",
    "version": 3
   },
   "file_extension": ".py",
   "mimetype": "text/x-python",
   "name": "python",
   "nbconvert_exporter": "python",
   "pygments_lexer": "ipython3",
   "version": "3.12.4"
  }
 },
 "nbformat": 4,
 "nbformat_minor": 5
}
