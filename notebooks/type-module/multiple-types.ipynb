{
 "cells": [
  {
   "cell_type": "code",
   "execution_count": null,
   "id": "78f9a6ed-d574-4653-bf00-35d0dc9c02e0",
   "metadata": {},
   "outputs": [],
   "source": [
    "# 20250130"
   ]
  },
  {
   "cell_type": "code",
   "execution_count": 1,
   "id": "c0a0736e-c25f-4041-8d1d-505709be628a",
   "metadata": {},
   "outputs": [],
   "source": [
    "# Using Union for Multiple Types"
   ]
  },
  {
   "cell_type": "code",
   "execution_count": 2,
   "id": "cfd3ef12-3a40-41cd-b18f-fb0684dd977e",
   "metadata": {},
   "outputs": [],
   "source": [
    "from typing import Union"
   ]
  },
  {
   "cell_type": "code",
   "execution_count": 3,
   "id": "12dbacc5-9fcb-4c72-88e3-d1b00f6cec42",
   "metadata": {},
   "outputs": [],
   "source": [
    "def square_or_length(value: Union[int, str]) -> int:\n",
    "    if isinstance(value, int):\n",
    "        return value ** 2\n",
    "    return len(value)"
   ]
  },
  {
   "cell_type": "code",
   "execution_count": 4,
   "id": "375fc29d-7907-448c-9525-22d8911818ea",
   "metadata": {},
   "outputs": [
    {
     "data": {
      "text/plain": [
       "16"
      ]
     },
     "execution_count": 4,
     "metadata": {},
     "output_type": "execute_result"
    }
   ],
   "source": [
    "square_or_length(4)"
   ]
  },
  {
   "cell_type": "code",
   "execution_count": 5,
   "id": "450c05a4-7dcf-46a5-92eb-209f338512e0",
   "metadata": {},
   "outputs": [
    {
     "data": {
      "text/plain": [
       "4"
      ]
     },
     "execution_count": 5,
     "metadata": {},
     "output_type": "execute_result"
    }
   ],
   "source": [
    "square_or_length(\"test\")"
   ]
  },
  {
   "cell_type": "code",
   "execution_count": null,
   "id": "c878d476-c843-464f-99c0-2fa51af6ad2d",
   "metadata": {},
   "outputs": [],
   "source": []
  }
 ],
 "metadata": {
  "kernelspec": {
   "display_name": "Python 3 (ipykernel)",
   "language": "python",
   "name": "python3"
  },
  "language_info": {
   "codemirror_mode": {
    "name": "ipython",
    "version": 3
   },
   "file_extension": ".py",
   "mimetype": "text/x-python",
   "name": "python",
   "nbconvert_exporter": "python",
   "pygments_lexer": "ipython3",
   "version": "3.12.4"
  }
 },
 "nbformat": 4,
 "nbformat_minor": 5
}
