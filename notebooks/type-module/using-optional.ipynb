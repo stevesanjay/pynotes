{
 "cells": [
  {
   "cell_type": "code",
   "execution_count": 2,
   "id": "c605f71f-301f-4c7e-aad0-7eaf4e7825d6",
   "metadata": {},
   "outputs": [],
   "source": [
    "# 20250130"
   ]
  },
  {
   "cell_type": "code",
   "execution_count": 3,
   "id": "1795d404-3b4e-49d6-96f3-8aa689ae4ac7",
   "metadata": {},
   "outputs": [],
   "source": [
    "# Using Optional for Nullable Parameters"
   ]
  },
  {
   "cell_type": "code",
   "execution_count": 4,
   "id": "7e55773f-5d88-4584-b293-d545ddfc7e80",
   "metadata": {},
   "outputs": [],
   "source": [
    "from typing import Optional\n"
   ]
  },
  {
   "cell_type": "code",
   "execution_count": 5,
   "id": "eae5c78d-0ef0-4877-a364-f416305910a4",
   "metadata": {},
   "outputs": [],
   "source": [
    "def greet(name: Optional[str] = None) -> str:\n",
    "    if name:\n",
    "        return f\"Hello, {name}!\"\n",
    "    return \"Hello, Guest!\""
   ]
  },
  {
   "cell_type": "code",
   "execution_count": 6,
   "id": "623d60ec-967f-4621-bb27-0f267b51b745",
   "metadata": {},
   "outputs": [
    {
     "data": {
      "text/plain": [
       "'Hello, Guest!'"
      ]
     },
     "execution_count": 6,
     "metadata": {},
     "output_type": "execute_result"
    }
   ],
   "source": [
    "greet()"
   ]
  },
  {
   "cell_type": "code",
   "execution_count": 7,
   "id": "5ca492ff-3d2a-4b58-bf66-1efed421b2d7",
   "metadata": {},
   "outputs": [
    {
     "data": {
      "text/plain": [
       "'Hello, Alice!'"
      ]
     },
     "execution_count": 7,
     "metadata": {},
     "output_type": "execute_result"
    }
   ],
   "source": [
    "greet(\"Alice\")"
   ]
  },
  {
   "cell_type": "code",
   "execution_count": null,
   "id": "19c71370-3790-4208-a770-878b815729f9",
   "metadata": {},
   "outputs": [],
   "source": []
  }
 ],
 "metadata": {
  "kernelspec": {
   "display_name": "Python 3 (ipykernel)",
   "language": "python",
   "name": "python3"
  },
  "language_info": {
   "codemirror_mode": {
    "name": "ipython",
    "version": 3
   },
   "file_extension": ".py",
   "mimetype": "text/x-python",
   "name": "python",
   "nbconvert_exporter": "python",
   "pygments_lexer": "ipython3",
   "version": "3.12.4"
  }
 },
 "nbformat": 4,
 "nbformat_minor": 5
}
