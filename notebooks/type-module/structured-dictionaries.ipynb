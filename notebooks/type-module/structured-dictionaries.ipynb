{
 "cells": [
  {
   "cell_type": "code",
   "execution_count": 2,
   "id": "f69ea1f7-fc33-4e10-953b-c8c054da8ea4",
   "metadata": {},
   "outputs": [],
   "source": [
    "# 20250130"
   ]
  },
  {
   "cell_type": "code",
   "execution_count": 3,
   "id": "231ee5d0-0ac7-4571-9480-6ca3f9f832f9",
   "metadata": {},
   "outputs": [],
   "source": [
    "# Using TypedDict for Structured Dictionaries"
   ]
  },
  {
   "cell_type": "code",
   "execution_count": 4,
   "id": "9b6c7b66-766d-4380-8dff-d4786f556dcf",
   "metadata": {},
   "outputs": [],
   "source": [
    "from typing import TypedDict"
   ]
  },
  {
   "cell_type": "code",
   "execution_count": 5,
   "id": "6ab45360-a898-4b36-a456-131e8b259a5f",
   "metadata": {},
   "outputs": [],
   "source": [
    "class User(TypedDict):\n",
    "    name: str\n",
    "    age: int\n",
    "    email: str"
   ]
  },
  {
   "cell_type": "code",
   "execution_count": 6,
   "id": "62abcef2-b080-44c8-ab6f-1cc66303baf7",
   "metadata": {},
   "outputs": [],
   "source": [
    "def display_user(user: User) -> str:\n",
    "    return f\"{user['name']} ({user['age']}) can be reached at {user['email']}.\""
   ]
  },
  {
   "cell_type": "code",
   "execution_count": 7,
   "id": "4d0ce8c2-b20e-4286-b028-6217d6a898ee",
   "metadata": {},
   "outputs": [],
   "source": [
    "user = {\"name\": \"Alice\", \"age\": 30, \"email\": \"alice@example.com\"}"
   ]
  },
  {
   "cell_type": "code",
   "execution_count": 9,
   "id": "2e846406-4115-4775-b9f6-af819637b91a",
   "metadata": {},
   "outputs": [
    {
     "data": {
      "text/plain": [
       "'Alice (30) can be reached at alice@example.com.'"
      ]
     },
     "execution_count": 9,
     "metadata": {},
     "output_type": "execute_result"
    }
   ],
   "source": [
    "display_user(user)"
   ]
  },
  {
   "cell_type": "code",
   "execution_count": null,
   "id": "b5865eaf-ac49-4e48-a7e5-7d96725fe32f",
   "metadata": {},
   "outputs": [],
   "source": []
  }
 ],
 "metadata": {
  "kernelspec": {
   "display_name": "Python 3 (ipykernel)",
   "language": "python",
   "name": "python3"
  },
  "language_info": {
   "codemirror_mode": {
    "name": "ipython",
    "version": 3
   },
   "file_extension": ".py",
   "mimetype": "text/x-python",
   "name": "python",
   "nbconvert_exporter": "python",
   "pygments_lexer": "ipython3",
   "version": "3.12.4"
  }
 },
 "nbformat": 4,
 "nbformat_minor": 5
}
