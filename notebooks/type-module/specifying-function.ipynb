{
 "cells": [
  {
   "cell_type": "code",
   "execution_count": 5,
   "id": "8d2227c0-210b-46f5-8f01-627d66745471",
   "metadata": {},
   "outputs": [],
   "source": [
    "# 20250130"
   ]
  },
  {
   "cell_type": "code",
   "execution_count": 6,
   "id": "65f1b854-674d-4c63-8e38-5b4cae778eb8",
   "metadata": {},
   "outputs": [],
   "source": [
    "# Specifying Function Input and Output Types"
   ]
  },
  {
   "cell_type": "code",
   "execution_count": 7,
   "id": "1b55110e-dc8e-4a10-9a77-53ccdf90b0e8",
   "metadata": {},
   "outputs": [],
   "source": [
    "from typing import List"
   ]
  },
  {
   "cell_type": "code",
   "execution_count": 8,
   "id": "311862f3-e2ea-46ef-adf1-c3cebb7ed424",
   "metadata": {},
   "outputs": [],
   "source": [
    "def sum_of_integers(numbers: List[int]) -> int:\n",
    "    return sum(numbers)"
   ]
  },
  {
   "cell_type": "code",
   "execution_count": 9,
   "id": "9ea6dd78-a941-47ed-a5e7-973c897c825b",
   "metadata": {},
   "outputs": [
    {
     "data": {
      "text/plain": [
       "6"
      ]
     },
     "execution_count": 9,
     "metadata": {},
     "output_type": "execute_result"
    }
   ],
   "source": [
    "sum_of_integers([1, 2, 3])"
   ]
  },
  {
   "cell_type": "code",
   "execution_count": null,
   "id": "8fff2ad4-dc66-4b34-8f10-7126962e6093",
   "metadata": {},
   "outputs": [],
   "source": []
  }
 ],
 "metadata": {
  "kernelspec": {
   "display_name": "Python 3 (ipykernel)",
   "language": "python",
   "name": "python3"
  },
  "language_info": {
   "codemirror_mode": {
    "name": "ipython",
    "version": 3
   },
   "file_extension": ".py",
   "mimetype": "text/x-python",
   "name": "python",
   "nbconvert_exporter": "python",
   "pygments_lexer": "ipython3",
   "version": "3.12.4"
  }
 },
 "nbformat": 4,
 "nbformat_minor": 5
}
