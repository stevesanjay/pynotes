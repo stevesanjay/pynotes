{
 "cells": [
  {
   "cell_type": "code",
   "execution_count": 1,
   "id": "e95bf4d5-ad66-4e0a-af8f-02e3bea51a4c",
   "metadata": {},
   "outputs": [],
   "source": [
    "# 20250130"
   ]
  },
  {
   "cell_type": "code",
   "execution_count": 2,
   "id": "a4ea0704-14d6-465f-ad65-bedf4ab4c759",
   "metadata": {},
   "outputs": [],
   "source": [
    "# Using Literal for Specific Values"
   ]
  },
  {
   "cell_type": "code",
   "execution_count": 3,
   "id": "289a128b-3e91-4bb6-aef4-f69292b26980",
   "metadata": {},
   "outputs": [],
   "source": [
    "from typing import Literal"
   ]
  },
  {
   "cell_type": "code",
   "execution_count": 4,
   "id": "ba6a2181-c090-4b36-aeac-ba910f6c6118",
   "metadata": {},
   "outputs": [],
   "source": [
    "def choose_plan(plan: Literal[\"free\", \"premium\", \"enterprise\"]) -> str:\n",
    "    return f\"You selected the {plan} plan.\""
   ]
  },
  {
   "cell_type": "code",
   "execution_count": 5,
   "id": "3a2be03c-a03a-4743-a913-13110a79c717",
   "metadata": {},
   "outputs": [
    {
     "data": {
      "text/plain": [
       "'You selected the premium plan.'"
      ]
     },
     "execution_count": 5,
     "metadata": {},
     "output_type": "execute_result"
    }
   ],
   "source": [
    "choose_plan(\"premium\")"
   ]
  },
  {
   "cell_type": "code",
   "execution_count": 6,
   "id": "eb2339cf-2219-4f57-8bc1-4b40b01437ba",
   "metadata": {},
   "outputs": [
    {
     "data": {
      "text/plain": [
       "'You selected the free plan.'"
      ]
     },
     "execution_count": 6,
     "metadata": {},
     "output_type": "execute_result"
    }
   ],
   "source": [
    "choose_plan(\"free\")"
   ]
  },
  {
   "cell_type": "code",
   "execution_count": 7,
   "id": "5b99a20a-44de-498d-ab33-0a6016cafed2",
   "metadata": {},
   "outputs": [
    {
     "data": {
      "text/plain": [
       "'You selected the enterprise plan.'"
      ]
     },
     "execution_count": 7,
     "metadata": {},
     "output_type": "execute_result"
    }
   ],
   "source": [
    "choose_plan(\"enterprise\")"
   ]
  },
  {
   "cell_type": "code",
   "execution_count": null,
   "id": "d7b712a4-e9f9-4cb9-a379-3c074066fe6e",
   "metadata": {},
   "outputs": [],
   "source": []
  }
 ],
 "metadata": {
  "kernelspec": {
   "display_name": "Python 3 (ipykernel)",
   "language": "python",
   "name": "python3"
  },
  "language_info": {
   "codemirror_mode": {
    "name": "ipython",
    "version": 3
   },
   "file_extension": ".py",
   "mimetype": "text/x-python",
   "name": "python",
   "nbconvert_exporter": "python",
   "pygments_lexer": "ipython3",
   "version": "3.12.4"
  }
 },
 "nbformat": 4,
 "nbformat_minor": 5
}
