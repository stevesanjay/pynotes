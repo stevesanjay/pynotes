{
 "cells": [
  {
   "cell_type": "code",
   "execution_count": 1,
   "id": "8e61eb63-eeb5-4bd5-a55d-1944319ef913",
   "metadata": {},
   "outputs": [],
   "source": [
    "# 20250130"
   ]
  },
  {
   "cell_type": "code",
   "execution_count": 3,
   "id": "6925c8a3-9cfc-4ca0-8fc2-19b7f19cc459",
   "metadata": {},
   "outputs": [],
   "source": [
    "# Type Hint for Dictionaries"
   ]
  },
  {
   "cell_type": "code",
   "execution_count": 4,
   "id": "061e5175-6b28-4986-ac30-55d7d97965fd",
   "metadata": {},
   "outputs": [],
   "source": [
    "from typing import Dict"
   ]
  },
  {
   "cell_type": "code",
   "execution_count": 5,
   "id": "6f89b067-dc40-4043-b56d-b33df02fbe48",
   "metadata": {},
   "outputs": [],
   "source": [
    "def count_fruits(fruit_counts: Dict[str, int]) -> int:\n",
    "    return sum(fruit_counts.values())"
   ]
  },
  {
   "cell_type": "code",
   "execution_count": 6,
   "id": "8de26b49-3cab-499e-a918-683287571e70",
   "metadata": {},
   "outputs": [],
   "source": [
    "fruits = {\"apple\": 5, \"banana\": 3, \"orange\": 2}"
   ]
  },
  {
   "cell_type": "code",
   "execution_count": 7,
   "id": "aeb9b367-9ade-4264-a83a-bcc2beac0984",
   "metadata": {},
   "outputs": [
    {
     "data": {
      "text/plain": [
       "10"
      ]
     },
     "execution_count": 7,
     "metadata": {},
     "output_type": "execute_result"
    }
   ],
   "source": [
    "count_fruits(fruits)"
   ]
  },
  {
   "cell_type": "code",
   "execution_count": null,
   "id": "c3f477c8-ce9a-407c-bb54-94c5eafed670",
   "metadata": {},
   "outputs": [],
   "source": []
  }
 ],
 "metadata": {
  "kernelspec": {
   "display_name": "Python 3 (ipykernel)",
   "language": "python",
   "name": "python3"
  },
  "language_info": {
   "codemirror_mode": {
    "name": "ipython",
    "version": 3
   },
   "file_extension": ".py",
   "mimetype": "text/x-python",
   "name": "python",
   "nbconvert_exporter": "python",
   "pygments_lexer": "ipython3",
   "version": "3.12.4"
  }
 },
 "nbformat": 4,
 "nbformat_minor": 5
}
