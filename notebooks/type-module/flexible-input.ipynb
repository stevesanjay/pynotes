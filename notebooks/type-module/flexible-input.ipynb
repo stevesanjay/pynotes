{
 "cells": [
  {
   "cell_type": "code",
   "execution_count": 2,
   "id": "0a18d755-ed5d-4793-b4a9-d0984bcd58f5",
   "metadata": {},
   "outputs": [],
   "source": [
    "# 20250130"
   ]
  },
  {
   "cell_type": "code",
   "execution_count": 3,
   "id": "55a2bf36-25aa-4dee-ba6c-e69ff8d1fc60",
   "metadata": {},
   "outputs": [],
   "source": [
    "# Using Any for Flexible Input"
   ]
  },
  {
   "cell_type": "code",
   "execution_count": 4,
   "id": "bb90e667-4e59-4359-93f4-828159405e19",
   "metadata": {},
   "outputs": [],
   "source": [
    "from typing import Any"
   ]
  },
  {
   "cell_type": "code",
   "execution_count": 5,
   "id": "7a2565d5-1e65-4334-ad73-98f9260277ed",
   "metadata": {},
   "outputs": [],
   "source": [
    "def stringify(value: Any) -> str:\n",
    "    return str(value)"
   ]
  },
  {
   "cell_type": "code",
   "execution_count": 6,
   "id": "28acd3cf-963a-40b0-8908-81fe34b1bc00",
   "metadata": {},
   "outputs": [
    {
     "data": {
      "text/plain": [
       "'42'"
      ]
     },
     "execution_count": 6,
     "metadata": {},
     "output_type": "execute_result"
    }
   ],
   "source": [
    "stringify(42)"
   ]
  },
  {
   "cell_type": "code",
   "execution_count": 7,
   "id": "c2f27622-f294-4f4c-9c2a-9fdb531427c1",
   "metadata": {},
   "outputs": [
    {
     "data": {
      "text/plain": [
       "'[1, 2, 3]'"
      ]
     },
     "execution_count": 7,
     "metadata": {},
     "output_type": "execute_result"
    }
   ],
   "source": [
    "stringify([1, 2, 3])"
   ]
  },
  {
   "cell_type": "code",
   "execution_count": null,
   "id": "7db68073-5103-4e95-b656-f17bead8ce7c",
   "metadata": {},
   "outputs": [],
   "source": []
  }
 ],
 "metadata": {
  "kernelspec": {
   "display_name": "Python 3 (ipykernel)",
   "language": "python",
   "name": "python3"
  },
  "language_info": {
   "codemirror_mode": {
    "name": "ipython",
    "version": 3
   },
   "file_extension": ".py",
   "mimetype": "text/x-python",
   "name": "python",
   "nbconvert_exporter": "python",
   "pygments_lexer": "ipython3",
   "version": "3.12.4"
  }
 },
 "nbformat": 4,
 "nbformat_minor": 5
}
