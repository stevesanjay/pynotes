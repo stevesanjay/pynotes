{
 "cells": [
  {
   "cell_type": "code",
   "execution_count": 1,
   "id": "f214d665-677f-4e0f-a971-dc1af1cee12d",
   "metadata": {},
   "outputs": [],
   "source": [
    "# 20250130"
   ]
  },
  {
   "cell_type": "code",
   "execution_count": 2,
   "id": "19beae34-ce3c-401f-91a5-7b996c528134",
   "metadata": {},
   "outputs": [],
   "source": [
    "# Using Callable for Functions"
   ]
  },
  {
   "cell_type": "code",
   "execution_count": 3,
   "id": "1ff652e7-58d1-473e-b677-9d5fbc620aad",
   "metadata": {},
   "outputs": [],
   "source": [
    "from typing import Callable"
   ]
  },
  {
   "cell_type": "code",
   "execution_count": 4,
   "id": "8808f530-fdf6-4e62-8668-66f187c0b925",
   "metadata": {},
   "outputs": [],
   "source": [
    "def apply_operation(a: int, b: int, operation: Callable[[int, int], int]) -> int:\n",
    "    return operation(a, b)"
   ]
  },
  {
   "cell_type": "code",
   "execution_count": 5,
   "id": "5304dcf8-c08c-4c3b-aadb-df55fb01f4fc",
   "metadata": {},
   "outputs": [],
   "source": [
    "result = apply_operation(2, 3, lambda x, y: x + y)"
   ]
  },
  {
   "cell_type": "code",
   "execution_count": 6,
   "id": "1cedc1b1-06d7-459e-b3df-341485135b5f",
   "metadata": {},
   "outputs": [
    {
     "data": {
      "text/plain": [
       "5"
      ]
     },
     "execution_count": 6,
     "metadata": {},
     "output_type": "execute_result"
    }
   ],
   "source": [
    "result"
   ]
  },
  {
   "cell_type": "code",
   "execution_count": null,
   "id": "a217ecaf-21d2-409e-ba52-8d625c4898a3",
   "metadata": {},
   "outputs": [],
   "source": []
  }
 ],
 "metadata": {
  "kernelspec": {
   "display_name": "Python 3 (ipykernel)",
   "language": "python",
   "name": "python3"
  },
  "language_info": {
   "codemirror_mode": {
    "name": "ipython",
    "version": 3
   },
   "file_extension": ".py",
   "mimetype": "text/x-python",
   "name": "python",
   "nbconvert_exporter": "python",
   "pygments_lexer": "ipython3",
   "version": "3.12.4"
  }
 },
 "nbformat": 4,
 "nbformat_minor": 5
}
