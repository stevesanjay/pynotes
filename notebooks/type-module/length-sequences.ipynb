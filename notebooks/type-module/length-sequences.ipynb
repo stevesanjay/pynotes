{
 "cells": [
  {
   "cell_type": "code",
   "execution_count": 2,
   "id": "9edb6359-7eab-4ec3-a1e0-e4f1ae5ffbc9",
   "metadata": {},
   "outputs": [],
   "source": [
    "# 20250130"
   ]
  },
  {
   "cell_type": "code",
   "execution_count": 3,
   "id": "2a5e3eca-f7fc-40fb-9627-2b378ed5ab14",
   "metadata": {},
   "outputs": [],
   "source": [
    "# Using Tuple for Fixed-Length Sequences"
   ]
  },
  {
   "cell_type": "code",
   "execution_count": 4,
   "id": "ea049467-5383-4ac6-aaf5-b0ae3e9eae55",
   "metadata": {},
   "outputs": [],
   "source": [
    "from typing import Tuple"
   ]
  },
  {
   "cell_type": "code",
   "execution_count": 5,
   "id": "7d8d94a2-7183-4f1e-ad20-23c8097178f9",
   "metadata": {},
   "outputs": [],
   "source": [
    "def process_coordinates(coords: Tuple[float, float]) -> str:\n",
    "    return f\"Latitude: {coords[0]}, Longitude: {coords[1]}\""
   ]
  },
  {
   "cell_type": "code",
   "execution_count": 6,
   "id": "6722abca-e7f2-48b4-aceb-3b62570d79d9",
   "metadata": {},
   "outputs": [
    {
     "data": {
      "text/plain": [
       "'Latitude: 40.7128, Longitude: -74.006'"
      ]
     },
     "execution_count": 6,
     "metadata": {},
     "output_type": "execute_result"
    }
   ],
   "source": [
    "process_coordinates((40.7128, -74.0060))"
   ]
  },
  {
   "cell_type": "code",
   "execution_count": null,
   "id": "faa1873a-3d2e-4c87-96ac-700d2e50fd5d",
   "metadata": {},
   "outputs": [],
   "source": []
  }
 ],
 "metadata": {
  "kernelspec": {
   "display_name": "Python 3 (ipykernel)",
   "language": "python",
   "name": "python3"
  },
  "language_info": {
   "codemirror_mode": {
    "name": "ipython",
    "version": 3
   },
   "file_extension": ".py",
   "mimetype": "text/x-python",
   "name": "python",
   "nbconvert_exporter": "python",
   "pygments_lexer": "ipython3",
   "version": "3.12.4"
  }
 },
 "nbformat": 4,
 "nbformat_minor": 5
}
