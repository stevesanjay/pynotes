{
 "cells": [
  {
   "cell_type": "code",
   "execution_count": 1,
   "id": "59e14e33-9aec-42c6-9dcc-f32f43a13328",
   "metadata": {},
   "outputs": [],
   "source": [
    "word = ['steve','sanjay','ajay','bob','jack']"
   ]
  },
  {
   "cell_type": "code",
   "execution_count": 2,
   "id": "48f39c57-9913-4dda-a7cb-0093fde45cfa",
   "metadata": {},
   "outputs": [],
   "source": [
    "word.sort( key = lambda word : len(word))"
   ]
  },
  {
   "cell_type": "code",
   "execution_count": 3,
   "id": "21165cfb-b50b-40ed-9e19-27aebb9efb1e",
   "metadata": {},
   "outputs": [
    {
     "data": {
      "text/plain": [
       "['bob', 'ajay', 'jack', 'steve', 'sanjay']"
      ]
     },
     "execution_count": 3,
     "metadata": {},
     "output_type": "execute_result"
    }
   ],
   "source": [
    "word"
   ]
  },
  {
   "cell_type": "code",
   "execution_count": null,
   "id": "c359397d-5d19-4d62-9913-2e24f3b71748",
   "metadata": {},
   "outputs": [],
   "source": []
  }
 ],
 "metadata": {
  "kernelspec": {
   "display_name": "Python 3 (ipykernel)",
   "language": "python",
   "name": "python3"
  },
  "language_info": {
   "codemirror_mode": {
    "name": "ipython",
    "version": 3
   },
   "file_extension": ".py",
   "mimetype": "text/x-python",
   "name": "python",
   "nbconvert_exporter": "python",
   "pygments_lexer": "ipython3",
   "version": "3.12.4"
  }
 },
 "nbformat": 4,
 "nbformat_minor": 5
}
