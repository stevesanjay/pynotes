{
 "cells": [
  {
   "cell_type": "code",
   "execution_count": 1,
   "id": "e7f7ffd8-588e-4546-a69e-832d87ff8c65",
   "metadata": {},
   "outputs": [],
   "source": [
    "def print_everything(*args):\n",
    "        for count, thing in enumerate(args):\n",
    "            print( '{0}. {1}'.format(count, thing))"
   ]
  },
  {
   "cell_type": "code",
   "execution_count": 2,
   "id": "c9fa301b-343b-454b-9976-014a0e9e1e22",
   "metadata": {},
   "outputs": [],
   "source": [
    "def main():\n",
    "    print_everything('apple', 'banana', 'cabbage', 'spinach')"
   ]
  },
  {
   "cell_type": "code",
   "execution_count": 3,
   "id": "7efc8f95-efa6-4f4c-88cb-b2223bdb2788",
   "metadata": {},
   "outputs": [
    {
     "name": "stdout",
     "output_type": "stream",
     "text": [
      "0. apple\n",
      "1. banana\n",
      "2. cabbage\n",
      "3. spinach\n"
     ]
    }
   ],
   "source": [
    "if __name__ == '__main__':\n",
    "    main()"
   ]
  },
  {
   "cell_type": "code",
   "execution_count": null,
   "id": "c60d0445-c629-4cca-b5fd-b98d3f093fbb",
   "metadata": {},
   "outputs": [],
   "source": []
  }
 ],
 "metadata": {
  "kernelspec": {
   "display_name": "Python 3 (ipykernel)",
   "language": "python",
   "name": "python3"
  },
  "language_info": {
   "codemirror_mode": {
    "name": "ipython",
    "version": 3
   },
   "file_extension": ".py",
   "mimetype": "text/x-python",
   "name": "python",
   "nbconvert_exporter": "python",
   "pygments_lexer": "ipython3",
   "version": "3.12.4"
  }
 },
 "nbformat": 4,
 "nbformat_minor": 5
}
