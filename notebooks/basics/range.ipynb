{
 "cells": [
  {
   "cell_type": "code",
   "execution_count": 1,
   "id": "06f54e4d-b840-46c3-9511-175e50664072",
   "metadata": {},
   "outputs": [],
   "source": [
    "nums = range(5) "
   ]
  },
  {
   "cell_type": "code",
   "execution_count": 2,
   "id": "1ab785e7-196f-4efe-bd84-46540d9244d9",
   "metadata": {},
   "outputs": [
    {
     "data": {
      "text/plain": [
       "range(0, 5)"
      ]
     },
     "execution_count": 2,
     "metadata": {},
     "output_type": "execute_result"
    }
   ],
   "source": [
    "nums"
   ]
  },
  {
   "cell_type": "code",
   "execution_count": 3,
   "id": "479bd8a2-829e-4a84-b41b-fb96f94c2107",
   "metadata": {},
   "outputs": [
    {
     "name": "stdout",
     "output_type": "stream",
     "text": [
      "range(2, 4)\n"
     ]
    }
   ],
   "source": [
    "print (nums[2:4])"
   ]
  },
  {
   "cell_type": "code",
   "execution_count": 4,
   "id": "f5dedfc3-6648-41f7-ba0c-41f38a5f732a",
   "metadata": {},
   "outputs": [
    {
     "name": "stdout",
     "output_type": "stream",
     "text": [
      "range(2, 5)\n"
     ]
    }
   ],
   "source": [
    "print (nums[2:])"
   ]
  },
  {
   "cell_type": "code",
   "execution_count": 6,
   "id": "cbd604d2-6100-4d83-8140-798c82d05a10",
   "metadata": {},
   "outputs": [
    {
     "name": "stdout",
     "output_type": "stream",
     "text": [
      "range(0, 4)\n"
     ]
    }
   ],
   "source": [
    "print (nums[:-1]) "
   ]
  },
  {
   "cell_type": "code",
   "execution_count": null,
   "id": "d238b1a5-a720-4fda-b957-002ac2f58980",
   "metadata": {},
   "outputs": [],
   "source": []
  }
 ],
 "metadata": {
  "kernelspec": {
   "display_name": "Python 3 (ipykernel)",
   "language": "python",
   "name": "python3"
  },
  "language_info": {
   "codemirror_mode": {
    "name": "ipython",
    "version": 3
   },
   "file_extension": ".py",
   "mimetype": "text/x-python",
   "name": "python",
   "nbconvert_exporter": "python",
   "pygments_lexer": "ipython3",
   "version": "3.12.4"
  }
 },
 "nbformat": 4,
 "nbformat_minor": 5
}
