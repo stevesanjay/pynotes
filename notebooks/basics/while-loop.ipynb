{
 "cells": [
  {
   "cell_type": "code",
   "execution_count": 1,
   "id": "bab8dda4-20ba-4ea3-9ef9-a1f6e38fd039",
   "metadata": {},
   "outputs": [],
   "source": [
    "import random\n",
    "import time"
   ]
  },
  {
   "cell_type": "code",
   "execution_count": 2,
   "id": "a9e63548-c472-444b-8a84-0d8d10f25a2c",
   "metadata": {},
   "outputs": [],
   "source": [
    "def startpy():\n",
    "\n",
    "    count = 0\n",
    "    while (True):\n",
    "\n",
    "        count += 1\n",
    "\n",
    "        c_number = random.randint(1000, 2000)\n",
    "\n",
    "        if(c_number %9 == 0):\n",
    "            print(f\"{count}: my number : {c_number} is divided by nine. So breaking the loop\")\n",
    "            break\n",
    "\n",
    "        print(f\"{count}: my number : {c_number}\")\n",
    "        time.sleep(1)\n",
    "\n",
    "        # breaking the loop\n",
    "        if(count > 4):\n",
    "            break"
   ]
  },
  {
   "cell_type": "code",
   "execution_count": 3,
   "id": "d8be22f8-bc0e-4eff-aa03-be613aee6d7d",
   "metadata": {},
   "outputs": [
    {
     "name": "stdout",
     "output_type": "stream",
     "text": [
      "1: my number : 1490\n",
      "2: my number : 1249\n",
      "3: my number : 1938\n",
      "4: my number : 1491\n",
      "5: my number : 1183\n"
     ]
    }
   ],
   "source": [
    "startpy()"
   ]
  },
  {
   "cell_type": "code",
   "execution_count": null,
   "id": "cea566d3-14bc-420b-bd99-a63962e47c67",
   "metadata": {},
   "outputs": [],
   "source": []
  }
 ],
 "metadata": {
  "kernelspec": {
   "display_name": "Python 3 (ipykernel)",
   "language": "python",
   "name": "python3"
  },
  "language_info": {
   "codemirror_mode": {
    "name": "ipython",
    "version": 3
   },
   "file_extension": ".py",
   "mimetype": "text/x-python",
   "name": "python",
   "nbconvert_exporter": "python",
   "pygments_lexer": "ipython3",
   "version": "3.12.4"
  }
 },
 "nbformat": 4,
 "nbformat_minor": 5
}
