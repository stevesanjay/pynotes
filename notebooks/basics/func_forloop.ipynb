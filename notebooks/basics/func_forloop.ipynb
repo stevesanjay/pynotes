{
 "cells": [
  {
   "cell_type": "code",
   "execution_count": 1,
   "id": "50f487fb-64b0-4b4d-a0df-d5adabdff422",
   "metadata": {},
   "outputs": [],
   "source": [
    "def for_loop_1():\n",
    "\n",
    "    # change elements of a list [23, 18, 2, 25, 12, 33], to 0 if the element exceeds 20.\n",
    "    Elements = [23, 18, 2, 12, 33]\n",
    "    for a in range(len(Elements)):\n",
    "        # print (Elements[a])\n",
    "        if Elements[a]>20:\n",
    "            print (0)\n",
    "        else:\n",
    "            print (Elements[a])"
   ]
  },
  {
   "cell_type": "code",
   "execution_count": 2,
   "id": "9f525805-6b36-4f40-890c-b791d5b912c6",
   "metadata": {},
   "outputs": [],
   "source": [
    "def for_loop_2():\n",
    "\n",
    "    # change elements of a list [23, 18, 2, 25, 12, 33], to 0 if the element exceeds 20.\n",
    "    Elements = [23, 18, 2, 12, 33]\n",
    "    for element in Elements:\n",
    "        # print (Elements[a])\n",
    "        if element > 20:\n",
    "            print (0)\n",
    "        else:\n",
    "            print (element)\n",
    "            "
   ]
  },
  {
   "cell_type": "code",
   "execution_count": 3,
   "id": "a094312e-eecf-4d01-bc67-8804143725a3",
   "metadata": {},
   "outputs": [
    {
     "name": "stdout",
     "output_type": "stream",
     "text": [
      "0\n",
      "18\n",
      "2\n",
      "12\n",
      "0\n"
     ]
    }
   ],
   "source": [
    "for_loop_1()"
   ]
  },
  {
   "cell_type": "code",
   "execution_count": 4,
   "id": "f5f12910-cc30-43d6-ab53-58d2bb52a445",
   "metadata": {},
   "outputs": [
    {
     "name": "stdout",
     "output_type": "stream",
     "text": [
      "0\n",
      "18\n",
      "2\n",
      "12\n",
      "0\n"
     ]
    }
   ],
   "source": [
    "for_loop_2()"
   ]
  },
  {
   "cell_type": "code",
   "execution_count": null,
   "id": "b75ea912-990b-4a26-aa01-0847c7c3ef1f",
   "metadata": {},
   "outputs": [],
   "source": []
  }
 ],
 "metadata": {
  "kernelspec": {
   "display_name": "Python 3 (ipykernel)",
   "language": "python",
   "name": "python3"
  },
  "language_info": {
   "codemirror_mode": {
    "name": "ipython",
    "version": 3
   },
   "file_extension": ".py",
   "mimetype": "text/x-python",
   "name": "python",
   "nbconvert_exporter": "python",
   "pygments_lexer": "ipython3",
   "version": "3.12.4"
  }
 },
 "nbformat": 4,
 "nbformat_minor": 5
}
