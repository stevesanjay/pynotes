{
 "cells": [
  {
   "cell_type": "code",
   "execution_count": 19,
   "id": "cf58e99d-5e22-463f-b7eb-857711984da1",
   "metadata": {},
   "outputs": [],
   "source": [
    "x = 12\n",
    "y = \"steve\"\n"
   ]
  },
  {
   "cell_type": "code",
   "execution_count": 20,
   "id": "1206a768-0b56-4cb2-9f86-7797e68d59aa",
   "metadata": {},
   "outputs": [
    {
     "data": {
      "text/plain": [
       "12"
      ]
     },
     "execution_count": 20,
     "metadata": {},
     "output_type": "execute_result"
    }
   ],
   "source": [
    "x"
   ]
  },
  {
   "cell_type": "code",
   "execution_count": 21,
   "id": "696a6fe1-b4cf-4a0e-ba71-cbc445510779",
   "metadata": {},
   "outputs": [
    {
     "data": {
      "text/plain": [
       "'steve'"
      ]
     },
     "execution_count": 21,
     "metadata": {},
     "output_type": "execute_result"
    }
   ],
   "source": [
    "y"
   ]
  },
  {
   "cell_type": "code",
   "execution_count": 24,
   "id": "a98695f5-0f1a-4d01-97c5-5ccd57410714",
   "metadata": {},
   "outputs": [],
   "source": [
    "def foo():\n",
    "    #global x //commenting \n",
    "    xy = y * 2\n",
    "    print(xy)"
   ]
  },
  {
   "cell_type": "code",
   "execution_count": 25,
   "id": "a388d80a-e8db-4cf9-a7d2-fbaf0916bf82",
   "metadata": {},
   "outputs": [
    {
     "name": "stdout",
     "output_type": "stream",
     "text": [
      "stevesteve\n"
     ]
    }
   ],
   "source": [
    "foo()"
   ]
  },
  {
   "cell_type": "code",
   "execution_count": null,
   "id": "f2d01b5c-c6a1-4de1-8c4b-0f73fa0a6c4c",
   "metadata": {},
   "outputs": [],
   "source": []
  }
 ],
 "metadata": {
  "kernelspec": {
   "display_name": "Python 3 (ipykernel)",
   "language": "python",
   "name": "python3"
  },
  "language_info": {
   "codemirror_mode": {
    "name": "ipython",
    "version": 3
   },
   "file_extension": ".py",
   "mimetype": "text/x-python",
   "name": "python",
   "nbconvert_exporter": "python",
   "pygments_lexer": "ipython3",
   "version": "3.12.4"
  }
 },
 "nbformat": 4,
 "nbformat_minor": 5
}
