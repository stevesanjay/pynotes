{
 "cells": [
  {
   "cell_type": "code",
   "execution_count": 1,
   "id": "1f1bd514-4b55-40ed-9fef-b30593cdf241",
   "metadata": {},
   "outputs": [],
   "source": [
    "import random\n",
    "import time"
   ]
  },
  {
   "cell_type": "code",
   "execution_count": 2,
   "id": "702b7712-a3f8-4cc2-9956-f8c53b4fbf85",
   "metadata": {},
   "outputs": [],
   "source": [
    "def is_odd(number):\n",
    "\n",
    "    if(number % 2 != 0):\n",
    "        print(f'{number} is odd number')\n",
    "    else:\n",
    "        print(f'{number} is even number')"
   ]
  },
  {
   "cell_type": "code",
   "execution_count": 5,
   "id": "c21b3128-6f8c-4756-a30d-d24dbaa20349",
   "metadata": {},
   "outputs": [
    {
     "name": "stdout",
     "output_type": "stream",
     "text": [
      "1617 is odd number\n",
      "1172 is even number\n",
      "1545 is odd number\n",
      "1652 is even number\n",
      "1302 is even number\n",
      "1907 is odd number\n",
      "1265 is odd number\n",
      "1273 is odd number\n",
      "1946 is even number\n",
      "1772 is even number\n"
     ]
    }
   ],
   "source": [
    "for _ in range(10):\n",
    "        c_number = random.randint(1000, 2000)\n",
    "        is_odd(c_number)\n",
    "        time.sleep(1)"
   ]
  },
  {
   "cell_type": "code",
   "execution_count": 3,
   "id": "54a16945-b027-4ed7-bc46-a6466216f779",
   "metadata": {},
   "outputs": [
    {
     "name": "stdout",
     "output_type": "stream",
     "text": [
      "10 is even number\n"
     ]
    }
   ],
   "source": [
    "is_odd(10)"
   ]
  },
  {
   "cell_type": "code",
   "execution_count": 4,
   "id": "87190ba4-628e-43e2-85dd-63228506292c",
   "metadata": {},
   "outputs": [
    {
     "name": "stdout",
     "output_type": "stream",
     "text": [
      "1 is odd number\n"
     ]
    }
   ],
   "source": [
    "is_odd(1)"
   ]
  },
  {
   "cell_type": "code",
   "execution_count": null,
   "id": "64ef3d46-a572-4fc9-808e-ea0aaa42e13e",
   "metadata": {},
   "outputs": [],
   "source": []
  }
 ],
 "metadata": {
  "kernelspec": {
   "display_name": "Python 3 (ipykernel)",
   "language": "python",
   "name": "python3"
  },
  "language_info": {
   "codemirror_mode": {
    "name": "ipython",
    "version": 3
   },
   "file_extension": ".py",
   "mimetype": "text/x-python",
   "name": "python",
   "nbconvert_exporter": "python",
   "pygments_lexer": "ipython3",
   "version": "3.12.4"
  }
 },
 "nbformat": 4,
 "nbformat_minor": 5
}
