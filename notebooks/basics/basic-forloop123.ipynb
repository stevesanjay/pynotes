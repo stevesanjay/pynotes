{
 "cells": [
  {
   "cell_type": "code",
   "execution_count": 1,
   "id": "87f216c0-a499-42a3-9108-775b18c0b09a",
   "metadata": {},
   "outputs": [],
   "source": [
    "digits = [0, 1, 2, 7, 8, 9]"
   ]
  },
  {
   "cell_type": "code",
   "execution_count": 2,
   "id": "7fa8d4a3-065e-46ca-954e-a2ee199d61cd",
   "metadata": {},
   "outputs": [
    {
     "data": {
      "text/plain": [
       "[0, 1, 2, 7, 8, 9]"
      ]
     },
     "execution_count": 2,
     "metadata": {},
     "output_type": "execute_result"
    }
   ],
   "source": [
    "digits"
   ]
  },
  {
   "cell_type": "code",
   "execution_count": 4,
   "id": "fe910155-6989-409c-9387-bb20b999e6d7",
   "metadata": {},
   "outputs": [
    {
     "name": "stdout",
     "output_type": "stream",
     "text": [
      "0\n",
      "1\n",
      "2\n",
      "7\n",
      "8\n",
      "9\n"
     ]
    }
   ],
   "source": [
    "for i in digits:\n",
    "    print(i)"
   ]
  },
  {
   "cell_type": "code",
   "execution_count": 5,
   "id": "9b1885d4-e109-4d14-b4d2-4a51d170223d",
   "metadata": {},
   "outputs": [],
   "source": [
    "even_digits = [x for x in digits if x%2 == 0]"
   ]
  },
  {
   "cell_type": "code",
   "execution_count": 6,
   "id": "28fc714b-72fb-4470-8331-09aa2fe0c39a",
   "metadata": {},
   "outputs": [
    {
     "data": {
      "text/plain": [
       "[0, 2, 8]"
      ]
     },
     "execution_count": 6,
     "metadata": {},
     "output_type": "execute_result"
    }
   ],
   "source": [
    "even_digits"
   ]
  },
  {
   "cell_type": "code",
   "execution_count": null,
   "id": "090f16bf-1e98-4445-9078-512d417b2236",
   "metadata": {},
   "outputs": [],
   "source": []
  }
 ],
 "metadata": {
  "kernelspec": {
   "display_name": "Python 3 (ipykernel)",
   "language": "python",
   "name": "python3"
  },
  "language_info": {
   "codemirror_mode": {
    "name": "ipython",
    "version": 3
   },
   "file_extension": ".py",
   "mimetype": "text/x-python",
   "name": "python",
   "nbconvert_exporter": "python",
   "pygments_lexer": "ipython3",
   "version": "3.12.4"
  }
 },
 "nbformat": 4,
 "nbformat_minor": 5
}
