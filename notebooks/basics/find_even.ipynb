{
 "cells": [
  {
   "cell_type": "code",
   "execution_count": 8,
   "id": "3bb80971-41e3-4b39-9350-8b78c6beb7a0",
   "metadata": {},
   "outputs": [],
   "source": [
    "def startpy():\n",
    "    \n",
    "    # change elements of a list [1, 9, 10, 11, 201, 8], to 0 if the element exceeds 20.\n",
    "    element_list = [1, 9, 10, 11, 201, 8]\n",
    "    new_element_list = []\n",
    "    \n",
    "    for a in element_list:\n",
    "        \n",
    "        if (a % 2 == 0):\n",
    "            new_element_list.append(a)\n",
    "        else:\n",
    "            print(f\"{a} is odd number\")\n",
    "\n",
    "    print(new_element_list)"
   ]
  },
  {
   "cell_type": "code",
   "execution_count": 9,
   "id": "5dd4f114-2e70-426c-8293-fe44f010b5ab",
   "metadata": {},
   "outputs": [
    {
     "name": "stdout",
     "output_type": "stream",
     "text": [
      "1 is odd number\n",
      "9 is odd number\n",
      "11 is odd number\n",
      "201 is odd number\n",
      "[10, 8]\n"
     ]
    }
   ],
   "source": [
    " startpy()"
   ]
  },
  {
   "cell_type": "code",
   "execution_count": null,
   "id": "9ed13d6d-8224-45c6-a654-4bdcc8d4b2a3",
   "metadata": {},
   "outputs": [],
   "source": []
  }
 ],
 "metadata": {
  "kernelspec": {
   "display_name": "Python 3 (ipykernel)",
   "language": "python",
   "name": "python3"
  },
  "language_info": {
   "codemirror_mode": {
    "name": "ipython",
    "version": 3
   },
   "file_extension": ".py",
   "mimetype": "text/x-python",
   "name": "python",
   "nbconvert_exporter": "python",
   "pygments_lexer": "ipython3",
   "version": "3.12.4"
  }
 },
 "nbformat": 4,
 "nbformat_minor": 5
}
