{
 "cells": [
  {
   "cell_type": "code",
   "execution_count": 14,
   "id": "8ee9a47e-6a46-412c-9597-5a30d0ea00f5",
   "metadata": {},
   "outputs": [],
   "source": [
    "#global variable\n",
    "x = 5"
   ]
  },
  {
   "cell_type": "code",
   "execution_count": 15,
   "id": "c3d6f898-bf95-4c1e-8bb2-8bafa8985a3e",
   "metadata": {},
   "outputs": [
    {
     "data": {
      "text/plain": [
       "5"
      ]
     },
     "execution_count": 15,
     "metadata": {},
     "output_type": "execute_result"
    }
   ],
   "source": [
    "x"
   ]
  },
  {
   "cell_type": "code",
   "execution_count": 16,
   "id": "ffaac7b6-8e5c-46d8-a43b-b0db7c5093ed",
   "metadata": {},
   "outputs": [],
   "source": [
    "def foo():\n",
    "    #local variable \n",
    "    x= 10\n",
    "    print(\"local x:\", x)"
   ]
  },
  {
   "cell_type": "code",
   "execution_count": 17,
   "id": "59069b25-a63d-40cb-8e03-f2f0e1d88dbd",
   "metadata": {},
   "outputs": [
    {
     "name": "stdout",
     "output_type": "stream",
     "text": [
      "local x: 10\n"
     ]
    }
   ],
   "source": [
    "foo()"
   ]
  },
  {
   "cell_type": "code",
   "execution_count": 18,
   "id": "b236d09d-3a91-4d71-94e5-2e5bba303cf9",
   "metadata": {},
   "outputs": [],
   "source": [
    "def fool():\n",
    "    print(\"local x:\", x)"
   ]
  },
  {
   "cell_type": "code",
   "execution_count": 19,
   "id": "fc06aa97-5cce-4b98-90a5-5814a0c089b4",
   "metadata": {},
   "outputs": [
    {
     "name": "stdout",
     "output_type": "stream",
     "text": [
      "local x: 5\n"
     ]
    }
   ],
   "source": [
    "fool()"
   ]
  },
  {
   "cell_type": "code",
   "execution_count": null,
   "id": "dc7b330c-4b05-470a-a669-820eb8b8626f",
   "metadata": {},
   "outputs": [],
   "source": []
  }
 ],
 "metadata": {
  "kernelspec": {
   "display_name": "Python 3 (ipykernel)",
   "language": "python",
   "name": "python3"
  },
  "language_info": {
   "codemirror_mode": {
    "name": "ipython",
    "version": 3
   },
   "file_extension": ".py",
   "mimetype": "text/x-python",
   "name": "python",
   "nbconvert_exporter": "python",
   "pygments_lexer": "ipython3",
   "version": "3.12.4"
  }
 },
 "nbformat": 4,
 "nbformat_minor": 5
}
