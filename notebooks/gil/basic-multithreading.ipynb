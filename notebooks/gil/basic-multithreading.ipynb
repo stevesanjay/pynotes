{
 "cells": [
  {
   "cell_type": "code",
   "execution_count": 1,
   "id": "4e4e38c7-d01f-497a-b716-f2f15f27c5bf",
   "metadata": {},
   "outputs": [],
   "source": [
    "# 20250131"
   ]
  },
  {
   "cell_type": "code",
   "execution_count": 3,
   "id": "f31e0957-c702-4388-9467-01bf0a204948",
   "metadata": {},
   "outputs": [],
   "source": [
    "# Basic Multithreading with the GIL (CPU-bound)"
   ]
  },
  {
   "cell_type": "code",
   "execution_count": 4,
   "id": "1cc04cc3-e2db-4c6c-9901-7ac59f6510a6",
   "metadata": {},
   "outputs": [],
   "source": [
    "# import necessary library"
   ]
  },
  {
   "cell_type": "code",
   "execution_count": 5,
   "id": "fc7be580-9823-4bf5-86cf-de17c70eabf2",
   "metadata": {},
   "outputs": [],
   "source": [
    "import threading"
   ]
  },
  {
   "cell_type": "code",
   "execution_count": 6,
   "id": "1bce05f6-ed9e-456d-a9a5-13eb9d25e3b8",
   "metadata": {},
   "outputs": [],
   "source": [
    "import time"
   ]
  },
  {
   "cell_type": "code",
   "execution_count": 8,
   "id": "e9de24e7-b889-4b5d-9818-905eaf21b120",
   "metadata": {},
   "outputs": [],
   "source": [
    "# CPU-bound task"
   ]
  },
  {
   "cell_type": "code",
   "execution_count": 17,
   "id": "69bb1f7c-7dfc-4946-9d23-e4b837495c1c",
   "metadata": {},
   "outputs": [],
   "source": [
    "def cpu_bound_task():\n",
    "    result = 0\n",
    "    for i in range(10**7):\n",
    "        result += i\n",
    "    print(f\"Result: {result}\")"
   ]
  },
  {
   "cell_type": "code",
   "execution_count": 18,
   "id": "6ffea2d8-6704-4c92-865f-c8521c665250",
   "metadata": {},
   "outputs": [
    {
     "name": "stdout",
     "output_type": "stream",
     "text": [
      "Result: 49999995000000\n"
     ]
    }
   ],
   "source": [
    "cpu_bound_task()"
   ]
  },
  {
   "cell_type": "code",
   "execution_count": 19,
   "id": "9a533ddd-4b21-41ce-b433-be41d3aad3d9",
   "metadata": {},
   "outputs": [],
   "source": [
    "# Start two threads"
   ]
  },
  {
   "cell_type": "code",
   "execution_count": 20,
   "id": "717c6033-ece1-4674-9d91-464701733a4a",
   "metadata": {},
   "outputs": [],
   "source": [
    "threads = []"
   ]
  },
  {
   "cell_type": "code",
   "execution_count": 21,
   "id": "dfc1f70e-f896-4290-916b-4fd771b11d74",
   "metadata": {},
   "outputs": [
    {
     "name": "stdout",
     "output_type": "stream",
     "text": [
      "Result: 49999995000000Result: 49999995000000\n",
      "\n"
     ]
    }
   ],
   "source": [
    "for _ in range(2):\n",
    "    thread = threading.Thread(target=cpu_bound_task)\n",
    "    threads.append(thread)\n",
    "    thread.start()"
   ]
  },
  {
   "cell_type": "code",
   "execution_count": 22,
   "id": "17fce29c-2b04-4492-82c8-cf05e11c6712",
   "metadata": {},
   "outputs": [],
   "source": [
    "for thread in threads:\n",
    "    thread.join()"
   ]
  },
  {
   "cell_type": "code",
   "execution_count": null,
   "id": "bc5d777d-1a27-4c0a-8cf6-27fb85794a41",
   "metadata": {},
   "outputs": [],
   "source": []
  }
 ],
 "metadata": {
  "kernelspec": {
   "display_name": "Python 3 (ipykernel)",
   "language": "python",
   "name": "python3"
  },
  "language_info": {
   "codemirror_mode": {
    "name": "ipython",
    "version": 3
   },
   "file_extension": ".py",
   "mimetype": "text/x-python",
   "name": "python",
   "nbconvert_exporter": "python",
   "pygments_lexer": "ipython3",
   "version": "3.12.4"
  }
 },
 "nbformat": 4,
 "nbformat_minor": 5
}
