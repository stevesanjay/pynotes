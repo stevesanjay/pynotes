{
 "cells": [
  {
   "cell_type": "code",
   "execution_count": 1,
   "id": "7c2ec4ca-8a38-4316-9721-5af383cfbc8f",
   "metadata": {},
   "outputs": [],
   "source": [
    "# 20250130"
   ]
  },
  {
   "cell_type": "code",
   "execution_count": 2,
   "id": "cc14576c-bec1-4b1d-b70a-bbce1d20cb81",
   "metadata": {},
   "outputs": [],
   "source": [
    "# GIL and Performance Benchmark (CPU-bound)"
   ]
  },
  {
   "cell_type": "code",
   "execution_count": 3,
   "id": "8e1fad74-2e05-4244-a576-667a9db852a6",
   "metadata": {},
   "outputs": [],
   "source": [
    "# import necessary library"
   ]
  },
  {
   "cell_type": "code",
   "execution_count": 4,
   "id": "e3062dcc-31c3-4442-9220-873764708031",
   "metadata": {},
   "outputs": [],
   "source": [
    "import threading"
   ]
  },
  {
   "cell_type": "code",
   "execution_count": 5,
   "id": "2ba47e8b-ed0c-4da0-b6e3-22ca06a6fa16",
   "metadata": {},
   "outputs": [],
   "source": [
    "import multiprocessing"
   ]
  },
  {
   "cell_type": "code",
   "execution_count": 6,
   "id": "4d9921d5-c4ce-43e5-950f-8493d2102348",
   "metadata": {},
   "outputs": [],
   "source": [
    "import time"
   ]
  },
  {
   "cell_type": "code",
   "execution_count": 7,
   "id": "906ed748-5a80-4d66-9df8-145b5227e4bb",
   "metadata": {},
   "outputs": [],
   "source": [
    "# CPU-bound task"
   ]
  },
  {
   "cell_type": "code",
   "execution_count": 8,
   "id": "4dcb70dd-aed9-46c2-be7a-ada2b12428d0",
   "metadata": {},
   "outputs": [],
   "source": [
    "def cpu_bound_task():\n",
    "    result = 0\n",
    "    for i in range(10**7):\n",
    "        result += i"
   ]
  },
  {
   "cell_type": "code",
   "execution_count": 9,
   "id": "3b3b06a4-acd1-47e2-ba82-39f3d2b6995d",
   "metadata": {},
   "outputs": [],
   "source": [
    "# Benchmark threading"
   ]
  },
  {
   "cell_type": "code",
   "execution_count": 10,
   "id": "5ee65624-f3fc-4358-abc7-354bb25165fa",
   "metadata": {},
   "outputs": [],
   "source": [
    "start_time = time.time()"
   ]
  },
  {
   "cell_type": "code",
   "execution_count": 11,
   "id": "4387c969-230e-47f3-b646-a1ff1d12f49e",
   "metadata": {},
   "outputs": [],
   "source": [
    "threads = [threading.Thread(target=cpu_bound_task) for _ in range(2)]"
   ]
  },
  {
   "cell_type": "code",
   "execution_count": 12,
   "id": "57a990bb-6a28-42c1-bd04-6d67fec80dfb",
   "metadata": {},
   "outputs": [
    {
     "data": {
      "text/plain": [
       "[<Thread(Thread-5 (cpu_bound_task), initial)>,\n",
       " <Thread(Thread-6 (cpu_bound_task), initial)>]"
      ]
     },
     "execution_count": 12,
     "metadata": {},
     "output_type": "execute_result"
    }
   ],
   "source": [
    "threads"
   ]
  },
  {
   "cell_type": "code",
   "execution_count": 13,
   "id": "ef176990-0f66-4336-a187-db3ef930963e",
   "metadata": {},
   "outputs": [],
   "source": [
    "for thread in threads:\n",
    "    thread.start()"
   ]
  },
  {
   "cell_type": "code",
   "execution_count": 14,
   "id": "1b3eb578-c73a-497f-a63d-ae1c215db265",
   "metadata": {},
   "outputs": [],
   "source": [
    "for thread in threads:\n",
    "    thread.join()"
   ]
  },
  {
   "cell_type": "code",
   "execution_count": 15,
   "id": "6e380106-35ba-4f7f-9c2b-b0f9fa346bc4",
   "metadata": {},
   "outputs": [],
   "source": [
    "threading_time = time.time() - start_time"
   ]
  },
  {
   "cell_type": "code",
   "execution_count": 16,
   "id": "ae7623ac-2119-4e67-9c2c-ccac25646ee1",
   "metadata": {},
   "outputs": [
    {
     "data": {
      "text/plain": [
       "38.49284315109253"
      ]
     },
     "execution_count": 16,
     "metadata": {},
     "output_type": "execute_result"
    }
   ],
   "source": [
    "threading_time"
   ]
  },
  {
   "cell_type": "code",
   "execution_count": 17,
   "id": "2ece81b2-be33-4f8f-a8a6-d87a2fcad1cd",
   "metadata": {},
   "outputs": [],
   "source": [
    "# Benchmark multiprocessing"
   ]
  },
  {
   "cell_type": "code",
   "execution_count": 18,
   "id": "33367134-ff4a-4b6c-90a0-f993331c703d",
   "metadata": {},
   "outputs": [],
   "source": [
    "start_time = time.time()"
   ]
  },
  {
   "cell_type": "code",
   "execution_count": 25,
   "id": "eeb8c4d6-c6b9-4bb1-b8bf-d736d5a1c337",
   "metadata": {},
   "outputs": [],
   "source": [
    "processes = [multiprocessing.Process(target=cpu_bound_task) for _ in range(2)]"
   ]
  },
  {
   "cell_type": "code",
   "execution_count": null,
   "id": "02e022fe-579e-431e-82fd-c041d2fa9409",
   "metadata": {},
   "outputs": [],
   "source": []
  },
  {
   "cell_type": "code",
   "execution_count": 26,
   "id": "75b2db16-cde0-4455-9ec0-883cb5965e24",
   "metadata": {},
   "outputs": [],
   "source": [
    "\n",
    "multiprocessing_time = time.time() - start_time"
   ]
  },
  {
   "cell_type": "code",
   "execution_count": 27,
   "id": "bf6d2164-8201-4699-8585-8be7fee4f057",
   "metadata": {},
   "outputs": [
    {
     "name": "stdout",
     "output_type": "stream",
     "text": [
      "Threading time: 38.49284315109253 seconds\n",
      "Multiprocessing time: 99.18928098678589 seconds\n"
     ]
    }
   ],
   "source": [
    "print(f\"Threading time: {threading_time} seconds\")\n",
    "print(f\"Multiprocessing time: {multiprocessing_time} seconds\")"
   ]
  },
  {
   "cell_type": "code",
   "execution_count": null,
   "id": "552c8790-6368-44e2-a192-7215b91345dd",
   "metadata": {},
   "outputs": [],
   "source": []
  }
 ],
 "metadata": {
  "kernelspec": {
   "display_name": "Python 3 (ipykernel)",
   "language": "python",
   "name": "python3"
  },
  "language_info": {
   "codemirror_mode": {
    "name": "ipython",
    "version": 3
   },
   "file_extension": ".py",
   "mimetype": "text/x-python",
   "name": "python",
   "nbconvert_exporter": "python",
   "pygments_lexer": "ipython3",
   "version": "3.12.4"
  }
 },
 "nbformat": 4,
 "nbformat_minor": 5
}
