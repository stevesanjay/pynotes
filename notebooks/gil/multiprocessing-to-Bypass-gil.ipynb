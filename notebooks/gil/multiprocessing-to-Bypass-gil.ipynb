{
 "cells": [
  {
   "cell_type": "code",
   "execution_count": 1,
   "id": "6c2491bf-c1ca-4f10-aed7-dc9046d91f14",
   "metadata": {},
   "outputs": [],
   "source": [
    "# 20250130"
   ]
  },
  {
   "cell_type": "code",
   "execution_count": 2,
   "id": "944ef038-02e0-46ea-ab70-4f98904c1460",
   "metadata": {},
   "outputs": [],
   "source": [
    "# Using multiprocessing to Bypass GIL"
   ]
  },
  {
   "cell_type": "code",
   "execution_count": 3,
   "id": "87d6a76d-8a05-4648-864a-4d7fa597f193",
   "metadata": {},
   "outputs": [],
   "source": [
    "# import necessary library"
   ]
  },
  {
   "cell_type": "code",
   "execution_count": 4,
   "id": "2469fa9a-011b-40c1-a879-b8409447f3f9",
   "metadata": {},
   "outputs": [],
   "source": [
    "import multiprocessing"
   ]
  },
  {
   "cell_type": "code",
   "execution_count": 5,
   "id": "242ccd5d-ce5c-4f38-9cc4-a82c66a0d61b",
   "metadata": {},
   "outputs": [],
   "source": [
    "# CPU-bound task"
   ]
  },
  {
   "cell_type": "code",
   "execution_count": 6,
   "id": "bda7a452-df61-4d76-b7df-84c54593c7fc",
   "metadata": {},
   "outputs": [],
   "source": [
    "\n",
    "def cpu_bound_task():\n",
    "    result = 0\n",
    "    for i in range(10**7):\n",
    "        result += i\n",
    "    print(f\"Result: {result}\")\n"
   ]
  },
  {
   "cell_type": "code",
   "execution_count": 7,
   "id": "187aea5d-a26d-42a9-a6f3-7d34de527334",
   "metadata": {},
   "outputs": [
    {
     "name": "stdout",
     "output_type": "stream",
     "text": [
      "Result: 49999995000000\n"
     ]
    }
   ],
   "source": [
    "cpu_bound_task()"
   ]
  },
  {
   "cell_type": "code",
   "execution_count": 8,
   "id": "75f606d1-518d-4d74-9289-a4abde3b65cd",
   "metadata": {},
   "outputs": [],
   "source": [
    "# Start two processes"
   ]
  },
  {
   "cell_type": "code",
   "execution_count": 10,
   "id": "515be2a2-5833-455f-88f8-43634f0c64cd",
   "metadata": {},
   "outputs": [
    {
     "name": "stdout",
     "output_type": "stream",
     "text": [
      "Result: 49999995000000\n",
      "Result: 49999995000000\n"
     ]
    }
   ],
   "source": [
    "if __name__ == \"__main__\":\n",
    "    processes = []\n",
    "    for _ in range(2):\n",
    "        process = multiprocessing.Process(target=cpu_bound_task())\n",
    "        processes.append(process)\n",
    "        process.start()\n",
    "\n",
    "    for process in processes:\n",
    "        process.join()"
   ]
  },
  {
   "cell_type": "code",
   "execution_count": null,
   "id": "36447456-18d3-41a9-9e15-a1e7fa82697a",
   "metadata": {},
   "outputs": [],
   "source": []
  }
 ],
 "metadata": {
  "kernelspec": {
   "display_name": "Python 3 (ipykernel)",
   "language": "python",
   "name": "python3"
  },
  "language_info": {
   "codemirror_mode": {
    "name": "ipython",
    "version": 3
   },
   "file_extension": ".py",
   "mimetype": "text/x-python",
   "name": "python",
   "nbconvert_exporter": "python",
   "pygments_lexer": "ipython3",
   "version": "3.12.4"
  }
 },
 "nbformat": 4,
 "nbformat_minor": 5
}
