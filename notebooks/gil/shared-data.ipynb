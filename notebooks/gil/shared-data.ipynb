{
 "cells": [
  {
   "cell_type": "code",
   "execution_count": 1,
   "id": "26fbf211-0988-499f-b80f-6bd0ec1eb1b0",
   "metadata": {},
   "outputs": [],
   "source": [
    "# 20250131"
   ]
  },
  {
   "cell_type": "code",
   "execution_count": 2,
   "id": "c49e77ef-d65a-4fc0-be9c-e1cfa418df59",
   "metadata": {},
   "outputs": [],
   "source": [
    "# Threading with Shared Data (GIL Locking)"
   ]
  },
  {
   "cell_type": "code",
   "execution_count": 3,
   "id": "48d0a8ca-7782-4170-a0ae-fb16b6f23b9b",
   "metadata": {},
   "outputs": [],
   "source": [
    "# import necessary library"
   ]
  },
  {
   "cell_type": "code",
   "execution_count": 4,
   "id": "7fbeceaa-ef9b-485b-b010-6049e819471b",
   "metadata": {},
   "outputs": [],
   "source": [
    "import threading"
   ]
  },
  {
   "cell_type": "code",
   "execution_count": 5,
   "id": "d57fdf54-f28b-41da-9d20-c95878947898",
   "metadata": {},
   "outputs": [],
   "source": [
    "# Shared resource"
   ]
  },
  {
   "cell_type": "code",
   "execution_count": 6,
   "id": "b6cccb37-92c5-4350-877e-2c6fce617510",
   "metadata": {},
   "outputs": [],
   "source": [
    "shared_list = []"
   ]
  },
  {
   "cell_type": "code",
   "execution_count": 7,
   "id": "9654b07f-e9be-4bd2-a887-547d950575ab",
   "metadata": {},
   "outputs": [],
   "source": [
    "# Task to append to shared list"
   ]
  },
  {
   "cell_type": "code",
   "execution_count": null,
   "id": "89b79190-736f-4f8a-82a6-021415770c20",
   "metadata": {},
   "outputs": [],
   "source": [
    "def append_to_list():\n",
    "    for _ in range(100000):\n",
    "        shared_list.append(1)"
   ]
  },
  {
   "cell_type": "code",
   "execution_count": null,
   "id": "0bd157d8-f388-4a94-835a-d714269d6740",
   "metadata": {},
   "outputs": [],
   "source": [
    "append_to_list()"
   ]
  },
  {
   "cell_type": "code",
   "execution_count": null,
   "id": "789c2e6f-e766-4854-8882-a2500f92654d",
   "metadata": {},
   "outputs": [],
   "source": [
    "# Start two threads"
   ]
  },
  {
   "cell_type": "code",
   "execution_count": null,
   "id": "57b00e1d-901e-400c-9c49-d007b65f157b",
   "metadata": {},
   "outputs": [],
   "source": [
    "threads = []"
   ]
  },
  {
   "cell_type": "code",
   "execution_count": null,
   "id": "0d8f1a6e-32fd-4e94-8855-b3128e366056",
   "metadata": {},
   "outputs": [],
   "source": [
    "for _ in range(2):\n",
    "    thread = threading.Thread(target=append_to_list)\n",
    "    threads.append(thread)\n",
    "    thread.start()"
   ]
  },
  {
   "cell_type": "code",
   "execution_count": null,
   "id": "bad207c2-81fa-483c-ab2d-e08fc8164522",
   "metadata": {},
   "outputs": [],
   "source": [
    "for thread in threads:\n",
    "    thread.join()"
   ]
  },
  {
   "cell_type": "code",
   "execution_count": null,
   "id": "c19473f0-1803-4af2-b24e-d8266c9b58c1",
   "metadata": {},
   "outputs": [],
   "source": [
    "print(f\"Shared list length: {len(shared_list)}\")"
   ]
  },
  {
   "cell_type": "code",
   "execution_count": null,
   "id": "1f5670fb-3107-47ea-a549-ee325486419e",
   "metadata": {},
   "outputs": [],
   "source": []
  }
 ],
 "metadata": {
  "kernelspec": {
   "display_name": "Python 3 (ipykernel)",
   "language": "python",
   "name": "python3"
  },
  "language_info": {
   "codemirror_mode": {
    "name": "ipython",
    "version": 3
   },
   "file_extension": ".py",
   "mimetype": "text/x-python",
   "name": "python",
   "nbconvert_exporter": "python",
   "pygments_lexer": "ipython3",
   "version": "3.12.4"
  }
 },
 "nbformat": 4,
 "nbformat_minor": 5
}
