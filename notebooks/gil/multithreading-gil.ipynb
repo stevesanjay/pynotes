{
 "cells": [
  {
   "cell_type": "code",
   "execution_count": 1,
   "id": "2d3e70b4-fd56-487c-a221-fc8817314351",
   "metadata": {},
   "outputs": [],
   "source": [
    "# 20250130"
   ]
  },
  {
   "cell_type": "code",
   "execution_count": 3,
   "id": "277dfa91-da01-43c1-a93c-f1577627502a",
   "metadata": {},
   "outputs": [],
   "source": [
    "# Multithreading with the GIL (I/O-bound)"
   ]
  },
  {
   "cell_type": "code",
   "execution_count": 4,
   "id": "021b7556-4424-43ee-a415-e2900d530973",
   "metadata": {},
   "outputs": [],
   "source": [
    "# import necessary library"
   ]
  },
  {
   "cell_type": "code",
   "execution_count": 5,
   "id": "096fe13e-e077-4acb-88d2-cf5445624119",
   "metadata": {},
   "outputs": [],
   "source": [
    "import threading"
   ]
  },
  {
   "cell_type": "code",
   "execution_count": 6,
   "id": "deb9af1c-8ead-49f1-ba81-12d63bdb8a6b",
   "metadata": {},
   "outputs": [],
   "source": [
    "import time"
   ]
  },
  {
   "cell_type": "code",
   "execution_count": 7,
   "id": "a5a3648e-48cf-4861-a58d-0dea095f8689",
   "metadata": {},
   "outputs": [],
   "source": [
    "# I/O-bound task"
   ]
  },
  {
   "cell_type": "code",
   "execution_count": 8,
   "id": "a6c41e04-6fca-4d34-8623-a42b29aa5f65",
   "metadata": {},
   "outputs": [],
   "source": [
    "def io_bound_task():\n",
    "    time.sleep(2)  # Simulate I/O operation\n",
    "    print(\"I/O Task Done\")"
   ]
  },
  {
   "cell_type": "code",
   "execution_count": 9,
   "id": "e84df468-560a-4bc4-8335-dd59fc9891c6",
   "metadata": {},
   "outputs": [],
   "source": [
    "# Start two threads"
   ]
  },
  {
   "cell_type": "code",
   "execution_count": 10,
   "id": "92e3cc16-3c6e-4f4a-8dd6-285ace0e4511",
   "metadata": {},
   "outputs": [],
   "source": [
    "threads = []"
   ]
  },
  {
   "cell_type": "code",
   "execution_count": 11,
   "id": "0c30cd4e-9258-48ba-a383-49dbc7e5ddaf",
   "metadata": {},
   "outputs": [
    {
     "name": "stdout",
     "output_type": "stream",
     "text": [
      "I/O Task DoneI/O Task Done\n",
      "\n"
     ]
    }
   ],
   "source": [
    "for _ in range(2):\n",
    "    thread = threading.Thread(target=io_bound_task)\n",
    "    threads.append(thread)\n",
    "    thread.start()"
   ]
  },
  {
   "cell_type": "code",
   "execution_count": 12,
   "id": "18e8d5c3-c430-49df-8570-10425f1b90c2",
   "metadata": {},
   "outputs": [],
   "source": [
    "for thread in threads:\n",
    "    thread.join()"
   ]
  },
  {
   "cell_type": "code",
   "execution_count": null,
   "id": "2fab0350-5552-4541-9193-2b5c8d2abcab",
   "metadata": {},
   "outputs": [],
   "source": []
  }
 ],
 "metadata": {
  "kernelspec": {
   "display_name": "Python 3 (ipykernel)",
   "language": "python",
   "name": "python3"
  },
  "language_info": {
   "codemirror_mode": {
    "name": "ipython",
    "version": 3
   },
   "file_extension": ".py",
   "mimetype": "text/x-python",
   "name": "python",
   "nbconvert_exporter": "python",
   "pygments_lexer": "ipython3",
   "version": "3.12.4"
  }
 },
 "nbformat": 4,
 "nbformat_minor": 5
}
