{
 "cells": [
  {
   "cell_type": "code",
   "execution_count": 1,
   "id": "9296e2bc-5047-4653-b403-88e758bd99bb",
   "metadata": {},
   "outputs": [],
   "source": [
    "import random"
   ]
  },
  {
   "cell_type": "code",
   "execution_count": 2,
   "id": "18cff0bc-382f-4905-b371-2ef1692f6fe7",
   "metadata": {},
   "outputs": [],
   "source": [
    "import time"
   ]
  },
  {
   "cell_type": "code",
   "execution_count": 3,
   "id": "b3ca1e32-fa5d-4e44-9f0a-0d6c26003e2e",
   "metadata": {},
   "outputs": [],
   "source": [
    "def startpy():\n",
    "\n",
    "    count = 0\n",
    "    total_score = 0\n",
    "    total_wickets = 0\n",
    "    while (True):\n",
    "\n",
    "        count += 1\n",
    "\n",
    "        c_score     = random.randint(0, 6)\n",
    "        c_flag      = random.choice([True, False, True, True, True, True])\n",
    "\n",
    "        if(c_flag == False):\n",
    "\n",
    "            print(f\"Ball {count}: It's a Wicket\")\n",
    "            \n",
    "            total_wickets += 1\n",
    "\n",
    "            if(total_wickets > 1):\n",
    "                print(f\"Ball {count}: Wicket, so finishing the match\")\n",
    "                break\n",
    "\n",
    "            continue\n",
    "\n",
    "        print(f\"Ball {count}: Score : {c_score}\")\n",
    "        time.sleep(1)\n",
    "\n",
    "        total_score += c_score\n",
    "\n",
    "        # breaking the loop\n",
    "        if(count >=6 ):\n",
    "            break\n",
    "\n",
    "    print(f'\\nTotal Score : {total_score}')\n"
   ]
  },
  {
   "cell_type": "code",
   "execution_count": 4,
   "id": "9b77943d-d980-485d-83ff-cb0b09b02613",
   "metadata": {},
   "outputs": [
    {
     "name": "stdout",
     "output_type": "stream",
     "text": [
      "Ball 1: Score : 4\n",
      "Ball 2: It's a Wicket\n",
      "Ball 3: Score : 2\n",
      "Ball 4: Score : 2\n",
      "Ball 5: Score : 4\n",
      "Ball 6: Score : 0\n",
      "\n",
      "Total Score : 12\n"
     ]
    }
   ],
   "source": [
    "startpy()"
   ]
  },
  {
   "cell_type": "code",
   "execution_count": 5,
   "id": "1833b6b1-50d0-46d2-ba23-ed03879af34d",
   "metadata": {},
   "outputs": [
    {
     "name": "stdout",
     "output_type": "stream",
     "text": [
      "Ball 1: Score : 0\n",
      "Ball 2: Score : 4\n",
      "Ball 3: It's a Wicket\n",
      "Ball 4: Score : 4\n",
      "Ball 5: Score : 5\n",
      "Ball 6: Score : 1\n",
      "\n",
      "Total Score : 14\n"
     ]
    }
   ],
   "source": [
    "startpy()"
   ]
  },
  {
   "cell_type": "code",
   "execution_count": 6,
   "id": "2ad76f02-e421-452b-b949-dfca7d556aa8",
   "metadata": {},
   "outputs": [
    {
     "name": "stdout",
     "output_type": "stream",
     "text": [
      "Ball 1: Score : 0\n",
      "Ball 2: Score : 5\n",
      "Ball 3: Score : 5\n",
      "Ball 4: Score : 2\n",
      "Ball 5: Score : 2\n",
      "Ball 6: Score : 4\n",
      "\n",
      "Total Score : 18\n"
     ]
    }
   ],
   "source": [
    "startpy()"
   ]
  },
  {
   "cell_type": "code",
   "execution_count": 7,
   "id": "915e17e5-93a6-4f4d-baf5-ab1b3dd572c2",
   "metadata": {},
   "outputs": [
    {
     "name": "stdout",
     "output_type": "stream",
     "text": [
      "Ball 1: Score : 3\n",
      "Ball 2: Score : 0\n",
      "Ball 3: Score : 2\n",
      "Ball 4: Score : 2\n",
      "Ball 5: Score : 6\n",
      "Ball 6: Score : 5\n",
      "\n",
      "Total Score : 18\n"
     ]
    }
   ],
   "source": [
    "startpy()"
   ]
  },
  {
   "cell_type": "code",
   "execution_count": null,
   "id": "f394a3aa-79f0-4513-ae5f-e93521fe3c47",
   "metadata": {},
   "outputs": [],
   "source": []
  }
 ],
 "metadata": {
  "kernelspec": {
   "display_name": "Python 3 (ipykernel)",
   "language": "python",
   "name": "python3"
  },
  "language_info": {
   "codemirror_mode": {
    "name": "ipython",
    "version": 3
   },
   "file_extension": ".py",
   "mimetype": "text/x-python",
   "name": "python",
   "nbconvert_exporter": "python",
   "pygments_lexer": "ipython3",
   "version": "3.12.4"
  }
 },
 "nbformat": 4,
 "nbformat_minor": 5
}
