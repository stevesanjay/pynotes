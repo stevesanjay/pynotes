{
 "cells": [
  {
   "cell_type": "code",
   "execution_count": 1,
   "id": "2b02905c-d3a8-430c-b8da-7f466ddaac62",
   "metadata": {},
   "outputs": [],
   "source": [
    "def divided_number(a, b):\n",
    "    try:\n",
    "\n",
    "\n",
    "        result = a/b\n",
    "    except ZeroDivisionError:\n",
    "        return \"cannot divided by zero\"\n",
    "    return result\n"
   ]
  },
  {
   "cell_type": "code",
   "execution_count": 2,
   "id": "cfeeef20-5b4b-46e4-bebc-c19c8d6b7c4c",
   "metadata": {},
   "outputs": [
    {
     "name": "stdin",
     "output_type": "stream",
     "text": [
      "enter a number : 1\n",
      "enter a number : 4\n"
     ]
    }
   ],
   "source": [
    "a = int(input(\"enter a number :\"))\n",
    "b = int(input(\"enter a number :\"))"
   ]
  },
  {
   "cell_type": "code",
   "execution_count": 3,
   "id": "08852db4-8025-40fe-b4e6-e595be653cef",
   "metadata": {},
   "outputs": [
    {
     "name": "stdout",
     "output_type": "stream",
     "text": [
      "0.25\n"
     ]
    }
   ],
   "source": [
    "print(divided_number(a,b))"
   ]
  },
  {
   "cell_type": "code",
   "execution_count": null,
   "id": "2014a183-511c-4629-86b4-8ce41d288a83",
   "metadata": {},
   "outputs": [],
   "source": []
  }
 ],
 "metadata": {
  "kernelspec": {
   "display_name": "Python 3 (ipykernel)",
   "language": "python",
   "name": "python3"
  },
  "language_info": {
   "codemirror_mode": {
    "name": "ipython",
    "version": 3
   },
   "file_extension": ".py",
   "mimetype": "text/x-python",
   "name": "python",
   "nbconvert_exporter": "python",
   "pygments_lexer": "ipython3",
   "version": "3.12.4"
  }
 },
 "nbformat": 4,
 "nbformat_minor": 5
}
