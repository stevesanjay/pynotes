{
 "cells": [
  {
   "cell_type": "code",
   "execution_count": 17,
   "id": "f899ee7b-d9d7-457f-82b1-369d163d62fc",
   "metadata": {},
   "outputs": [],
   "source": [
    "# multiple arguments"
   ]
  },
  {
   "cell_type": "code",
   "execution_count": 18,
   "id": "278f1b13-29da-45c4-9998-a35d0b6daf6a",
   "metadata": {},
   "outputs": [],
   "source": [
    "def greet(num1 , num2):\n",
    "    \n",
    "    add = num1+num2\n",
    "    print(f'word:{add}')"
   ]
  },
  {
   "cell_type": "code",
   "execution_count": 19,
   "id": "addad6c4-6219-4725-a8de-e6061fc7bfa9",
   "metadata": {},
   "outputs": [
    {
     "name": "stdout",
     "output_type": "stream",
     "text": [
      "word:7\n"
     ]
    }
   ],
   "source": [
    "greet(num1=3 , num2=4)"
   ]
  },
  {
   "cell_type": "code",
   "execution_count": 20,
   "id": "ff31464b-6c3c-404f-b0c7-df80e796dd21",
   "metadata": {},
   "outputs": [],
   "source": [
    "num1 = 3\n",
    "num2 = 3"
   ]
  },
  {
   "cell_type": "code",
   "execution_count": 21,
   "id": "38d65e1f-17e1-4a60-94c8-b21e014159c5",
   "metadata": {},
   "outputs": [
    {
     "name": "stdout",
     "output_type": "stream",
     "text": [
      "word:6\n"
     ]
    }
   ],
   "source": [
    "word = greet(num1 , num2)"
   ]
  },
  {
   "cell_type": "code",
   "execution_count": null,
   "id": "2553e909-eb49-4bc9-8418-87c6538391a6",
   "metadata": {},
   "outputs": [],
   "source": []
  }
 ],
 "metadata": {
  "kernelspec": {
   "display_name": "Python 3 (ipykernel)",
   "language": "python",
   "name": "python3"
  },
  "language_info": {
   "codemirror_mode": {
    "name": "ipython",
    "version": 3
   },
   "file_extension": ".py",
   "mimetype": "text/x-python",
   "name": "python",
   "nbconvert_exporter": "python",
   "pygments_lexer": "ipython3",
   "version": "3.12.4"
  }
 },
 "nbformat": 4,
 "nbformat_minor": 5
}
