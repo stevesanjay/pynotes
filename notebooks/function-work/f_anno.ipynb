{
 "cells": [
  {
   "cell_type": "code",
   "execution_count": 1,
   "id": "81d9b1cb-dd97-4bed-95ba-c1da8fbf071f",
   "metadata": {},
   "outputs": [],
   "source": [
    "# addition"
   ]
  },
  {
   "cell_type": "code",
   "execution_count": 13,
   "id": "d940d8d5-d974-4d26-a4cb-fdf0aaf28096",
   "metadata": {},
   "outputs": [],
   "source": [
    "def greet(num1:int , num2:int) -> int:\n",
    "    \n",
    "    add = num1+num2\n",
    "    # print(f'word:{add}')\n",
    "    return add"
   ]
  },
  {
   "cell_type": "code",
   "execution_count": 14,
   "id": "83f3d523-5d22-4148-8f42-a5cbc5edb110",
   "metadata": {},
   "outputs": [
    {
     "data": {
      "text/plain": [
       "4"
      ]
     },
     "execution_count": 14,
     "metadata": {},
     "output_type": "execute_result"
    }
   ],
   "source": [
    "greet(1,3)"
   ]
  },
  {
   "cell_type": "code",
   "execution_count": 15,
   "id": "bfcccb1d-40f9-4f3e-9c0c-1c8a26375241",
   "metadata": {},
   "outputs": [],
   "source": [
    "val = greet(\"stev\",\"e\")"
   ]
  },
  {
   "cell_type": "code",
   "execution_count": 16,
   "id": "203046fb-c1c0-4dc3-9e34-a900cdb71d94",
   "metadata": {},
   "outputs": [
    {
     "data": {
      "text/plain": [
       "str"
      ]
     },
     "execution_count": 16,
     "metadata": {},
     "output_type": "execute_result"
    }
   ],
   "source": [
    "type(val)"
   ]
  },
  {
   "cell_type": "code",
   "execution_count": 17,
   "id": "723a4378-6621-4c40-a2e6-e22744037a83",
   "metadata": {},
   "outputs": [
    {
     "data": {
      "text/plain": [
       "'steve'"
      ]
     },
     "execution_count": 17,
     "metadata": {},
     "output_type": "execute_result"
    }
   ],
   "source": [
    "val"
   ]
  },
  {
   "cell_type": "code",
   "execution_count": null,
   "id": "71f34f90-056e-4fca-8a43-ee80df492f2a",
   "metadata": {},
   "outputs": [],
   "source": []
  }
 ],
 "metadata": {
  "kernelspec": {
   "display_name": "Python 3 (ipykernel)",
   "language": "python",
   "name": "python3"
  },
  "language_info": {
   "codemirror_mode": {
    "name": "ipython",
    "version": 3
   },
   "file_extension": ".py",
   "mimetype": "text/x-python",
   "name": "python",
   "nbconvert_exporter": "python",
   "pygments_lexer": "ipython3",
   "version": "3.12.4"
  }
 },
 "nbformat": 4,
 "nbformat_minor": 5
}
