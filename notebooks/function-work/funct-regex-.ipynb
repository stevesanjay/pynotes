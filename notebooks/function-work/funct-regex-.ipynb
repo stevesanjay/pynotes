{
 "cells": [
  {
   "cell_type": "code",
   "execution_count": 2,
   "id": "8995618d-d616-4aa0-96bd-9e047adbd2b4",
   "metadata": {},
   "outputs": [],
   "source": [
    "# regex"
   ]
  },
  {
   "cell_type": "raw",
   "id": "c51e3908-bd9c-4bab-a003-8a64ada861a9",
   "metadata": {},
   "source": [
    "import re"
   ]
  },
  {
   "cell_type": "code",
   "execution_count": 34,
   "id": "6d73b3d0-f875-43be-bd08-cdbfec226609",
   "metadata": {},
   "outputs": [],
   "source": [
    "def find():\n",
    "    word = re.findall(r'\\bo[a-z]*','which foot or hand fell fastest fester other work was the or')\n",
    "\n",
    "    return word"
   ]
  },
  {
   "cell_type": "code",
   "execution_count": 35,
   "id": "ac2dc225-c934-4499-befe-18634726cd77",
   "metadata": {},
   "outputs": [
    {
     "data": {
      "text/plain": [
       "['or', 'other', 'or']"
      ]
     },
     "execution_count": 35,
     "metadata": {},
     "output_type": "execute_result"
    }
   ],
   "source": [
    "word"
   ]
  },
  {
   "cell_type": "code",
   "execution_count": null,
   "id": "30eb4596-bce9-4f7d-8433-72d9ed2ba1ab",
   "metadata": {},
   "outputs": [],
   "source": []
  }
 ],
 "metadata": {
  "kernelspec": {
   "display_name": "Python 3 (ipykernel)",
   "language": "python",
   "name": "python3"
  },
  "language_info": {
   "codemirror_mode": {
    "name": "ipython",
    "version": 3
   },
   "file_extension": ".py",
   "mimetype": "text/x-python",
   "name": "python",
   "nbconvert_exporter": "python",
   "pygments_lexer": "ipython3",
   "version": "3.12.4"
  }
 },
 "nbformat": 4,
 "nbformat_minor": 5
}
