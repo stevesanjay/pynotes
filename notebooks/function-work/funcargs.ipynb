{
 "cells": [
  {
   "cell_type": "code",
   "execution_count": 14,
   "id": "262516b9-34dd-4aea-ba10-7846e9ab5ab9",
   "metadata": {},
   "outputs": [],
   "source": [
    "def add(x , y):\n",
    "    return x + y"
   ]
  },
  {
   "cell_type": "code",
   "execution_count": 15,
   "id": "3ada5dbe-8c8f-4946-b88b-da214deb823d",
   "metadata": {},
   "outputs": [
    {
     "data": {
      "text/plain": [
       "4"
      ]
     },
     "execution_count": 15,
     "metadata": {},
     "output_type": "execute_result"
    }
   ],
   "source": [
    "add(1,3)"
   ]
  },
  {
   "cell_type": "code",
   "execution_count": 16,
   "id": "c0e72f4a-da8e-42f4-b9d2-0c01f54915dd",
   "metadata": {},
   "outputs": [],
   "source": [
    "def number(func , a, b):\n",
    "    return func(a , b)"
   ]
  },
  {
   "cell_type": "code",
   "execution_count": 17,
   "id": "5e2f73ff-fd7e-4c55-91ea-b19bf0c56da3",
   "metadata": {},
   "outputs": [],
   "source": [
    "result = number(add,3,5)"
   ]
  },
  {
   "cell_type": "code",
   "execution_count": 18,
   "id": "b3a843b6-48a3-48a4-9a62-61dda1850599",
   "metadata": {},
   "outputs": [
    {
     "data": {
      "text/plain": [
       "8"
      ]
     },
     "execution_count": 18,
     "metadata": {},
     "output_type": "execute_result"
    }
   ],
   "source": [
    "result"
   ]
  },
  {
   "cell_type": "code",
   "execution_count": null,
   "id": "197a1cb1-9944-4daf-8364-7e6662502762",
   "metadata": {},
   "outputs": [],
   "source": []
  }
 ],
 "metadata": {
  "kernelspec": {
   "display_name": "Python 3 (ipykernel)",
   "language": "python",
   "name": "python3"
  },
  "language_info": {
   "codemirror_mode": {
    "name": "ipython",
    "version": 3
   },
   "file_extension": ".py",
   "mimetype": "text/x-python",
   "name": "python",
   "nbconvert_exporter": "python",
   "pygments_lexer": "ipython3",
   "version": "3.12.4"
  }
 },
 "nbformat": 4,
 "nbformat_minor": 5
}
