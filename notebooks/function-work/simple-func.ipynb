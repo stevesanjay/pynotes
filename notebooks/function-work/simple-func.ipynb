{
 "cells": [
  {
   "cell_type": "code",
   "execution_count": 4,
   "id": "5ec94678-5964-44ae-9047-bcd44b953b49",
   "metadata": {},
   "outputs": [],
   "source": [
    "def return_none():\n",
    "    print(\"this function written none\")\n",
    "    return \"steve\""
   ]
  },
  {
   "cell_type": "code",
   "execution_count": 5,
   "id": "31e99f8c-b99a-4679-94a6-28376b42d9ae",
   "metadata": {},
   "outputs": [
    {
     "name": "stdout",
     "output_type": "stream",
     "text": [
      "this function written none\n"
     ]
    }
   ],
   "source": [
    "result = return_none()"
   ]
  },
  {
   "cell_type": "code",
   "execution_count": 6,
   "id": "fe974c86-769c-4f9b-a6f8-ceb6ac376707",
   "metadata": {},
   "outputs": [
    {
     "name": "stdout",
     "output_type": "stream",
     "text": [
      "steve\n"
     ]
    }
   ],
   "source": [
    "print(result)"
   ]
  },
  {
   "cell_type": "code",
   "execution_count": null,
   "id": "fac579fd-8df9-4c22-b823-cc605a7a513e",
   "metadata": {},
   "outputs": [],
   "source": []
  }
 ],
 "metadata": {
  "kernelspec": {
   "display_name": "Python 3 (ipykernel)",
   "language": "python",
   "name": "python3"
  },
  "language_info": {
   "codemirror_mode": {
    "name": "ipython",
    "version": 3
   },
   "file_extension": ".py",
   "mimetype": "text/x-python",
   "name": "python",
   "nbconvert_exporter": "python",
   "pygments_lexer": "ipython3",
   "version": "3.12.4"
  }
 },
 "nbformat": 4,
 "nbformat_minor": 5
}
