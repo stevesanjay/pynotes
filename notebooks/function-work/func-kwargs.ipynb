{
 "cells": [
  {
   "cell_type": "code",
   "execution_count": 7,
   "id": "ec74b79e-7a1d-438c-8126-de9d414359eb",
   "metadata": {},
   "outputs": [],
   "source": [
    "def display_info(name,value):\n",
    "    c = name \n",
    "    full_name = c + value\n",
    "    return full_name\n",
    "    # for key,value in name.items():\n",
    "    #     print(f\"{key}: {value}\")"
   ]
  },
  {
   "cell_type": "code",
   "execution_count": 8,
   "id": "272a7498-8a93-4327-90f2-6b678a72cea3",
   "metadata": {},
   "outputs": [
    {
     "data": {
      "text/plain": [
       "'stevesanjay'"
      ]
     },
     "execution_count": 8,
     "metadata": {},
     "output_type": "execute_result"
    }
   ],
   "source": [
    "display_info(\"steve\", \"sanjay\")"
   ]
  },
  {
   "cell_type": "code",
   "execution_count": 9,
   "id": "15cadb70-c7d1-450e-a8b3-c0fa1373d314",
   "metadata": {},
   "outputs": [],
   "source": [
    "def display_info(**kwargs):\n",
    "    for key,value in kwargs.items():\n",
    "        print(f\"{key}: {value}\")"
   ]
  },
  {
   "cell_type": "code",
   "execution_count": 11,
   "id": "7c29d0af-ec4b-474d-98b6-3b3fe27042fc",
   "metadata": {},
   "outputs": [
    {
     "name": "stdout",
     "output_type": "stream",
     "text": [
      "name: steve\n",
      "age: 21\n",
      "city: coimbatore\n",
      "fullname: stevesanjay\n"
     ]
    }
   ],
   "source": [
    "display_info(name='steve', age=21, city=\"coimbatore\", fullname=\"stevesanjay\")"
   ]
  },
  {
   "cell_type": "code",
   "execution_count": null,
   "id": "721fb270-2871-429b-bbd0-802dd7bd8bc6",
   "metadata": {},
   "outputs": [],
   "source": []
  }
 ],
 "metadata": {
  "kernelspec": {
   "display_name": "Python 3 (ipykernel)",
   "language": "python",
   "name": "python3"
  },
  "language_info": {
   "codemirror_mode": {
    "name": "ipython",
    "version": 3
   },
   "file_extension": ".py",
   "mimetype": "text/x-python",
   "name": "python",
   "nbconvert_exporter": "python",
   "pygments_lexer": "ipython3",
   "version": "3.12.4"
  }
 },
 "nbformat": 4,
 "nbformat_minor": 5
}
