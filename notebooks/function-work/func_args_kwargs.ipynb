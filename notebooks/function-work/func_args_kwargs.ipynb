{
 "cells": [
  {
   "cell_type": "code",
   "execution_count": 1,
   "id": "eed04f45-e3c3-4037-8801-bf4c1f366e6c",
   "metadata": {},
   "outputs": [],
   "source": [
    "def print_value(*args,**kwargs):\n",
    "    for args in args:\n",
    "        print(f'args:{args}')\n",
    "\n",
    "    for key in kwargs:\n",
    "        print(f\"{key}: {kwargs[key]}\")"
   ]
  },
  {
   "cell_type": "code",
   "execution_count": 4,
   "id": "7d2d85bc-924a-4d61-a77b-23dd65ae57ee",
   "metadata": {},
   "outputs": [
    {
     "name": "stdout",
     "output_type": "stream",
     "text": [
      "args:1\n",
      "args:2\n",
      "args:3\n",
      "args:4\n",
      "args:5\n",
      "args:6\n",
      "args:7\n",
      "args:8\n",
      "args:steve\n",
      "name: sanjay\n",
      "age: 21\n"
     ]
    }
   ],
   "source": [
    "print_value(1,2,3,4,5,6,7,8,\"steve\",name=\"sanjay\",age=21)"
   ]
  },
  {
   "cell_type": "code",
   "execution_count": null,
   "id": "413bfdf6-194f-4207-8045-2290a91bae0d",
   "metadata": {},
   "outputs": [],
   "source": []
  }
 ],
 "metadata": {
  "kernelspec": {
   "display_name": "Python 3 (ipykernel)",
   "language": "python",
   "name": "python3"
  },
  "language_info": {
   "codemirror_mode": {
    "name": "ipython",
    "version": 3
   },
   "file_extension": ".py",
   "mimetype": "text/x-python",
   "name": "python",
   "nbconvert_exporter": "python",
   "pygments_lexer": "ipython3",
   "version": "3.12.4"
  }
 },
 "nbformat": 4,
 "nbformat_minor": 5
}
