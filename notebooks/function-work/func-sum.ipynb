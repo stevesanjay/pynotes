{
 "cells": [
  {
   "cell_type": "code",
   "execution_count": 10,
   "id": "91be27bc-14f6-43ea-bc75-c1b73883cd3d",
   "metadata": {},
   "outputs": [],
   "source": [
    "# global variable\n",
    "num = [1,2,3,4,5,6,7,8,9,10,11]"
   ]
  },
  {
   "cell_type": "code",
   "execution_count": 8,
   "id": "ddc47668-f3c9-42d1-8767-ebbc3f25cd77",
   "metadata": {},
   "outputs": [],
   "source": [
    "my_num = sum(num)"
   ]
  },
  {
   "cell_type": "code",
   "execution_count": 9,
   "id": "645e6df6-6f87-4951-aefb-480f1a0352b4",
   "metadata": {},
   "outputs": [
    {
     "data": {
      "text/plain": [
       "66"
      ]
     },
     "execution_count": 9,
     "metadata": {},
     "output_type": "execute_result"
    }
   ],
   "source": [
    "my_num"
   ]
  },
  {
   "cell_type": "code",
   "execution_count": 15,
   "id": "a16e5b65-3c79-429a-a8cd-56f232850474",
   "metadata": {},
   "outputs": [],
   "source": [
    "def sum_value():\n",
    "    result = sum(num)\n",
    "    return result"
   ]
  },
  {
   "cell_type": "code",
   "execution_count": 16,
   "id": "5888cf0f-d5e5-43d0-87b6-fadb6bbb41d5",
   "metadata": {},
   "outputs": [
    {
     "data": {
      "text/plain": [
       "66"
      ]
     },
     "execution_count": 16,
     "metadata": {},
     "output_type": "execute_result"
    }
   ],
   "source": [
    "sum_value()"
   ]
  },
  {
   "cell_type": "code",
   "execution_count": null,
   "id": "67f71422-bbda-4c00-9396-42be50d33d80",
   "metadata": {},
   "outputs": [],
   "source": []
  }
 ],
 "metadata": {
  "kernelspec": {
   "display_name": "Python 3 (ipykernel)",
   "language": "python",
   "name": "python3"
  },
  "language_info": {
   "codemirror_mode": {
    "name": "ipython",
    "version": 3
   },
   "file_extension": ".py",
   "mimetype": "text/x-python",
   "name": "python",
   "nbconvert_exporter": "python",
   "pygments_lexer": "ipython3",
   "version": "3.12.4"
  }
 },
 "nbformat": 4,
 "nbformat_minor": 5
}
