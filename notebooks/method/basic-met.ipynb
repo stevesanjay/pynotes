{
 "cells": [
  {
   "cell_type": "code",
   "execution_count": 1,
   "id": "ba3268fb-5e08-4bb9-9ab1-90b041d32ca1",
   "metadata": {},
   "outputs": [],
   "source": [
    "# simple method"
   ]
  },
  {
   "cell_type": "code",
   "execution_count": 2,
   "id": "d9f6a2de-4ee7-4571-962d-75d1a1466538",
   "metadata": {},
   "outputs": [],
   "source": [
    "def simple_print():\n",
    "    print(\"hello world\")"
   ]
  },
  {
   "cell_type": "code",
   "execution_count": 3,
   "id": "9e02ffba-ef2d-4324-9d2e-71f6817200a7",
   "metadata": {},
   "outputs": [
    {
     "name": "stdout",
     "output_type": "stream",
     "text": [
      "hello world\n"
     ]
    }
   ],
   "source": [
    "simple_print()"
   ]
  },
  {
   "cell_type": "code",
   "execution_count": 4,
   "id": "178daa5b-d4df-4395-96dd-dad74a62f63d",
   "metadata": {},
   "outputs": [],
   "source": [
    "def simple_return():\n",
    "    return \"hello world\""
   ]
  },
  {
   "cell_type": "code",
   "execution_count": 5,
   "id": "79ba8d0c-33b2-419e-82e9-9cf43af942c9",
   "metadata": {},
   "outputs": [
    {
     "data": {
      "text/plain": [
       "'hello world'"
      ]
     },
     "execution_count": 5,
     "metadata": {},
     "output_type": "execute_result"
    }
   ],
   "source": [
    "simple_return()"
   ]
  },
  {
   "cell_type": "code",
   "execution_count": null,
   "id": "b9a28965-1c72-4392-9899-87a7169409f8",
   "metadata": {},
   "outputs": [],
   "source": []
  }
 ],
 "metadata": {
  "kernelspec": {
   "display_name": "Python 3 (ipykernel)",
   "language": "python",
   "name": "python3"
  },
  "language_info": {
   "codemirror_mode": {
    "name": "ipython",
    "version": 3
   },
   "file_extension": ".py",
   "mimetype": "text/x-python",
   "name": "python",
   "nbconvert_exporter": "python",
   "pygments_lexer": "ipython3",
   "version": "3.12.4"
  }
 },
 "nbformat": 4,
 "nbformat_minor": 5
}
