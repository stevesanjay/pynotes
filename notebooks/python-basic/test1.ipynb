{
 "cells": [
  {
   "cell_type": "code",
   "execution_count": 1,
   "id": "a8141256-a637-4790-b497-9ef5d0d6552e",
   "metadata": {},
   "outputs": [
    {
     "name": "stdout",
     "output_type": "stream",
     "text": [
      "hello world\n"
     ]
    }
   ],
   "source": [
    "print(\"hello world\")"
   ]
  },
  {
   "cell_type": "code",
   "execution_count": 2,
   "id": "ff00e635-26f5-462b-8529-c861886da84f",
   "metadata": {},
   "outputs": [],
   "source": [
    "thisdict = {\n",
    "  \"name\": \"steve\",\n",
    "  \"age\": 40,\n",
    "  \"year\": 1964\n",
    "}"
   ]
  },
  {
   "cell_type": "code",
   "execution_count": 3,
   "id": "7bf43c8a-2813-4599-84ca-9a817ad7b31f",
   "metadata": {},
   "outputs": [
    {
     "data": {
      "text/plain": [
       "40"
      ]
     },
     "execution_count": 3,
     "metadata": {},
     "output_type": "execute_result"
    }
   ],
   "source": [
    "thisdict.pop(\"age\")"
   ]
  },
  {
   "cell_type": "code",
   "execution_count": null,
   "id": "d43d96b9-e037-425f-b9e2-2a319ebc76be",
   "metadata": {},
   "outputs": [],
   "source": []
  }
 ],
 "metadata": {
  "kernelspec": {
   "display_name": "Python 3 (ipykernel)",
   "language": "python",
   "name": "python3"
  },
  "language_info": {
   "codemirror_mode": {
    "name": "ipython",
    "version": 3
   },
   "file_extension": ".py",
   "mimetype": "text/x-python",
   "name": "python",
   "nbconvert_exporter": "python",
   "pygments_lexer": "ipython3",
   "version": "3.12.4"
  }
 },
 "nbformat": 4,
 "nbformat_minor": 5
}
