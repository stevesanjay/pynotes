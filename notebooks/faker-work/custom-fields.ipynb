{
 "cells": [
  {
   "cell_type": "code",
   "execution_count": 1,
   "id": "3a4a0061-3ab5-469b-b804-454e26f790a1",
   "metadata": {},
   "outputs": [],
   "source": [
    "# Generate Fake Data for Custom Fields\n",
    "# Generate structured fake data for applications like user testing or mock APIs."
   ]
  },
  {
   "cell_type": "code",
   "execution_count": 2,
   "id": "8cbe5044-1eda-4d02-bef4-a4f4285163e7",
   "metadata": {},
   "outputs": [],
   "source": [
    "# import necessary library"
   ]
  },
  {
   "cell_type": "code",
   "execution_count": 3,
   "id": "32601a28-da16-4712-8b5a-53b2cb3241b3",
   "metadata": {},
   "outputs": [],
   "source": [
    "from faker import Faker"
   ]
  },
  {
   "cell_type": "code",
   "execution_count": 4,
   "id": "ce5652ad-0c54-44e5-9d60-58fc48b7ab4c",
   "metadata": {},
   "outputs": [],
   "source": [
    "# Initialize Faker"
   ]
  },
  {
   "cell_type": "code",
   "execution_count": 5,
   "id": "c110ba3a-1b96-40c7-86c8-abf0fc791289",
   "metadata": {},
   "outputs": [],
   "source": [
    "fake = Faker()"
   ]
  },
  {
   "cell_type": "code",
   "execution_count": 6,
   "id": "8ff7df66-5f18-46d0-b983-e418bfbf62d4",
   "metadata": {},
   "outputs": [],
   "source": [
    "# Generate a structured fake user record"
   ]
  },
  {
   "cell_type": "code",
   "execution_count": 7,
   "id": "96be29ba-30aa-468f-b13e-90a6cdd9fe4b",
   "metadata": {},
   "outputs": [],
   "source": [
    "user_data = {\n",
    "    'id': fake.uuid4(),\n",
    "    'name': fake.name(),\n",
    "    'email': fake.email(),\n",
    "    'phone': fake.phone_number(),\n",
    "    'birthdate': fake.date_of_birth(minimum_age=18, maximum_age=65),\n",
    "    'address': fake.address(),\n",
    "}"
   ]
  },
  {
   "cell_type": "code",
   "execution_count": 8,
   "id": "fa531c11-b4fb-4d40-a2ca-da7ab7969501",
   "metadata": {},
   "outputs": [
    {
     "data": {
      "text/plain": [
       "{'id': '50d6d27a-423a-4589-9062-ab2f860c0a9b',\n",
       " 'name': 'James Beard MD',\n",
       " 'email': 'lsanders@example.com',\n",
       " 'phone': '001-904-757-9199x8878',\n",
       " 'birthdate': datetime.date(2004, 5, 5),\n",
       " 'address': '097 Robinson Branch Apt. 464\\nCobbberg, PA 47813'}"
      ]
     },
     "execution_count": 8,
     "metadata": {},
     "output_type": "execute_result"
    }
   ],
   "source": [
    "user_data"
   ]
  },
  {
   "cell_type": "code",
   "execution_count": 9,
   "id": "7642de22-3dba-4c87-81cc-a4115cbfb8ed",
   "metadata": {},
   "outputs": [
    {
     "data": {
      "text/plain": [
       "{'id': '50d6d27a-423a-4589-9062-ab2f860c0a9b',\n",
       " 'name': 'James Beard MD',\n",
       " 'email': 'lsanders@example.com',\n",
       " 'phone': '001-904-757-9199x8878',\n",
       " 'birthdate': datetime.date(2004, 5, 5),\n",
       " 'address': '097 Robinson Branch Apt. 464\\nCobbberg, PA 47813'}"
      ]
     },
     "execution_count": 9,
     "metadata": {},
     "output_type": "execute_result"
    }
   ],
   "source": [
    "user_data"
   ]
  },
  {
   "cell_type": "code",
   "execution_count": null,
   "id": "de26ecf5-752b-4fc7-9a37-d9accd3be132",
   "metadata": {},
   "outputs": [],
   "source": []
  }
 ],
 "metadata": {
  "kernelspec": {
   "display_name": "Python 3 (ipykernel)",
   "language": "python",
   "name": "python3"
  },
  "language_info": {
   "codemirror_mode": {
    "name": "ipython",
    "version": 3
   },
   "file_extension": ".py",
   "mimetype": "text/x-python",
   "name": "python",
   "nbconvert_exporter": "python",
   "pygments_lexer": "ipython3",
   "version": "3.12.4"
  }
 },
 "nbformat": 4,
 "nbformat_minor": 5
}
