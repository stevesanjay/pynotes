{
 "cells": [
  {
   "cell_type": "code",
   "execution_count": 1,
   "id": "afdcb512-6c43-4131-a74b-66a309d8471d",
   "metadata": {},
   "outputs": [],
   "source": [
    "# Custom Provider"
   ]
  },
  {
   "cell_type": "code",
   "execution_count": 2,
   "id": "c316ed19-b661-4496-8ded-3b2a78e4ff1f",
   "metadata": {},
   "outputs": [],
   "source": [
    "# import necessary library"
   ]
  },
  {
   "cell_type": "code",
   "execution_count": 14,
   "id": "fdaeca89-11e5-4f45-b5b5-f91a60d78fb2",
   "metadata": {},
   "outputs": [],
   "source": [
    "from faker import Faker"
   ]
  },
  {
   "cell_type": "code",
   "execution_count": 15,
   "id": "e175939d-ce73-4783-bfbe-794462a4585e",
   "metadata": {},
   "outputs": [],
   "source": [
    "from faker.providers import BaseProvider"
   ]
  },
  {
   "cell_type": "code",
   "execution_count": 16,
   "id": "f2426771-fe87-42ed-b418-27060729354b",
   "metadata": {},
   "outputs": [],
   "source": [
    "# Custom provider class"
   ]
  },
  {
   "cell_type": "code",
   "execution_count": 17,
   "id": "5b4543aa-8d59-46a5-939f-5d74dadec226",
   "metadata": {},
   "outputs": [],
   "source": [
    "class MyProvider(BaseProvider):\n",
    "    def programming_language(self):\n",
    "        return self.random_element(['Python', 'JavaScript', 'Java', 'C++', 'Go'])\n"
   ]
  },
  {
   "cell_type": "code",
   "execution_count": 18,
   "id": "2d9389df-acda-4eac-bffd-ec9b1830bddf",
   "metadata": {},
   "outputs": [],
   "source": [
    "# Initialize Faker"
   ]
  },
  {
   "cell_type": "code",
   "execution_count": 19,
   "id": "b206993c-66c0-44d3-9940-5b114b75b889",
   "metadata": {},
   "outputs": [],
   "source": [
    "fake = Faker()"
   ]
  },
  {
   "cell_type": "code",
   "execution_count": 20,
   "id": "de4d7362-d9d4-4868-86d1-5a9041f9678b",
   "metadata": {},
   "outputs": [],
   "source": [
    "fake.add_provider(MyProvider)"
   ]
  },
  {
   "cell_type": "code",
   "execution_count": 21,
   "id": "ec9b3a30-acaf-404e-957c-2f8c911e7789",
   "metadata": {},
   "outputs": [],
   "source": [
    "# Use the custom provider"
   ]
  },
  {
   "cell_type": "code",
   "execution_count": 22,
   "id": "7ad6d5f6-81c2-4626-bdf4-d2e138e9bc40",
   "metadata": {},
   "outputs": [],
   "source": [
    "language = fake.programming_language()\n"
   ]
  },
  {
   "cell_type": "code",
   "execution_count": 23,
   "id": "833ca2db-2cd1-4c3d-b59b-2fa2c54e4744",
   "metadata": {},
   "outputs": [
    {
     "data": {
      "text/plain": [
       "'Java'"
      ]
     },
     "execution_count": 23,
     "metadata": {},
     "output_type": "execute_result"
    }
   ],
   "source": [
    "language"
   ]
  }
 ],
 "metadata": {
  "kernelspec": {
   "display_name": "Python 3 (ipykernel)",
   "language": "python",
   "name": "python3"
  },
  "language_info": {
   "codemirror_mode": {
    "name": "ipython",
    "version": 3
   },
   "file_extension": ".py",
   "mimetype": "text/x-python",
   "name": "python",
   "nbconvert_exporter": "python",
   "pygments_lexer": "ipython3",
   "version": "3.12.4"
  }
 },
 "nbformat": 4,
 "nbformat_minor": 5
}
