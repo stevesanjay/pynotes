{
 "cells": [
  {
   "cell_type": "code",
   "execution_count": 1,
   "id": "91a65cd3-c81d-490a-88af-cd97ca5310f5",
   "metadata": {},
   "outputs": [],
   "source": [
    "# Localized Fake Data"
   ]
  },
  {
   "cell_type": "code",
   "execution_count": 2,
   "id": "f63a8c00-f7d6-45c7-b058-a45d7360720f",
   "metadata": {},
   "outputs": [],
   "source": [
    "# import necessary library"
   ]
  },
  {
   "cell_type": "code",
   "execution_count": 3,
   "id": "b7067295-7a32-4f49-8a22-620fda52c107",
   "metadata": {},
   "outputs": [],
   "source": [
    "from faker import Faker"
   ]
  },
  {
   "cell_type": "code",
   "execution_count": 4,
   "id": "d66082b8-0d32-4677-8186-46fc46921578",
   "metadata": {},
   "outputs": [],
   "source": [
    "# Create Faker instance for French locale"
   ]
  },
  {
   "cell_type": "code",
   "execution_count": 5,
   "id": "b8f7f23d-da6d-4fe0-8c2a-a09e780706c6",
   "metadata": {},
   "outputs": [],
   "source": [
    "fake = Faker('fr_FR')\n"
   ]
  },
  {
   "cell_type": "code",
   "execution_count": 6,
   "id": "c29c5a15-ef7a-4bf3-8b7d-9eb382e08ecd",
   "metadata": {},
   "outputs": [],
   "source": [
    "# Generate localized fake data"
   ]
  },
  {
   "cell_type": "code",
   "execution_count": 7,
   "id": "bb28f6d1-30d0-4713-ac61-0a6ffc20b4d5",
   "metadata": {},
   "outputs": [],
   "source": [
    "name = fake.name()"
   ]
  },
  {
   "cell_type": "code",
   "execution_count": 8,
   "id": "bdc446eb-f3aa-401d-b630-7c7ab61c7374",
   "metadata": {},
   "outputs": [
    {
     "data": {
      "text/plain": [
       "'Émilie Ferrand'"
      ]
     },
     "execution_count": 8,
     "metadata": {},
     "output_type": "execute_result"
    }
   ],
   "source": [
    "name"
   ]
  },
  {
   "cell_type": "code",
   "execution_count": 9,
   "id": "24ff1ffb-4a0e-4f44-b6fd-d53212abe843",
   "metadata": {},
   "outputs": [],
   "source": [
    "address = fake.address()"
   ]
  },
  {
   "cell_type": "code",
   "execution_count": 10,
   "id": "1604b5be-550b-4ef5-b227-083f71f3413b",
   "metadata": {},
   "outputs": [
    {
     "data": {
      "text/plain": [
       "'6, chemin Louis Lenoir\\n74808 Besson'"
      ]
     },
     "execution_count": 10,
     "metadata": {},
     "output_type": "execute_result"
    }
   ],
   "source": [
    "address"
   ]
  },
  {
   "cell_type": "code",
   "execution_count": 11,
   "id": "318b8a60-c66c-4831-8bac-fce8712d4125",
   "metadata": {},
   "outputs": [],
   "source": [
    "phone_number = fake.phone_number()"
   ]
  },
  {
   "cell_type": "code",
   "execution_count": 12,
   "id": "892d0849-21b1-4a7b-8a0f-e58de464eeb0",
   "metadata": {},
   "outputs": [
    {
     "data": {
      "text/plain": [
       "'0384958153'"
      ]
     },
     "execution_count": 12,
     "metadata": {},
     "output_type": "execute_result"
    }
   ],
   "source": [
    "phone_number"
   ]
  },
  {
   "cell_type": "code",
   "execution_count": null,
   "id": "f482aeba-b868-463c-b6ed-36f01999c627",
   "metadata": {},
   "outputs": [],
   "source": []
  }
 ],
 "metadata": {
  "kernelspec": {
   "display_name": "Python 3 (ipykernel)",
   "language": "python",
   "name": "python3"
  },
  "language_info": {
   "codemirror_mode": {
    "name": "ipython",
    "version": 3
   },
   "file_extension": ".py",
   "mimetype": "text/x-python",
   "name": "python",
   "nbconvert_exporter": "python",
   "pygments_lexer": "ipython3",
   "version": "3.12.4"
  }
 },
 "nbformat": 4,
 "nbformat_minor": 5
}
