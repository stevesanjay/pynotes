{
 "cells": [
  {
   "cell_type": "code",
   "execution_count": 2,
   "id": "ce8cbc45-b46e-46ff-be2e-0888a06488d8",
   "metadata": {},
   "outputs": [],
   "source": [
    "#  user data making\n"
   ]
  },
  {
   "cell_type": "code",
   "execution_count": 3,
   "id": "67f4b79c-f431-466d-93e8-4e527a591b6e",
   "metadata": {},
   "outputs": [],
   "source": [
    "# Import necessary modules"
   ]
  },
  {
   "cell_type": "code",
   "execution_count": null,
   "id": "3f2c69e3-2b77-4c2c-bc16-511979fb6bd8",
   "metadata": {},
   "outputs": [],
   "source": [
    "import pandas as pd"
   ]
  },
  {
   "cell_type": "code",
   "execution_count": null,
   "id": "cee573e1-8a6a-4d21-9125-acccabd90664",
   "metadata": {},
   "outputs": [],
   "source": [
    "import random"
   ]
  },
  {
   "cell_type": "code",
   "execution_count": null,
   "id": "41dcf2ce-99ba-4c24-a027-3c490ca881d0",
   "metadata": {},
   "outputs": [],
   "source": [
    "from faker import Faker"
   ]
  },
  {
   "cell_type": "code",
   "execution_count": null,
   "id": "0cebfa09-c018-4b16-9a9d-e5a7381be046",
   "metadata": {},
   "outputs": [],
   "source": [
    "# Initialize Faker"
   ]
  },
  {
   "cell_type": "code",
   "execution_count": null,
   "id": "4990939c-7e70-45a7-911f-3d3df1ded3b0",
   "metadata": {},
   "outputs": [],
   "source": [
    "faker = Faker()"
   ]
  },
  {
   "cell_type": "code",
   "execution_count": null,
   "id": "009dc4a6-b19b-4af8-98db-89bfe1fa1d8e",
   "metadata": {},
   "outputs": [],
   "source": [
    "# global variable \n",
    "COUNT = 1000"
   ]
  },
  {
   "cell_type": "code",
   "execution_count": null,
   "id": "87151680-5c6b-422c-a3bf-6ba0d991c439",
   "metadata": {},
   "outputs": [],
   "source": [
    "# create a method to write the logic"
   ]
  },
  {
   "cell_type": "code",
   "execution_count": null,
   "id": "0112e9e8-e490-4249-aaf3-1437150d384c",
   "metadata": {},
   "outputs": [],
   "source": [
    "def generate_names(count, type):\n",
    "\n",
    "    item_list = []\n",
    "    for i in range(count):\n",
    "        if(type == 'name'):\n",
    "            c_item = faker.name()\n",
    "        elif(type == 'address'):\n",
    "            c_item = faker.address()\n",
    "\n",
    "        # print(f'[{i}] : {c_item}')\n",
    "        item_list.append(c_item)\n",
    "\n",
    "    return item_list"
   ]
  },
  {
   "cell_type": "code",
   "execution_count": null,
   "id": "f12452ec-b4a8-451d-bff7-3a8251650177",
   "metadata": {},
   "outputs": [],
   "source": [
    "def generate_data():\n",
    "\n",
    "    global faker\n",
    "\n",
    "    username_list   = generate_names(COUNT, 'name')\n",
    "    address_list    = generate_names(COUNT, 'address')\n",
    "\n",
    "    data    = pd.DataFrame({\n",
    "        'username' : username_list,\n",
    "        'address' : address_list\n",
    "    })\n",
    "\n",
    "    return data"
   ]
  },
  {
   "cell_type": "code",
   "execution_count": null,
   "id": "c090687c-e4f1-4ab3-9b28-81cb2ed8cef2",
   "metadata": {},
   "outputs": [],
   "source": [
    "file_name = \"user-1m.csv\""
   ]
  },
  {
   "cell_type": "code",
   "execution_count": null,
   "id": "b82995dc-42dd-46fb-bc3c-17a0da9b69cd",
   "metadata": {},
   "outputs": [],
   "source": [
    "def startpy():\n",
    "\n",
    "    data = generate_data()\n",
    "    # print(data)\n",
    "    \n",
    "    data.to_csv(file_name)"
   ]
  },
  {
   "cell_type": "code",
   "execution_count": null,
   "id": "e5cc5515-be75-4dbb-b112-a4057b38cd62",
   "metadata": {},
   "outputs": [],
   "source": [
    "startpy()"
   ]
  },
  {
   "cell_type": "code",
   "execution_count": null,
   "id": "b9f69de2-aa3e-43ec-9a71-1c505f8bb3e2",
   "metadata": {},
   "outputs": [],
   "source": []
  }
 ],
 "metadata": {
  "kernelspec": {
   "display_name": "Python 3 (ipykernel)",
   "language": "python",
   "name": "python3"
  },
  "language_info": {
   "codemirror_mode": {
    "name": "ipython",
    "version": 3
   },
   "file_extension": ".py",
   "mimetype": "text/x-python",
   "name": "python",
   "nbconvert_exporter": "python",
   "pygments_lexer": "ipython3",
   "version": "3.12.4"
  }
 },
 "nbformat": 4,
 "nbformat_minor": 5
}
