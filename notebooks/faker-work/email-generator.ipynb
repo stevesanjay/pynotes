{
 "cells": [
  {
   "cell_type": "code",
   "execution_count": 40,
   "id": "3ba629a2-7ece-4880-8fa4-ff669101d980",
   "metadata": {},
   "outputs": [],
   "source": [
    "# json generator"
   ]
  },
  {
   "cell_type": "code",
   "execution_count": 41,
   "id": "41f04174-4042-4153-bec0-21da0df8cb37",
   "metadata": {},
   "outputs": [],
   "source": [
    "# Import necessary modules"
   ]
  },
  {
   "cell_type": "code",
   "execution_count": 42,
   "id": "236f4ad2-c7d9-416e-95d7-7bd519b5c09e",
   "metadata": {},
   "outputs": [],
   "source": [
    "import pandas as pd"
   ]
  },
  {
   "cell_type": "code",
   "execution_count": 43,
   "id": "e2fe00f9-c939-495a-9251-66e24a882519",
   "metadata": {},
   "outputs": [],
   "source": [
    "from faker import Faker"
   ]
  },
  {
   "cell_type": "code",
   "execution_count": 44,
   "id": "aca9463d-7051-4828-9067-59441c016a43",
   "metadata": {},
   "outputs": [],
   "source": [
    "import random"
   ]
  },
  {
   "cell_type": "code",
   "execution_count": 45,
   "id": "59a2475f-605b-46e9-9b04-bfd265d23497",
   "metadata": {},
   "outputs": [],
   "source": [
    "# Initialize Faker"
   ]
  },
  {
   "cell_type": "code",
   "execution_count": 46,
   "id": "50a7813a-71b0-4593-ada1-52e5521ed9ac",
   "metadata": {},
   "outputs": [],
   "source": [
    "fake = Faker()"
   ]
  },
  {
   "cell_type": "code",
   "execution_count": 47,
   "id": "eca29b7f-55c1-4031-b160-61c14e35af9e",
   "metadata": {},
   "outputs": [],
   "source": [
    "# create a method write a logic"
   ]
  },
  {
   "cell_type": "code",
   "execution_count": 48,
   "id": "444e4849-ebae-4250-848c-6cb22c2ca728",
   "metadata": {},
   "outputs": [],
   "source": [
    "def get_random_emails(max = 10):\n",
    "\n",
    "    item_count = random.randint(1, max)\n",
    "\n",
    "    email_list = []\n",
    "\n",
    "    for _ in range(item_count):\n",
    "        email_list.append(fake.email())\n",
    "\n",
    "    return email_list"
   ]
  },
  {
   "cell_type": "code",
   "execution_count": 49,
   "id": "0f3ba01b-3f22-4331-976a-5e6bc8899a5f",
   "metadata": {},
   "outputs": [],
   "source": [
    "def create_dataframe():\n",
    "\n",
    "    email_list = [\n",
    "        \",\".join(get_random_emails()),\n",
    "        \",\".join(get_random_emails()),\n",
    "        \",\".join(get_random_emails()),\n",
    "        \",\".join(get_random_emails())\n",
    "    ]\n",
    "\n",
    "    # intialise data of lists.\n",
    "    data = {\n",
    "            'name':['Tom', 'nick', 'krish', 'jack'],\n",
    "            'email':email_list\n",
    "        }\n",
    "\n",
    "    # Create DataFrame\n",
    "    df = pd.DataFrame(data)\n",
    "\n",
    "    # Print the output.\n",
    "    print(df)\n",
    "\n",
    "    df.to_csv('email.csv')"
   ]
  },
  {
   "cell_type": "code",
   "execution_count": 50,
   "id": "10990ca8-19fb-48e0-aa05-fc8cccfa6366",
   "metadata": {},
   "outputs": [],
   "source": [
    "def startpy():\n",
    "\n",
    "    # print('Hey there')\n",
    "\n",
    "    create_dataframe()"
   ]
  },
  {
   "cell_type": "code",
   "execution_count": 51,
   "id": "584091f0-f0dc-461f-94df-0f7b6230106e",
   "metadata": {},
   "outputs": [
    {
     "name": "stdout",
     "output_type": "stream",
     "text": [
      "    name                                              email\n",
      "0    Tom  wraymond@example.org,onelson@example.org,mjone...\n",
      "1   nick  christinemartinez@example.net,ashleycole@examp...\n",
      "2  krish  barnesdawn@example.org,samuelmcdonald@example....\n",
      "3   jack                            danieljones@example.org\n"
     ]
    }
   ],
   "source": [
    "startpy()"
   ]
  },
  {
   "cell_type": "code",
   "execution_count": null,
   "id": "fed441be-f83b-46e7-97ba-6ea16e7a9136",
   "metadata": {},
   "outputs": [],
   "source": []
  }
 ],
 "metadata": {
  "kernelspec": {
   "display_name": "Python 3 (ipykernel)",
   "language": "python",
   "name": "python3"
  },
  "language_info": {
   "codemirror_mode": {
    "name": "ipython",
    "version": 3
   },
   "file_extension": ".py",
   "mimetype": "text/x-python",
   "name": "python",
   "nbconvert_exporter": "python",
   "pygments_lexer": "ipython3",
   "version": "3.12.4"
  }
 },
 "nbformat": 4,
 "nbformat_minor": 5
}
