{
 "cells": [
  {
   "cell_type": "code",
   "execution_count": 1,
   "id": "903b7697-04e4-428b-a222-523f56d7bdd5",
   "metadata": {},
   "outputs": [],
   "source": [
    "# Generate Fake Data in Bulk"
   ]
  },
  {
   "cell_type": "code",
   "execution_count": 2,
   "id": "eade7644-1016-4bc4-bad7-a447dcacbd9e",
   "metadata": {},
   "outputs": [],
   "source": [
    "# import necessary library"
   ]
  },
  {
   "cell_type": "code",
   "execution_count": 3,
   "id": "7d937a8f-517d-43af-9cb4-02111ef2de99",
   "metadata": {},
   "outputs": [],
   "source": [
    "from faker import Faker"
   ]
  },
  {
   "cell_type": "code",
   "execution_count": 4,
   "id": "76365026-3511-45b0-a55a-37ad0f9352bb",
   "metadata": {},
   "outputs": [],
   "source": [
    "# Initialize Faker"
   ]
  },
  {
   "cell_type": "code",
   "execution_count": 5,
   "id": "46920294-12c5-4671-9d51-122b10ba0f9e",
   "metadata": {},
   "outputs": [],
   "source": [
    "fake = Faker()"
   ]
  },
  {
   "cell_type": "code",
   "execution_count": 6,
   "id": "d1d4c608-7cba-4174-a961-a75cf4c78643",
   "metadata": {},
   "outputs": [],
   "source": [
    "# Generate 5 fake user profiles"
   ]
  },
  {
   "cell_type": "code",
   "execution_count": 10,
   "id": "802b74fd-f666-40e4-aa9c-17266733703c",
   "metadata": {},
   "outputs": [
    {
     "name": "stdout",
     "output_type": "stream",
     "text": [
      "Name: Haley Hall, Email: amberholland@example.org, City: Melindaport\n",
      "Name: Morgan Bryant, Email: bernard47@example.org, City: Sherifurt\n",
      "Name: Savannah Anderson, Email: prodriguez@example.org, City: New Logan\n",
      "Name: Jenny Lara, Email: friedmanmaxwell@example.net, City: Port Judithland\n",
      "Name: Cathy Hernandez, Email: pcraig@example.org, City: Moraview\n"
     ]
    }
   ],
   "source": [
    "for _ in range(5):\n",
    "    name = fake.name()\n",
    "    email = fake.email()\n",
    "    city = fake.city()\n",
    "    print(f'Name: {name}, Email: {email}, City: {city}')"
   ]
  },
  {
   "cell_type": "code",
   "execution_count": 8,
   "id": "adae665d-0301-45ff-94ec-369213ed7008",
   "metadata": {},
   "outputs": [
    {
     "data": {
      "text/plain": [
       "'Cheryl Sharp MD'"
      ]
     },
     "execution_count": 8,
     "metadata": {},
     "output_type": "execute_result"
    }
   ],
   "source": [
    "name"
   ]
  },
  {
   "cell_type": "code",
   "execution_count": 11,
   "id": "5f788319-c69a-49d9-a78e-6693ce5dc47f",
   "metadata": {},
   "outputs": [
    {
     "data": {
      "text/plain": [
       "'pcraig@example.org'"
      ]
     },
     "execution_count": 11,
     "metadata": {},
     "output_type": "execute_result"
    }
   ],
   "source": [
    "email"
   ]
  },
  {
   "cell_type": "code",
   "execution_count": 12,
   "id": "2d68d879-c570-4ce7-911c-40cd0b6aadfe",
   "metadata": {},
   "outputs": [
    {
     "data": {
      "text/plain": [
       "'Moraview'"
      ]
     },
     "execution_count": 12,
     "metadata": {},
     "output_type": "execute_result"
    }
   ],
   "source": [
    "city"
   ]
  },
  {
   "cell_type": "code",
   "execution_count": null,
   "id": "965bce17-fbeb-4556-a6a8-5bb81dc59256",
   "metadata": {},
   "outputs": [],
   "source": []
  }
 ],
 "metadata": {
  "kernelspec": {
   "display_name": "Python 3 (ipykernel)",
   "language": "python",
   "name": "python3"
  },
  "language_info": {
   "codemirror_mode": {
    "name": "ipython",
    "version": 3
   },
   "file_extension": ".py",
   "mimetype": "text/x-python",
   "name": "python",
   "nbconvert_exporter": "python",
   "pygments_lexer": "ipython3",
   "version": "3.12.4"
  }
 },
 "nbformat": 4,
 "nbformat_minor": 5
}
