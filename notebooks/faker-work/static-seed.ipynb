{
 "cells": [
  {
   "cell_type": "code",
   "execution_count": 2,
   "id": "8486ae89-24da-4999-8e14-b9f203957080",
   "metadata": {},
   "outputs": [],
   "source": [
    "# Static Seed for Reproducibility\n",
    "# Set a static seed to ensure the same fake data is generated every time."
   ]
  },
  {
   "cell_type": "code",
   "execution_count": 3,
   "id": "4a25fa86-d872-45ea-8918-1a26b1aa6674",
   "metadata": {},
   "outputs": [],
   "source": [
    "# import necessary library"
   ]
  },
  {
   "cell_type": "code",
   "execution_count": 4,
   "id": "0e1d51e7-74e2-483a-ba63-c298f3a230de",
   "metadata": {},
   "outputs": [],
   "source": [
    "from faker import Faker"
   ]
  },
  {
   "cell_type": "code",
   "execution_count": 5,
   "id": "3b86bc5e-d25a-430a-b593-20798b9b0dd9",
   "metadata": {},
   "outputs": [],
   "source": [
    "# Initialize Faker with a seed"
   ]
  },
  {
   "cell_type": "code",
   "execution_count": 6,
   "id": "b300884c-5bf0-4034-a40d-354eb1f319cd",
   "metadata": {},
   "outputs": [],
   "source": [
    "fake = Faker()"
   ]
  },
  {
   "cell_type": "code",
   "execution_count": 7,
   "id": "1e415f1c-22a6-4d38-9c98-4147b75dd18b",
   "metadata": {},
   "outputs": [],
   "source": [
    "Faker.seed(12345)"
   ]
  },
  {
   "cell_type": "code",
   "execution_count": 8,
   "id": "b58ce93c-f46a-4750-9d1b-36352f6e454f",
   "metadata": {},
   "outputs": [],
   "source": [
    "# Generate reproducible fake data"
   ]
  },
  {
   "cell_type": "code",
   "execution_count": 9,
   "id": "c4469070-4837-458e-80df-2381620520d7",
   "metadata": {},
   "outputs": [
    {
     "name": "stdout",
     "output_type": "stream",
     "text": [
      "Adam Bryan\n"
     ]
    }
   ],
   "source": [
    "print(fake.name())"
   ]
  },
  {
   "cell_type": "code",
   "execution_count": 10,
   "id": "d67dbef7-62c1-432e-bb4e-1bffaecd9135",
   "metadata": {},
   "outputs": [
    {
     "name": "stdout",
     "output_type": "stream",
     "text": [
      "49625 Morgan Green Apt. 982\n",
      "Joannaland, NC 96890\n"
     ]
    }
   ],
   "source": [
    "print(fake.address())"
   ]
  },
  {
   "cell_type": "code",
   "execution_count": 11,
   "id": "44ac7e68-fd76-43d0-bb1a-48499e179215",
   "metadata": {},
   "outputs": [
    {
     "name": "stdout",
     "output_type": "stream",
     "text": [
      "krichards@example.org\n"
     ]
    }
   ],
   "source": [
    "print(fake.email())"
   ]
  },
  {
   "cell_type": "code",
   "execution_count": 12,
   "id": "ea41a81a-84ab-47e7-becb-02a36ded6ff8",
   "metadata": {},
   "outputs": [
    {
     "name": "stdout",
     "output_type": "stream",
     "text": [
      "Lake Christian\n"
     ]
    }
   ],
   "source": [
    "print(fake.city())"
   ]
  },
  {
   "cell_type": "code",
   "execution_count": 14,
   "id": "a85137cf-0bd5-4acc-a354-81e72a6f8b6a",
   "metadata": {},
   "outputs": [
    {
     "name": "stdout",
     "output_type": "stream",
     "text": [
      "350-875-0860x02924\n"
     ]
    }
   ],
   "source": [
    "print(fake.phone_number())"
   ]
  },
  {
   "cell_type": "code",
   "execution_count": 15,
   "id": "e57a455e-a452-46a7-9bc8-7c5d7da84cbe",
   "metadata": {},
   "outputs": [
    {
     "name": "stdout",
     "output_type": "stream",
     "text": [
      "93fd7234-ae71-4399-a2b2-848b1b1bcf72\n"
     ]
    }
   ],
   "source": [
    "print(fake.uuid4())"
   ]
  },
  {
   "cell_type": "code",
   "execution_count": null,
   "id": "7f333cf5-52ca-481a-bd44-b0ab2b5f6b2d",
   "metadata": {},
   "outputs": [],
   "source": []
  }
 ],
 "metadata": {
  "kernelspec": {
   "display_name": "Python 3 (ipykernel)",
   "language": "python",
   "name": "python3"
  },
  "language_info": {
   "codemirror_mode": {
    "name": "ipython",
    "version": 3
   },
   "file_extension": ".py",
   "mimetype": "text/x-python",
   "name": "python",
   "nbconvert_exporter": "python",
   "pygments_lexer": "ipython3",
   "version": "3.12.4"
  }
 },
 "nbformat": 4,
 "nbformat_minor": 5
}
