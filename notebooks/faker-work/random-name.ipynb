{
 "cells": [
  {
   "cell_type": "code",
   "execution_count": 1,
   "id": "8de61846-308e-4169-8910-5835bacf54f9",
   "metadata": {},
   "outputs": [],
   "source": [
    "# random names"
   ]
  },
  {
   "cell_type": "code",
   "execution_count": 2,
   "id": "6938cb10-03a8-4705-a38d-eb19dca4f4ef",
   "metadata": {},
   "outputs": [],
   "source": [
    "# import necessary library"
   ]
  },
  {
   "cell_type": "code",
   "execution_count": 3,
   "id": "e46d320e-052b-4159-9fee-7cbbf6992288",
   "metadata": {},
   "outputs": [],
   "source": [
    "from faker import Faker"
   ]
  },
  {
   "cell_type": "code",
   "execution_count": 4,
   "id": "bf957e82-e39b-4e38-8e67-8891ab796e69",
   "metadata": {},
   "outputs": [],
   "source": [
    "fake=Faker()"
   ]
  },
  {
   "cell_type": "code",
   "execution_count": 5,
   "id": "784f3943-7efe-48e0-b6f3-7303dfc608ac",
   "metadata": {},
   "outputs": [],
   "source": [
    "# create a function to write the logic"
   ]
  },
  {
   "cell_type": "code",
   "execution_count": 6,
   "id": "6b39e7fe-b6ab-4621-b50d-e5e8234e1940",
   "metadata": {},
   "outputs": [],
   "source": [
    "def generate_random_names():\n",
    "\n",
    "    random_names = []\n",
    "    for x in range(5) :\n",
    "        random_names.append(fake.name())\n",
    "    return  random_names  "
   ]
  },
  {
   "cell_type": "code",
   "execution_count": 7,
   "id": "a84c5d1d-0074-4457-ad28-c434670cd7c6",
   "metadata": {},
   "outputs": [],
   "source": [
    "# create a another function to call the above method "
   ]
  },
  {
   "cell_type": "code",
   "execution_count": 8,
   "id": "958e0adc-9b2b-45ce-922c-6fca7c7ec770",
   "metadata": {},
   "outputs": [],
   "source": [
    "def startpy():\n",
    "    random_name_list = generate_random_names()   \n",
    "    print(random_name_list)"
   ]
  },
  {
   "cell_type": "code",
   "execution_count": 9,
   "id": "004504f1-6fcb-49a3-a4cf-5a49c0f7d7e6",
   "metadata": {},
   "outputs": [
    {
     "name": "stdout",
     "output_type": "stream",
     "text": [
      "['Robert Robinson', 'Michael Rivera', 'Daryl Munoz', 'Martha Mendez', 'Stephen Ross']\n"
     ]
    }
   ],
   "source": [
    "startpy()"
   ]
  },
  {
   "cell_type": "code",
   "execution_count": null,
   "id": "b698b7da-916b-43d1-af89-70af252dc25e",
   "metadata": {},
   "outputs": [],
   "source": []
  }
 ],
 "metadata": {
  "kernelspec": {
   "display_name": "Python 3 (ipykernel)",
   "language": "python",
   "name": "python3"
  },
  "language_info": {
   "codemirror_mode": {
    "name": "ipython",
    "version": 3
   },
   "file_extension": ".py",
   "mimetype": "text/x-python",
   "name": "python",
   "nbconvert_exporter": "python",
   "pygments_lexer": "ipython3",
   "version": "3.12.4"
  }
 },
 "nbformat": 4,
 "nbformat_minor": 5
}
