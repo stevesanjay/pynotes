{
 "cells": [
  {
   "cell_type": "code",
   "execution_count": 1,
   "id": "e2ed06d8-ded0-478f-a121-4f28139cf5d5",
   "metadata": {},
   "outputs": [],
   "source": [
    "import csv"
   ]
  },
  {
   "cell_type": "code",
   "execution_count": 2,
   "id": "79aca78a-5789-4294-a9d5-512edb73dc21",
   "metadata": {},
   "outputs": [],
   "source": [
    "from faker import Faker"
   ]
  },
  {
   "cell_type": "code",
   "execution_count": 3,
   "id": "267f45f3-e8e1-47b5-b35b-f92be6542ce2",
   "metadata": {},
   "outputs": [],
   "source": [
    "fake = Faker()"
   ]
  },
  {
   "cell_type": "code",
   "execution_count": 4,
   "id": "8b183159-29ae-4da9-87da-714592a643d5",
   "metadata": {},
   "outputs": [],
   "source": [
    "datas = []"
   ]
  },
  {
   "cell_type": "code",
   "execution_count": 5,
   "id": "96aa5d24-904f-4fcf-a17d-2f9397e4f8d7",
   "metadata": {},
   "outputs": [],
   "source": [
    "def generate_data():\n",
    "    for i in range(1000):\n",
    "        row = [\n",
    "            i + 1,\n",
    "            fake.name(),\n",
    "            fake.email(),\n",
    "            f\"https://github.com/{fake.user_name()}\",\n",
    "            fake.city(),\n",
    "            fake.country(),\n",
    "            fake.state(),  \n",
    "            \n",
    "        ]\n",
    "        datas.append(row)\n",
    "    \n",
    "    csv_file = 'fake_data.csv'\n",
    "\n",
    "    with open(csv_file, mode='w') as file:\n",
    "        writer = csv.writer(file)\n",
    "        writer.writerow(['index','name','E mail' 'city', 'country', 'State', 'Github Link', 'phone_number'])\n",
    "        writer.writerows(datas)\n",
    "\n",
    "    print(f'1000 rows of fake data added to {csv_file}.')"
   ]
  },
  {
   "cell_type": "code",
   "execution_count": 6,
   "id": "29364aaf-8f38-4b21-852c-8f5cf662e1ef",
   "metadata": {},
   "outputs": [
    {
     "name": "stdout",
     "output_type": "stream",
     "text": [
      "1000 rows of fake data added to fake_data.csv.\n"
     ]
    }
   ],
   "source": [
    "generate_data()\n"
   ]
  },
  {
   "cell_type": "code",
   "execution_count": null,
   "id": "760fbfae-5fe6-4369-b4cd-d787089f6664",
   "metadata": {},
   "outputs": [],
   "source": []
  }
 ],
 "metadata": {
  "kernelspec": {
   "display_name": "Python 3 (ipykernel)",
   "language": "python",
   "name": "python3"
  },
  "language_info": {
   "codemirror_mode": {
    "name": "ipython",
    "version": 3
   },
   "file_extension": ".py",
   "mimetype": "text/x-python",
   "name": "python",
   "nbconvert_exporter": "python",
   "pygments_lexer": "ipython3",
   "version": "3.12.4"
  }
 },
 "nbformat": 4,
 "nbformat_minor": 5
}
