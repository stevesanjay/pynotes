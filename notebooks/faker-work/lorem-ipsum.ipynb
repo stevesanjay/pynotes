{
 "cells": [
  {
   "cell_type": "code",
   "execution_count": 1,
   "id": "5bc60f57-4586-4409-9260-007f73f6c0f3",
   "metadata": {},
   "outputs": [],
   "source": [
    "# Import necessary modules"
   ]
  },
  {
   "cell_type": "code",
   "execution_count": 2,
   "id": "9e0dee72-d113-46de-ab88-dbc072fcf79b",
   "metadata": {},
   "outputs": [],
   "source": [
    "from faker import Faker"
   ]
  },
  {
   "cell_type": "code",
   "execution_count": 3,
   "id": "3adaed07-8207-4258-9caf-13070b896e0e",
   "metadata": {},
   "outputs": [],
   "source": [
    "# Initialize Faker"
   ]
  },
  {
   "cell_type": "code",
   "execution_count": 4,
   "id": "33b92022-94a4-4d96-89a8-2c1b3596c031",
   "metadata": {},
   "outputs": [],
   "source": [
    "fake = Faker()"
   ]
  },
  {
   "cell_type": "code",
   "execution_count": null,
   "id": "ca7fcd02-f59f-46dd-9e3f-eebdf56dacbb",
   "metadata": {},
   "outputs": [],
   "source": [
    "# create a method to write a logic."
   ]
  },
  {
   "cell_type": "code",
   "execution_count": 5,
   "id": "fb6a33b3-3d13-4fc8-aeed-2c28b6a34bbd",
   "metadata": {},
   "outputs": [],
   "source": [
    "def startpy():\n",
    "    my_word_list = [\n",
    "    'danish','cheesecake','sugar',\n",
    "    'Lollipop','wafer','Gummies',\n",
    "    'sesame','Jelly','beans',\n",
    "    'pie','bar','Ice','oat' ]\n",
    "\n",
    "    print(fake.sentence())\n",
    "    # 'Expedita at beatae voluptatibus nulla omnis.'\n",
    "\n",
    "    print(fake.sentence(ext_word_list=my_word_list))"
   ]
  },
  {
   "cell_type": "code",
   "execution_count": 6,
   "id": "673ed1ba-8689-46f6-9192-49f5acfb870c",
   "metadata": {},
   "outputs": [
    {
     "name": "stdout",
     "output_type": "stream",
     "text": [
      "Provide vote expect that.\n",
      "Jelly oat Gummies sugar Jelly cheesecake.\n"
     ]
    }
   ],
   "source": [
    "startpy()"
   ]
  },
  {
   "cell_type": "code",
   "execution_count": null,
   "id": "466d33ed-a419-47c1-ac6c-fc63ed7824fd",
   "metadata": {},
   "outputs": [],
   "source": []
  }
 ],
 "metadata": {
  "kernelspec": {
   "display_name": "Python 3 (ipykernel)",
   "language": "python",
   "name": "python3"
  },
  "language_info": {
   "codemirror_mode": {
    "name": "ipython",
    "version": 3
   },
   "file_extension": ".py",
   "mimetype": "text/x-python",
   "name": "python",
   "nbconvert_exporter": "python",
   "pygments_lexer": "ipython3",
   "version": "3.12.4"
  }
 },
 "nbformat": 4,
 "nbformat_minor": 5
}
