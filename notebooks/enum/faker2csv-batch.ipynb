{
 "cells": [
  {
   "cell_type": "code",
   "execution_count": 1,
   "id": "e1249959-6046-4623-882c-fc1bf413ca16",
   "metadata": {},
   "outputs": [],
   "source": [
    "# Basic Enum Example"
   ]
  },
  {
   "cell_type": "code",
   "execution_count": 2,
   "id": "12dd890c-3733-4aaa-8bd3-b65d3c166f01",
   "metadata": {},
   "outputs": [],
   "source": [
    "# import necessary library"
   ]
  },
  {
   "cell_type": "code",
   "execution_count": 3,
   "id": "b4c16ad6-44d3-403c-8f54-394009d82ca8",
   "metadata": {},
   "outputs": [],
   "source": [
    "from enum import Enum"
   ]
  },
  {
   "cell_type": "code",
   "execution_count": 8,
   "id": "9fc21401-2b17-40eb-9aac-65a7d5ff054e",
   "metadata": {},
   "outputs": [],
   "source": [
    "from faker import Faker"
   ]
  },
  {
   "cell_type": "code",
   "execution_count": 9,
   "id": "2e264d8b-5f1b-402a-be87-8b1d12e683f2",
   "metadata": {},
   "outputs": [],
   "source": [
    "import random"
   ]
  },
  {
   "cell_type": "code",
   "execution_count": 10,
   "id": "102f8237-9a11-4adc-b0a8-2a6d2fc05f69",
   "metadata": {},
   "outputs": [],
   "source": [
    "import pandas as pd"
   ]
  },
  {
   "cell_type": "code",
   "execution_count": 11,
   "id": "1ba475e1-368c-4915-af4f-bf46a3899acb",
   "metadata": {},
   "outputs": [],
   "source": [
    "# Initialize Faker"
   ]
  },
  {
   "cell_type": "code",
   "execution_count": 12,
   "id": "06ce6f36-d769-4b72-9fd4-cdf5e8ce1f6b",
   "metadata": {},
   "outputs": [],
   "source": [
    "fake = Faker()"
   ]
  },
  {
   "cell_type": "code",
   "execution_count": 13,
   "id": "045ad3e6-031d-407e-927b-d4136bab6521",
   "metadata": {},
   "outputs": [],
   "source": [
    "# Define an Enum for job roles"
   ]
  },
  {
   "cell_type": "code",
   "execution_count": 14,
   "id": "f9bf2a26-535b-4a87-b5ce-5c902392a8c2",
   "metadata": {},
   "outputs": [],
   "source": [
    "class JobRole(Enum):\n",
    "    ENGINEER   = \"Engineer\"\n",
    "    MANAGER    = \"Manager\"\n",
    "    ANALYST    = \"Analyst\"\n",
    "    CONSULTANT = \"Consultant\"\n",
    "    DEVELOPER  = \"Developer\""
   ]
  },
  {
   "cell_type": "code",
   "execution_count": 15,
   "id": "74254ec0-3c81-4e78-b3a0-a56570ad536e",
   "metadata": {},
   "outputs": [],
   "source": [
    "# Function to generate random data"
   ]
  },
  {
   "cell_type": "code",
   "execution_count": 16,
   "id": "0bc058d2-0b61-427f-9322-12ed796242e3",
   "metadata": {},
   "outputs": [],
   "source": [
    "def generate_data(num_records):\n",
    "    data = []\n",
    "    for _ in range(num_records):\n",
    "        record = {\n",
    "            \"name\": fake.name(),\n",
    "            \"email\": fake.email(),\n",
    "            \"address\": fake.address(),\n",
    "            \"job_role\": random.choice(list(JobRole)).value,\n",
    "            \"company\": fake.company(),\n",
    "            \"phone_number\": fake.phone_number()\n",
    "        }\n",
    "        data.append(record)\n",
    "    return data"
   ]
  },
  {
   "cell_type": "code",
   "execution_count": 17,
   "id": "0fc958ee-60a8-49f0-9a60-7d7d9af3a885",
   "metadata": {},
   "outputs": [],
   "source": [
    "# Function to generate a batch of 5 records"
   ]
  },
  {
   "cell_type": "code",
   "execution_count": 18,
   "id": "2c1d1ce8-cf7d-4e7b-b498-478ab143a0c5",
   "metadata": {},
   "outputs": [],
   "source": [
    "def generate_batch():\n",
    "    batch = []\n",
    "    for _ in range(5):\n",
    "        record = {\n",
    "            \"name\": fake.name(),\n",
    "            \"email\": fake.email(),\n",
    "            \"address\": fake.address(),\n",
    "            \"job_role\": random.choice(list(JobRole)).value,\n",
    "            \"company\": fake.company(),\n",
    "            \"phone_number\": fake.phone_number()\n",
    "        }\n",
    "        batch.append(record)\n",
    "    return batch"
   ]
  },
  {
   "cell_type": "code",
   "execution_count": 19,
   "id": "6a032849-7b2e-4d29-8ba9-eacdb0880c99",
   "metadata": {},
   "outputs": [],
   "source": [
    "def startpy():\n",
    "\n",
    "    # Initialize an empty CSV file and write headers first\n",
    "    csv_file_path_incremental = 'user1.csv'\n",
    "    df = pd.DataFrame(generate_batch())  # Generate initial 5 rows for headers\n",
    "    df.to_csv(csv_file_path_incremental, index=False, mode='w')  # Write headers with initial data\n",
    "\n",
    "    # Generate remaining 995 rows in increments of 5 and append to CSV\n",
    "    for _ in range(199):  # Remaining 199 batches of 5 rows each = 995 rows\n",
    "        batch_data = generate_batch()\n",
    "        batch_df = pd.DataFrame(batch_data)\n",
    "        batch_df.to_csv(csv_file_path_incremental, index=False, mode='a', header=False)  # Append without headers"
   ]
  },
  {
   "cell_type": "code",
   "execution_count": 20,
   "id": "453df297-7ce0-4a0f-a1f3-1a5023af3016",
   "metadata": {},
   "outputs": [],
   "source": [
    "startpy()"
   ]
  },
  {
   "cell_type": "code",
   "execution_count": null,
   "id": "f2c20384-9645-4e9d-a78b-e173b9fe245b",
   "metadata": {},
   "outputs": [],
   "source": []
  }
 ],
 "metadata": {
  "kernelspec": {
   "display_name": "Python 3 (ipykernel)",
   "language": "python",
   "name": "python3"
  },
  "language_info": {
   "codemirror_mode": {
    "name": "ipython",
    "version": 3
   },
   "file_extension": ".py",
   "mimetype": "text/x-python",
   "name": "python",
   "nbconvert_exporter": "python",
   "pygments_lexer": "ipython3",
   "version": "3.12.4"
  }
 },
 "nbformat": 4,
 "nbformat_minor": 5
}
