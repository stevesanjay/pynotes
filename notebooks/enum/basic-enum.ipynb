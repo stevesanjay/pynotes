{
 "cells": [
  {
   "cell_type": "code",
   "execution_count": 2,
   "id": "5920009d-ff56-4319-8eac-b2b881738033",
   "metadata": {},
   "outputs": [],
   "source": [
    "# basic enum"
   ]
  },
  {
   "cell_type": "code",
   "execution_count": 3,
   "id": "0f861045-8140-46e1-b294-11f5b2650768",
   "metadata": {},
   "outputs": [],
   "source": [
    "# Import necessary modules"
   ]
  },
  {
   "cell_type": "code",
   "execution_count": 4,
   "id": "e6a95555-df4e-4a40-a5b3-4088be6b644d",
   "metadata": {},
   "outputs": [],
   "source": [
    "from enum import Enum"
   ]
  },
  {
   "cell_type": "code",
   "execution_count": 5,
   "id": "29f7921f-3298-470d-a1d4-689a18c8aa8b",
   "metadata": {},
   "outputs": [],
   "source": [
    "class AnimalEnum(Enum):\n",
    "    HORSE = 1\n",
    "    COW = 2\n",
    "    CHICKEN = 3\n",
    "    DOG = 4"
   ]
  },
  {
   "cell_type": "code",
   "execution_count": 6,
   "id": "9bb100e4-b7c1-4cbf-a9ec-819eee8cd977",
   "metadata": {},
   "outputs": [],
   "source": [
    "def startpy():\n",
    "    \n",
    "    print(AnimalEnum.CHICKEN)\n",
    "\n",
    "    for animal in AnimalEnum:\n",
    "        print('Name: {}  Value: {}'.format(animal, animal.value))"
   ]
  },
  {
   "cell_type": "code",
   "execution_count": 7,
   "id": "e0e955e0-afca-41ca-ac48-ca55dc4b9906",
   "metadata": {},
   "outputs": [
    {
     "name": "stdout",
     "output_type": "stream",
     "text": [
      "AnimalEnum.CHICKEN\n",
      "Name: AnimalEnum.HORSE  Value: 1\n",
      "Name: AnimalEnum.COW  Value: 2\n",
      "Name: AnimalEnum.CHICKEN  Value: 3\n",
      "Name: AnimalEnum.DOG  Value: 4\n"
     ]
    }
   ],
   "source": [
    "startpy()"
   ]
  },
  {
   "cell_type": "code",
   "execution_count": null,
   "id": "0190f557-2672-4aca-a6b9-00114dee448f",
   "metadata": {},
   "outputs": [],
   "source": []
  }
 ],
 "metadata": {
  "kernelspec": {
   "display_name": "Python 3 (ipykernel)",
   "language": "python",
   "name": "python3"
  },
  "language_info": {
   "codemirror_mode": {
    "name": "ipython",
    "version": 3
   },
   "file_extension": ".py",
   "mimetype": "text/x-python",
   "name": "python",
   "nbconvert_exporter": "python",
   "pygments_lexer": "ipython3",
   "version": "3.12.4"
  }
 },
 "nbformat": 4,
 "nbformat_minor": 5
}
